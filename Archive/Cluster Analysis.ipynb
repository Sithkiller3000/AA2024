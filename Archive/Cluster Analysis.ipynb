{
 "cells": [
  {
   "cell_type": "code",
   "execution_count": 1,
   "id": "685e7d9c-5f13-4d69-acf1-bbd8b409dcf7",
   "metadata": {},
   "outputs": [],
   "source": [
    "import pandas as pd\n",
    "from sklearn.preprocessing import StandardScaler\n",
    "import numpy as np\n",
    "from sklearn.cluster import KMeans\n",
    "import matplotlib.pyplot as plt\n",
    "import seaborn as sns\n",
    "\n",
    "#for json convertion\n",
    "import ast"
   ]
  },
  {
   "cell_type": "code",
   "execution_count": 2,
   "id": "93d77b5a-3e99-4aa4-b599-23ba8e356c65",
   "metadata": {},
   "outputs": [],
   "source": [
    "# Load Data Sets\n",
    "df1 = pd.read_csv('charging_sessions.csv')\n",
    "df2 = pd.read_csv('weather_burbank_airport.csv')"
   ]
  },
  {
   "cell_type": "code",
   "execution_count": 3,
   "id": "0cf553ac-4d82-485a-8cab-ca0d5986561a",
   "metadata": {},
   "outputs": [
    {
     "name": "stdout",
     "output_type": "stream",
     "text": [
      "   Unnamed: 0                        id             connectionTime  \\\n",
      "0           0  5e23b149f9af8b5fe4b973cf  2020-01-02 13:08:54+00:00   \n",
      "1           1  5e23b149f9af8b5fe4b973d0  2020-01-02 13:36:50+00:00   \n",
      "2           2  5e23b149f9af8b5fe4b973d1  2020-01-02 13:56:35+00:00   \n",
      "3           3  5e23b149f9af8b5fe4b973d2  2020-01-02 13:59:58+00:00   \n",
      "4           4  5e23b149f9af8b5fe4b973d3  2020-01-02 14:00:01+00:00   \n",
      "\n",
      "              disconnectTime           doneChargingTime  kWhDelivered  \\\n",
      "0  2020-01-02 19:11:15+00:00  2020-01-02 17:31:35+00:00        25.016   \n",
      "1  2020-01-02 22:38:21+00:00  2020-01-02 20:18:05+00:00        33.097   \n",
      "2  2020-01-03 00:39:22+00:00  2020-01-02 16:35:06+00:00         6.521   \n",
      "3  2020-01-02 16:38:39+00:00  2020-01-02 15:18:45+00:00         2.355   \n",
      "4  2020-01-02 22:08:40+00:00  2020-01-02 18:17:30+00:00        13.375   \n",
      "\n",
      "                                sessionID  siteID  spaceID    stationID  \\\n",
      "0  1_1_179_810_2020-01-02 13:08:53.870034       1  AG-3F30  1-1-179-810   \n",
      "1  1_1_193_825_2020-01-02 13:36:49.599853       1  AG-1F01  1-1-193-825   \n",
      "2  1_1_193_829_2020-01-02 13:56:35.214993       1  AG-1F03  1-1-193-829   \n",
      "3  1_1_193_820_2020-01-02 13:59:58.309319       1  AG-1F04  1-1-193-820   \n",
      "4  1_1_193_819_2020-01-02 14:00:00.779967       1  AG-1F06  1-1-193-819   \n",
      "\n",
      "              timezone  userID  \\\n",
      "0  America/Los_Angeles   194.0   \n",
      "1  America/Los_Angeles  4275.0   \n",
      "2  America/Los_Angeles   344.0   \n",
      "3  America/Los_Angeles  1117.0   \n",
      "4  America/Los_Angeles   334.0   \n",
      "\n",
      "                                          userInputs  \n",
      "0  [{'WhPerMile': 250, 'kWhRequested': 25.0, 'mil...  \n",
      "1  [{'WhPerMile': 280, 'kWhRequested': 70.0, 'mil...  \n",
      "2  [{'WhPerMile': 400, 'kWhRequested': 8.0, 'mile...  \n",
      "3  [{'WhPerMile': 400, 'kWhRequested': 8.0, 'mile...  \n",
      "4  [{'WhPerMile': 400, 'kWhRequested': 16.0, 'mil...  \n",
      "      city            timestamp  temperature  cloud_cover  \\\n",
      "0  Burbank  2018-01-01 08:53:00          9.0         33.0   \n",
      "1  Burbank  2018-01-01 09:53:00          9.0         33.0   \n",
      "2  Burbank  2018-01-01 10:53:00          9.0         21.0   \n",
      "3  Burbank  2018-01-01 11:53:00          9.0         29.0   \n",
      "4  Burbank  2018-01-01 12:53:00          8.0         33.0   \n",
      "\n",
      "  cloud_cover_description  pressure  windspeed  precipitation  \\\n",
      "0                    Fair    991.75        9.0            0.0   \n",
      "1                    Fair    992.08        0.0            0.0   \n",
      "2                    Haze    992.08        0.0            0.0   \n",
      "3           Partly Cloudy    992.08        0.0            0.0   \n",
      "4                    Fair    992.08        0.0            0.0   \n",
      "\n",
      "   felt_temperature  \n",
      "0               8.0  \n",
      "1               9.0  \n",
      "2               9.0  \n",
      "3               9.0  \n",
      "4               8.0  \n"
     ]
    }
   ],
   "source": [
    "#control if data was loaded\n",
    "print(df1.head())\n",
    "print(df2.head())"
   ]
  },
  {
   "cell_type": "markdown",
   "id": "ce60480c-36be-4252-b035-54e4f5bfc7d1",
   "metadata": {},
   "source": [
    "\n"
   ]
  },
  {
   "cell_type": "markdown",
   "id": "f32cf760-8c86-4ce0-9a83-d5373d4cfebd",
   "metadata": {},
   "source": [
    "Feature Engineering to focus on the relevant data for clustering"
   ]
  },
  {
   "cell_type": "markdown",
   "id": "c7d40918-6285-41ad-8f4c-172486be386d",
   "metadata": {},
   "source": [
    "1. Session Duration (minutes): Time between connectionTime and disconnectTime.\n",
    "2. Charging Duration (minutes): Time between connectionTime and doneChargingTime.\n",
    "3. Idle Duration (minutes): Time between doneChargingTime and disconnectTime.\n",
    "4. Charging Efficiency (kWh per minute): kWhDelivered / Charging Duration.\n",
    "5. User Inputs: Extract fields from the userInputs JSON object (e.g., kWhRequested, minutesAvailable).\n"
   ]
  },
  {
   "cell_type": "code",
   "execution_count": 4,
   "id": "8581ce81-23ff-485b-a798-41577f1cca98",
   "metadata": {},
   "outputs": [],
   "source": [
    "#since the data is in a string-format, there must be a conversion to datetime before performing calculations on it\n",
    "df1['connectionTime'] = pd.to_datetime(df1['connectionTime'])\n",
    "df1['disconnectTime'] = pd.to_datetime(df1['disconnectTime'])\n",
    "df1['doneChargingTime'] = pd.to_datetime(df1['doneChargingTime'])\n",
    "#calculating the session duration in minutes\n",
    "df1['session_duration'] = (df1['disconnectTime'] - df1['connectionTime']).dt.total_seconds() / 60\n",
    "df1['charging_duration'] = (df1['doneChargingTime'] - df1['connectionTime']).dt.total_seconds() / 60\n",
    "df1['idle_duration'] = (df1['disconnectTime'] - df1['doneChargingTime']).dt.total_seconds() / 60\n",
    "df1['charging_efficiency'] = df1['kWhDelivered'] / (df1['charging_duration'] / 60)"
   ]
  },
  {
   "cell_type": "code",
   "execution_count": 6,
   "id": "8f419247-39d0-465f-98f9-8cd30c8aa1ca",
   "metadata": {},
   "outputs": [
    {
     "name": "stdout",
     "output_type": "stream",
     "text": [
      "0    [{'WhPerMile': 250, 'kWhRequested': 25.0, 'mil...\n",
      "1    [{'WhPerMile': 280, 'kWhRequested': 70.0, 'mil...\n",
      "2    [{'WhPerMile': 400, 'kWhRequested': 8.0, 'mile...\n",
      "3    [{'WhPerMile': 400, 'kWhRequested': 8.0, 'mile...\n",
      "4    [{'WhPerMile': 400, 'kWhRequested': 16.0, 'mil...\n",
      "5    [{'WhPerMile': 600, 'kWhRequested': 24.0, 'mil...\n",
      "6    [{'WhPerMile': 385, 'kWhRequested': 65.45, 'mi...\n",
      "7    [{'WhPerMile': 300, 'kWhRequested': 45.0, 'mil...\n",
      "8    [{'WhPerMile': 400, 'kWhRequested': 40.0, 'mil...\n",
      "9    [{'WhPerMile': 400, 'kWhRequested': 20.0, 'mil...\n",
      "Name: userInputs, dtype: object\n",
      "[<class 'str'> <class 'float'>]\n"
     ]
    }
   ],
   "source": [
    "print(df1['userInputs'].head(10))  # Show the first 10 entries\n",
    "print(df1['userInputs'].apply(type).unique())  # Identify the types of data in the column"
   ]
  },
  {
   "cell_type": "code",
   "execution_count": 7,
   "id": "89923ed4-26a5-401e-9b02-60409b255049",
   "metadata": {},
   "outputs": [
    {
     "name": "stdout",
     "output_type": "stream",
     "text": [
      "[<class 'list'>]\n"
     ]
    }
   ],
   "source": [
    "#convert userInputs from string and float to lists\n",
    "\n",
    "def safe_eval(x):\n",
    "    try:\n",
    "        # Check if it's a string and try parsing it\n",
    "        if isinstance(x, str):\n",
    "            return ast.literal_eval(x)\n",
    "        # If it's NaN or None, return an empty list\n",
    "        elif x is None or (isinstance(x, float) and np.isnan(x)):\n",
    "            return []\n",
    "        # If it's already a list, return as is\n",
    "        elif isinstance(x, list):\n",
    "            return x\n",
    "        # If it's some other unexpected object, return as is or log a warning\n",
    "        else:\n",
    "            return []  # Default to empty list for unrecognized cases\n",
    "    except (ValueError, SyntaxError, TypeError):\n",
    "        # Handle parsing errors safely\n",
    "        return []\n",
    "\n",
    "# Apply the safe_eval function to the 'userInputs' column\n",
    "df1['userInputs'] = df1['userInputs'].apply(safe_eval)\n",
    "\n",
    "# Verify the data types after applying the function\n",
    "print(df1['userInputs'].apply(type).unique())"
   ]
  },
  {
   "cell_type": "code",
   "execution_count": 8,
   "id": "e1c6f162-104b-4c04-b50e-0c396c784c1e",
   "metadata": {},
   "outputs": [
    {
     "name": "stdout",
     "output_type": "stream",
     "text": [
      "   Unnamed: 0                        id            connectionTime  \\\n",
      "0           0  5e23b149f9af8b5fe4b973cf 2020-01-02 13:08:54+00:00   \n",
      "1           1  5e23b149f9af8b5fe4b973d0 2020-01-02 13:36:50+00:00   \n",
      "2           2  5e23b149f9af8b5fe4b973d1 2020-01-02 13:56:35+00:00   \n",
      "3           3  5e23b149f9af8b5fe4b973d2 2020-01-02 13:59:58+00:00   \n",
      "4           3  5e23b149f9af8b5fe4b973d2 2020-01-02 13:59:58+00:00   \n",
      "\n",
      "             disconnectTime          doneChargingTime  kWhDelivered  \\\n",
      "0 2020-01-02 19:11:15+00:00 2020-01-02 17:31:35+00:00        25.016   \n",
      "1 2020-01-02 22:38:21+00:00 2020-01-02 20:18:05+00:00        33.097   \n",
      "2 2020-01-03 00:39:22+00:00 2020-01-02 16:35:06+00:00         6.521   \n",
      "3 2020-01-02 16:38:39+00:00 2020-01-02 15:18:45+00:00         2.355   \n",
      "4 2020-01-02 16:38:39+00:00 2020-01-02 15:18:45+00:00         2.355   \n",
      "\n",
      "                                sessionID  siteID  spaceID    stationID  ...  \\\n",
      "0  1_1_179_810_2020-01-02 13:08:53.870034       1  AG-3F30  1-1-179-810  ...   \n",
      "1  1_1_193_825_2020-01-02 13:36:49.599853       1  AG-1F01  1-1-193-825  ...   \n",
      "2  1_1_193_829_2020-01-02 13:56:35.214993       1  AG-1F03  1-1-193-829  ...   \n",
      "3  1_1_193_820_2020-01-02 13:59:58.309319       1  AG-1F04  1-1-193-820  ...   \n",
      "4  1_1_193_820_2020-01-02 13:59:58.309319       1  AG-1F04  1-1-193-820  ...   \n",
      "\n",
      "  idle_duration  charging_efficiency WhPerMile  kWhRequested  milesRequested  \\\n",
      "0     99.666667             5.713952     250.0          25.0           100.0   \n",
      "1    140.266667             4.949084     280.0          70.0           250.0   \n",
      "2    484.266667             2.468258     400.0           8.0            20.0   \n",
      "3     79.900000             1.793527     400.0           8.0            20.0   \n",
      "4     79.900000             1.793527     400.0           8.0            20.0   \n",
      "\n",
      "   minutesAvailable                     modifiedAt  paymentRequired  \\\n",
      "0             463.0  Thu, 02 Jan 2020 13:09:39 GMT             True   \n",
      "1             595.0  Thu, 02 Jan 2020 13:37:11 GMT             True   \n",
      "2              60.0  Thu, 02 Jan 2020 13:57:17 GMT             True   \n",
      "3              65.0  Thu, 02 Jan 2020 14:00:03 GMT             True   \n",
      "4              65.0  Thu, 02 Jan 2020 14:00:19 GMT             True   \n",
      "\n",
      "              requestedDeparture  userID_y  \n",
      "0  Thu, 02 Jan 2020 20:51:54 GMT     194.0  \n",
      "1  Thu, 02 Jan 2020 23:31:50 GMT    4275.0  \n",
      "2  Thu, 02 Jan 2020 14:56:35 GMT     344.0  \n",
      "3  Thu, 02 Jan 2020 15:04:58 GMT    1117.0  \n",
      "4  Thu, 02 Jan 2020 15:04:58 GMT    1117.0  \n",
      "\n",
      "[5 rows x 25 columns]\n"
     ]
    }
   ],
   "source": [
    "# Explode and normalize userInputs\n",
    "exploded_user_inputs = df1['userInputs'].explode()\n",
    "\n",
    "# Normalize the dictionaries into columns\n",
    "user_inputs_normalized = pd.json_normalize(exploded_user_inputs)\n",
    "\n",
    "# Restore the original index for merging\n",
    "user_inputs_normalized['original_index'] = exploded_user_inputs.index\n",
    "\n",
    "# Merge normalized data back into the original DataFrame\n",
    "df1 = df1.merge(user_inputs_normalized, left_index=True, right_on='original_index', how='left')\n",
    "\n",
    "# Drop the auxiliary column\n",
    "df1.drop(columns=['original_index'], inplace=True, errors='ignore')\n",
    "\n",
    "# Inspect the updated DataFrame\n",
    "print(df1.head())"
   ]
  },
  {
   "cell_type": "code",
   "execution_count": 9,
   "id": "7e6d7095-a8bf-423b-afed-1d798619ebf4",
   "metadata": {},
   "outputs": [
    {
     "name": "stdout",
     "output_type": "stream",
     "text": [
      "   WhPerMile  kWhRequested  milesRequested  minutesAvailable  \\\n",
      "0      250.0          25.0           100.0             463.0   \n",
      "1      280.0          70.0           250.0             595.0   \n",
      "2      400.0           8.0            20.0              60.0   \n",
      "3      400.0           8.0            20.0              65.0   \n",
      "4      400.0           8.0            20.0              65.0   \n",
      "\n",
      "                      modifiedAt paymentRequired  \\\n",
      "0  Thu, 02 Jan 2020 13:09:39 GMT            True   \n",
      "1  Thu, 02 Jan 2020 13:37:11 GMT            True   \n",
      "2  Thu, 02 Jan 2020 13:57:17 GMT            True   \n",
      "3  Thu, 02 Jan 2020 14:00:03 GMT            True   \n",
      "4  Thu, 02 Jan 2020 14:00:19 GMT            True   \n",
      "\n",
      "              requestedDeparture  userID  original_index  \n",
      "0  Thu, 02 Jan 2020 20:51:54 GMT   194.0               0  \n",
      "1  Thu, 02 Jan 2020 23:31:50 GMT  4275.0               1  \n",
      "2  Thu, 02 Jan 2020 14:56:35 GMT   344.0               2  \n",
      "3  Thu, 02 Jan 2020 15:04:58 GMT  1117.0               3  \n",
      "4  Thu, 02 Jan 2020 15:04:58 GMT  1117.0               3  \n"
     ]
    }
   ],
   "source": [
    "print(user_inputs_normalized.head())"
   ]
  },
  {
   "cell_type": "code",
   "execution_count": 10,
   "id": "d54f699b-95d5-41f3-b5df-c47f506ddc8d",
   "metadata": {},
   "outputs": [
    {
     "name": "stdout",
     "output_type": "stream",
     "text": [
      "   session_duration  charging_duration  idle_duration  charging_efficiency  \\\n",
      "0        362.350000         262.683333      99.666667             5.713952   \n",
      "1        541.516667         401.250000     140.266667             4.949084   \n",
      "2        642.783333         158.516667     484.266667             2.468258   \n",
      "3        158.683333          78.783333      79.900000             1.793527   \n",
      "4        158.683333          78.783333      79.900000             1.793527   \n",
      "\n",
      "   kWhDelivered  \n",
      "0        25.016  \n",
      "1        33.097  \n",
      "2         6.521  \n",
      "3         2.355  \n",
      "4         2.355  \n"
     ]
    }
   ],
   "source": [
    "features = df1[['session_duration', 'charging_duration', 'idle_duration', 'charging_efficiency', 'kWhDelivered']]\n",
    "\n",
    "print(features.head())"
   ]
  },
  {
   "cell_type": "markdown",
   "id": "0e052d81-a7a8-4309-90de-5b11a0874671",
   "metadata": {},
   "source": [
    "Cleaning up the data in \"features\""
   ]
  },
  {
   "cell_type": "code",
   "execution_count": 11,
   "id": "9740ad8f-68c9-4da3-bcea-4134134de21e",
   "metadata": {},
   "outputs": [
    {
     "name": "stdout",
     "output_type": "stream",
     "text": [
      "session_duration          0\n",
      "charging_duration      5310\n",
      "idle_duration          5310\n",
      "charging_efficiency    5310\n",
      "kWhDelivered              0\n",
      "dtype: int64\n",
      "session_duration       0\n",
      "charging_duration      0\n",
      "idle_duration          0\n",
      "charging_efficiency    2\n",
      "kWhDelivered           0\n",
      "dtype: int64\n"
     ]
    }
   ],
   "source": [
    "print(features.isnull().sum())  # Check for missing values in each column\n",
    "print(np.isinf(features).sum())  # Check for infinite values"
   ]
  },
  {
   "cell_type": "markdown",
   "id": "b5ad783a-ea9f-49e7-8356-31b20545db06",
   "metadata": {},
   "source": [
    "There are several empty cells in the df. Therefore, there are two possible solutions: \n",
    "1. drop all rows with missing values\n",
    "2. add placeholder values by calculation eg. the mean"
   ]
  },
  {
   "cell_type": "code",
   "execution_count": 12,
   "id": "89ff220e-3fba-4e6f-805a-6f04a5fb381a",
   "metadata": {},
   "outputs": [],
   "source": [
    "#drop rows\n",
    "#features = features.dropna()"
   ]
  },
  {
   "cell_type": "code",
   "execution_count": 13,
   "id": "4213c051-93e9-487e-9c9a-282c789e39cb",
   "metadata": {},
   "outputs": [],
   "source": [
    "#add placeholders\n",
    "features.loc[:, 'charging_duration'] = features['charging_duration'].fillna(features['charging_duration'].median())\n",
    "features.loc[:, 'idle_duration'] = features['idle_duration'].fillna(0)  # Assuming 0 idle time where missing\n",
    "features.loc[:, 'charging_efficiency'] = features['charging_efficiency'].fillna(features['charging_efficiency'].mean())"
   ]
  },
  {
   "cell_type": "code",
   "execution_count": 14,
   "id": "e866e727-cfde-4805-ae43-a4169a9479ca",
   "metadata": {},
   "outputs": [
    {
     "name": "stdout",
     "output_type": "stream",
     "text": [
      "       session_duration  charging_duration  idle_duration  \\\n",
      "4937         666.600000         174.266667            0.0   \n",
      "4938         275.166667         174.266667            0.0   \n",
      "4939         483.316667         174.266667            0.0   \n",
      "4940         151.783333         174.266667            0.0   \n",
      "4941         517.033333         174.266667            0.0   \n",
      "...                 ...                ...            ...   \n",
      "73791        259.450000         174.266667            0.0   \n",
      "73797         54.433333         174.266667            0.0   \n",
      "73823         54.266667         174.266667            0.0   \n",
      "79497         24.366667         174.266667            0.0   \n",
      "79498         24.366667         174.266667            0.0   \n",
      "\n",
      "       charging_efficiency  kWhDelivered  \n",
      "4937                   inf        25.183  \n",
      "4938                   inf        14.136  \n",
      "4939                   inf        14.203  \n",
      "4940                   inf        13.041  \n",
      "4941                   inf         5.797  \n",
      "...                    ...           ...  \n",
      "73791                  inf        11.678  \n",
      "73797                  inf         3.343  \n",
      "73823                  inf         4.558  \n",
      "79497                  inf         2.218  \n",
      "79498                  inf         2.218  \n",
      "\n",
      "[5312 rows x 5 columns]\n"
     ]
    }
   ],
   "source": [
    "#Inspect, where infinite values appear\n",
    "print(features[np.isinf(features['charging_efficiency'])])"
   ]
  },
  {
   "cell_type": "code",
   "execution_count": 15,
   "id": "7f3a5756-9d1c-455f-ad46-bac2a8665c90",
   "metadata": {},
   "outputs": [],
   "source": [
    "#angepasste Formel zur Division, kann unter Umständen später entfernt werden, falls die Felder in denen nichts \n",
    "#steht schon früher im df entfernt wurden\n",
    "df1['charging_duration'] = df1['charging_duration'].replace(0, np.nan)"
   ]
  },
  {
   "cell_type": "code",
   "execution_count": 16,
   "id": "1454a8c1-4287-4d5c-9e2b-d1ad3c236b0e",
   "metadata": {},
   "outputs": [],
   "source": [
    "# Recalculate charging_efficiency to avoid dividing by zero\n",
    "df1['charging_efficiency'] = df1['kWhDelivered'] / (df1['charging_duration'] / 60)"
   ]
  },
  {
   "cell_type": "code",
   "execution_count": 17,
   "id": "a34f42b0-d076-4e9d-b5e9-aa65fdbf49d6",
   "metadata": {},
   "outputs": [],
   "source": [
    "# Replace NaN or inf values with a default value (e.g., 0 or median)\n",
    "df1['charging_efficiency'] = df1['charging_efficiency'].replace([np.inf, -np.inf], np.nan)  # Replace inf with NaN\n",
    "df1['charging_efficiency'] = df1['charging_efficiency'].fillna(0)  # Replace NaN with 0"
   ]
  },
  {
   "cell_type": "code",
   "execution_count": 18,
   "id": "aced4a9e-2aaf-4086-bc12-532970fd9080",
   "metadata": {},
   "outputs": [
    {
     "name": "stdout",
     "output_type": "stream",
     "text": [
      "       session_duration  charging_duration  idle_duration  \\\n",
      "4937         666.600000         174.266667            0.0   \n",
      "4938         275.166667         174.266667            0.0   \n",
      "4939         483.316667         174.266667            0.0   \n",
      "4940         151.783333         174.266667            0.0   \n",
      "4941         517.033333         174.266667            0.0   \n",
      "...                 ...                ...            ...   \n",
      "73791        259.450000         174.266667            0.0   \n",
      "73797         54.433333         174.266667            0.0   \n",
      "73823         54.266667         174.266667            0.0   \n",
      "79497         24.366667         174.266667            0.0   \n",
      "79498         24.366667         174.266667            0.0   \n",
      "\n",
      "       charging_efficiency  kWhDelivered  \n",
      "4937                   inf        25.183  \n",
      "4938                   inf        14.136  \n",
      "4939                   inf        14.203  \n",
      "4940                   inf        13.041  \n",
      "4941                   inf         5.797  \n",
      "...                    ...           ...  \n",
      "73791                  inf        11.678  \n",
      "73797                  inf         3.343  \n",
      "73823                  inf         4.558  \n",
      "79497                  inf         2.218  \n",
      "79498                  inf         2.218  \n",
      "\n",
      "[5312 rows x 5 columns]\n"
     ]
    }
   ],
   "source": [
    "print(features[np.isinf(features['charging_efficiency'])])"
   ]
  },
  {
   "cell_type": "code",
   "execution_count": 19,
   "id": "d9a9bbe4-7235-45ea-8f9a-b2108dc287f1",
   "metadata": {},
   "outputs": [],
   "source": [
    "#Zellen wurden rausgeworfen - muss man noch anpassen\n",
    "features = features[~np.isinf(features['charging_efficiency'])]"
   ]
  },
  {
   "cell_type": "markdown",
   "id": "4ac2f517-ae97-48cf-89cd-81647c9abf63",
   "metadata": {},
   "source": [
    "Normalizing the data for clustering"
   ]
  },
  {
   "cell_type": "code",
   "execution_count": 20,
   "id": "6847ffb8-e7be-48c4-9b32-86589400cb33",
   "metadata": {},
   "outputs": [],
   "source": [
    "scaler = StandardScaler()\n",
    "scaled_features = scaler.fit_transform(features)"
   ]
  },
  {
   "cell_type": "markdown",
   "id": "7e30073e-35b3-4ac7-bfc3-522adc6f2272",
   "metadata": {},
   "source": [
    "Cluster Analysis"
   ]
  },
  {
   "cell_type": "markdown",
   "id": "caa22e5b-7719-4228-9f7b-cb98291ef8a6",
   "metadata": {},
   "source": [
    "kMean"
   ]
  },
  {
   "cell_type": "code",
   "execution_count": 21,
   "id": "455e991f-d1b0-428a-8d48-c2414ef4f54a",
   "metadata": {},
   "outputs": [
    {
     "name": "stdout",
     "output_type": "stream",
     "text": [
      "(75327, 5)\n",
      "(80639, 25)\n"
     ]
    }
   ],
   "source": [
    "print(scaled_features.shape)  # Check the number of rows in scaled_features\n",
    "print(df1.shape)  # Check the number of rows in df1"
   ]
  },
  {
   "cell_type": "code",
   "execution_count": 22,
   "id": "f6135fc2-3d4e-4ccb-9b30-24e8e0c9d89d",
   "metadata": {},
   "outputs": [],
   "source": [
    "scaled_features_cleaned = scaled_features[~np.isinf(features['charging_efficiency']) & features['charging_efficiency'].notna()]"
   ]
  },
  {
   "cell_type": "code",
   "execution_count": 23,
   "id": "beb55e1c-7052-4510-b43a-259a3ce2e9de",
   "metadata": {},
   "outputs": [
    {
     "data": {
      "image/png": "[encoded data removed]",
      "text/plain": [
       "<Figure size 640x480 with 1 Axes>"
      ]
     },
     "metadata": {},
     "output_type": "display_data"
    }
   ],
   "source": [
    "# Determine optimal number of clusters (Elbow Method)\n",
    "inertia = []\n",
    "for k in range(1, 10):\n",
    "    kmeans = KMeans(n_clusters=k, random_state=42)\n",
    "    kmeans.fit(scaled_features_cleaned)\n",
    "    inertia.append(kmeans.inertia_)\n",
    "\n",
    "# Plot the Elbow Curve\n",
    "plt.plot(range(1, 10), inertia, marker='o')\n",
    "plt.title('Elbow Method')\n",
    "plt.xlabel('Number of Clusters')\n",
    "plt.ylabel('Inertia')\n",
    "plt.show()\n",
    "\n",
    "# Apply KMeans with optimal clusters\n",
    "# Apply KMeans clustering with optimal number of clusters\n",
    "kmeans = KMeans(n_clusters=3, random_state=42)\n",
    "features['cluster'] = kmeans.fit_predict(scaled_features)"
   ]
  },
  {
   "cell_type": "code",
   "execution_count": 24,
   "id": "d6612315-f207-4e51-b386-fc8e9f95177f",
   "metadata": {},
   "outputs": [
    {
     "name": "stdout",
     "output_type": "stream",
     "text": [
      "         session_duration  charging_duration  idle_duration  \\\n",
      "cluster                                                       \n",
      "0              183.810670         135.747263      48.063408   \n",
      "1              582.847429         184.223852     398.623577   \n",
      "2              536.738864         450.191221      86.547643   \n",
      "\n",
      "         charging_efficiency  kWhDelivered  \n",
      "cluster                                     \n",
      "0                   3.873154      8.003806  \n",
      "1                   3.169650      9.154121  \n",
      "2                   0.670656     26.975604  \n"
     ]
    }
   ],
   "source": [
    "cluster_summary = features.groupby('cluster').mean()\n",
    "print(cluster_summary)"
   ]
  },
  {
   "cell_type": "markdown",
   "id": "369753ab-9ccf-4a6c-a794-b3df2b3f6437",
   "metadata": {},
   "source": [
    "Visualize data with scatterplot"
   ]
  },
  {
   "cell_type": "code",
   "execution_count": 25,
   "id": "ebb80980-0973-45ea-9350-c414ecd07058",
   "metadata": {},
   "outputs": [
    {
     "data": {
      "image/png": "[encoded data removed]",
      "text/plain": [
       "<Figure size 640x480 with 1 Axes>"
      ]
     },
     "metadata": {},
     "output_type": "display_data"
    }
   ],
   "source": [
    "sns.scatterplot(data=features, x='charging_duration', y='kWhDelivered', hue='cluster', palette='Set1')\n",
    "plt.title('Clusters of Charging Sessions')\n",
    "plt.xlabel('Charging Duration (minutes)')\n",
    "plt.ylabel('Energy Delivered (kWh)')\n",
    "plt.show()"
   ]
  },
  {
   "cell_type": "markdown",
   "id": "ef2d2c68-95ac-4f09-90c7-82b918e848d5",
   "metadata": {},
   "source": [
    "Cluster Descriptions\n",
    "Cluster 0: Quick Charges\n",
    "\n",
    "Charging Duration: Short\n",
    "Energy Delivered: Low\n",
    "Charging Efficiency: High\n",
    "Explanation: These are charging sessions that are completed relatively quickly with minimal energy delivered, and the efficiency of charging is high. This could represent users who only need to charge a small amount or those charging at higher power levels, enabling fast but short sessions.\n",
    "\n",
    "Cluster 1: Standard Charges\n",
    "\n",
    "Charging Duration: Moderate\n",
    "Energy Delivered: Moderate\n",
    "Charging Efficiency: Moderate\n",
    "Explanation: This is the most typical cluster, where charging duration and energy delivered are in a moderate range. The charging efficiency is also in a normal range, which could represent the bulk of regular charging sessions where users are charging their vehicles for a typical amount of time to a reasonable energy level.\n",
    "\n",
    "Cluster 2: Long Charges\n",
    "\n",
    "Charging Duration: Long\n",
    "Energy Delivered: High\n",
    "Charging Efficiency: Moderate to low\n",
    "Explanation: These charging sessions take longer and deliver more energy, often with longer idle times. Efficiency might be lower due to charging inefficiencies or because the vehicles were charged at lower power rates or for extended periods (e.g., overnight charging)."
   ]
  },
  {
   "cell_type": "markdown",
   "id": "e141356f-861a-4f31-aac1-d5f764814cc0",
   "metadata": {},
   "source": [
    "Optimize Infrastructure\n",
    "\n",
    "Allocation of Chargers: Understanding the different charging behaviors can help optimize the deployment of chargers in certain locations. For example, areas with a high proportion of Long Charges might require more powerful chargers or more charging stations to handle the longer charging durations and higher energy demand. Similarly, Quick Charges can be served by smaller, faster chargers.\n",
    "\n",
    "Predict Behavior\n",
    "\n",
    "Demand Forecasting: By recognizing these clusters, you can predict charging behavior and demand patterns for future periods. For instance, Long Charges might be more common during off-peak hours (such as overnight), while Quick Charges may peak during the day. This can help in planning for peak usage times and ensuring adequate infrastructure availability.\n",
    "\n",
    "Tailored Pricing\n",
    "\n",
    "Create Pricing Strategies: Each cluster could have different pricing strategies. For example:\n",
    "Quick Charges could be priced at a premium for efficiency, encouraging fast but short charges during high-demand periods.\n",
    "Standard Charges might follow a normal pricing strategy.\n",
    "Long Charges could be incentivized with discounts or flat rates due to their longer duration, or a premium could be charged for high idle time or inefficiency."
   ]
  },
  {
   "cell_type": "code",
   "execution_count": null,
   "id": "cbccaeae-6128-4663-b875-df1c08d2006b",
   "metadata": {},
   "outputs": [],
   "source": []
  },
  {
   "cell_type": "code",
   "execution_count": null,
   "id": "de372402-90c2-4db4-9123-6e5f65b77414",
   "metadata": {},
   "outputs": [],
   "source": []
  }
 ],
 "metadata": {
  "kernelspec": {
   "display_name": "Python 3 (ipykernel)",
   "language": "python",
   "name": "python3"
  },
  "language_info": {
   "codemirror_mode": {
    "name": "ipython",
    "version": 3
   },
   "file_extension": ".py",
   "mimetype": "text/x-python",
   "name": "python",
   "nbconvert_exporter": "python",
   "pygments_lexer": "ipython3",
   "version": "3.12.7"
  }
 },
 "nbformat": 4,
 "nbformat_minor": 5
}
