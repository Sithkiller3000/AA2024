{
 "cells": [
  {
   "cell_type": "code",
   "execution_count": 2,
   "metadata": {},
   "outputs": [],
   "source": [
    "import pandas as pd\n",
    "import matplotlib.pyplot as plt\n",
    "import numpy as np"
   ]
  },
  {
   "cell_type": "code",
   "execution_count": 3,
   "metadata": {},
   "outputs": [],
   "source": [
    "df = pd.read_csv(\"charging_sessions.csv\")"
   ]
  },
  {
   "cell_type": "markdown",
   "metadata": {},
   "source": [
    "Erstmal Infos sammeln"
   ]
  },
  {
   "cell_type": "code",
   "execution_count": 4,
   "metadata": {},
   "outputs": [
    {
     "data": {
      "text/html": [
       "<div>\n",
       "<style scoped>\n",
       "    .dataframe tbody tr th:only-of-type {\n",
       "        vertical-align: middle;\n",
       "    }\n",
       "\n",
       "    .dataframe tbody tr th {\n",
       "        vertical-align: top;\n",
       "    }\n",
       "\n",
       "    .dataframe thead th {\n",
       "        text-align: right;\n",
       "    }\n",
       "</style>\n",
       "<table border=\"1\" class=\"dataframe\">\n",
       "  <thead>\n",
       "    <tr style=\"text-align: right;\">\n",
       "      <th></th>\n",
       "      <th>Unnamed: 0</th>\n",
       "      <th>id</th>\n",
       "      <th>connectionTime</th>\n",
       "      <th>disconnectTime</th>\n",
       "      <th>doneChargingTime</th>\n",
       "      <th>kWhDelivered</th>\n",
       "      <th>sessionID</th>\n",
       "      <th>siteID</th>\n",
       "      <th>spaceID</th>\n",
       "      <th>stationID</th>\n",
       "      <th>timezone</th>\n",
       "      <th>userID</th>\n",
       "      <th>userInputs</th>\n",
       "    </tr>\n",
       "  </thead>\n",
       "  <tbody>\n",
       "    <tr>\n",
       "      <th>0</th>\n",
       "      <td>0</td>\n",
       "      <td>5e23b149f9af8b5fe4b973cf</td>\n",
       "      <td>2020-01-02 13:08:54+00:00</td>\n",
       "      <td>2020-01-02 19:11:15+00:00</td>\n",
       "      <td>2020-01-02 17:31:35+00:00</td>\n",
       "      <td>25.016</td>\n",
       "      <td>1_1_179_810_2020-01-02 13:08:53.870034</td>\n",
       "      <td>1</td>\n",
       "      <td>AG-3F30</td>\n",
       "      <td>1-1-179-810</td>\n",
       "      <td>America/Los_Angeles</td>\n",
       "      <td>194.0</td>\n",
       "      <td>[{'WhPerMile': 250, 'kWhRequested': 25.0, 'mil...</td>\n",
       "    </tr>\n",
       "    <tr>\n",
       "      <th>1</th>\n",
       "      <td>1</td>\n",
       "      <td>5e23b149f9af8b5fe4b973d0</td>\n",
       "      <td>2020-01-02 13:36:50+00:00</td>\n",
       "      <td>2020-01-02 22:38:21+00:00</td>\n",
       "      <td>2020-01-02 20:18:05+00:00</td>\n",
       "      <td>33.097</td>\n",
       "      <td>1_1_193_825_2020-01-02 13:36:49.599853</td>\n",
       "      <td>1</td>\n",
       "      <td>AG-1F01</td>\n",
       "      <td>1-1-193-825</td>\n",
       "      <td>America/Los_Angeles</td>\n",
       "      <td>4275.0</td>\n",
       "      <td>[{'WhPerMile': 280, 'kWhRequested': 70.0, 'mil...</td>\n",
       "    </tr>\n",
       "    <tr>\n",
       "      <th>2</th>\n",
       "      <td>2</td>\n",
       "      <td>5e23b149f9af8b5fe4b973d1</td>\n",
       "      <td>2020-01-02 13:56:35+00:00</td>\n",
       "      <td>2020-01-03 00:39:22+00:00</td>\n",
       "      <td>2020-01-02 16:35:06+00:00</td>\n",
       "      <td>6.521</td>\n",
       "      <td>1_1_193_829_2020-01-02 13:56:35.214993</td>\n",
       "      <td>1</td>\n",
       "      <td>AG-1F03</td>\n",
       "      <td>1-1-193-829</td>\n",
       "      <td>America/Los_Angeles</td>\n",
       "      <td>344.0</td>\n",
       "      <td>[{'WhPerMile': 400, 'kWhRequested': 8.0, 'mile...</td>\n",
       "    </tr>\n",
       "    <tr>\n",
       "      <th>3</th>\n",
       "      <td>3</td>\n",
       "      <td>5e23b149f9af8b5fe4b973d2</td>\n",
       "      <td>2020-01-02 13:59:58+00:00</td>\n",
       "      <td>2020-01-02 16:38:39+00:00</td>\n",
       "      <td>2020-01-02 15:18:45+00:00</td>\n",
       "      <td>2.355</td>\n",
       "      <td>1_1_193_820_2020-01-02 13:59:58.309319</td>\n",
       "      <td>1</td>\n",
       "      <td>AG-1F04</td>\n",
       "      <td>1-1-193-820</td>\n",
       "      <td>America/Los_Angeles</td>\n",
       "      <td>1117.0</td>\n",
       "      <td>[{'WhPerMile': 400, 'kWhRequested': 8.0, 'mile...</td>\n",
       "    </tr>\n",
       "    <tr>\n",
       "      <th>4</th>\n",
       "      <td>4</td>\n",
       "      <td>5e23b149f9af8b5fe4b973d3</td>\n",
       "      <td>2020-01-02 14:00:01+00:00</td>\n",
       "      <td>2020-01-02 22:08:40+00:00</td>\n",
       "      <td>2020-01-02 18:17:30+00:00</td>\n",
       "      <td>13.375</td>\n",
       "      <td>1_1_193_819_2020-01-02 14:00:00.779967</td>\n",
       "      <td>1</td>\n",
       "      <td>AG-1F06</td>\n",
       "      <td>1-1-193-819</td>\n",
       "      <td>America/Los_Angeles</td>\n",
       "      <td>334.0</td>\n",
       "      <td>[{'WhPerMile': 400, 'kWhRequested': 16.0, 'mil...</td>\n",
       "    </tr>\n",
       "  </tbody>\n",
       "</table>\n",
       "</div>"
      ],
      "text/plain": [
       "   Unnamed: 0                        id             connectionTime  \\\n",
       "0           0  5e23b149f9af8b5fe4b973cf  2020-01-02 13:08:54+00:00   \n",
       "1           1  5e23b149f9af8b5fe4b973d0  2020-01-02 13:36:50+00:00   \n",
       "2           2  5e23b149f9af8b5fe4b973d1  2020-01-02 13:56:35+00:00   \n",
       "3           3  5e23b149f9af8b5fe4b973d2  2020-01-02 13:59:58+00:00   \n",
       "4           4  5e23b149f9af8b5fe4b973d3  2020-01-02 14:00:01+00:00   \n",
       "\n",
       "              disconnectTime           doneChargingTime  kWhDelivered  \\\n",
       "0  2020-01-02 19:11:15+00:00  2020-01-02 17:31:35+00:00        25.016   \n",
       "1  2020-01-02 22:38:21+00:00  2020-01-02 20:18:05+00:00        33.097   \n",
       "2  2020-01-03 00:39:22+00:00  2020-01-02 16:35:06+00:00         6.521   \n",
       "3  2020-01-02 16:38:39+00:00  2020-01-02 15:18:45+00:00         2.355   \n",
       "4  2020-01-02 22:08:40+00:00  2020-01-02 18:17:30+00:00        13.375   \n",
       "\n",
       "                                sessionID  siteID  spaceID    stationID  \\\n",
       "0  1_1_179_810_2020-01-02 13:08:53.870034       1  AG-3F30  1-1-179-810   \n",
       "1  1_1_193_825_2020-01-02 13:36:49.599853       1  AG-1F01  1-1-193-825   \n",
       "2  1_1_193_829_2020-01-02 13:56:35.214993       1  AG-1F03  1-1-193-829   \n",
       "3  1_1_193_820_2020-01-02 13:59:58.309319       1  AG-1F04  1-1-193-820   \n",
       "4  1_1_193_819_2020-01-02 14:00:00.779967       1  AG-1F06  1-1-193-819   \n",
       "\n",
       "              timezone  userID  \\\n",
       "0  America/Los_Angeles   194.0   \n",
       "1  America/Los_Angeles  4275.0   \n",
       "2  America/Los_Angeles   344.0   \n",
       "3  America/Los_Angeles  1117.0   \n",
       "4  America/Los_Angeles   334.0   \n",
       "\n",
       "                                          userInputs  \n",
       "0  [{'WhPerMile': 250, 'kWhRequested': 25.0, 'mil...  \n",
       "1  [{'WhPerMile': 280, 'kWhRequested': 70.0, 'mil...  \n",
       "2  [{'WhPerMile': 400, 'kWhRequested': 8.0, 'mile...  \n",
       "3  [{'WhPerMile': 400, 'kWhRequested': 8.0, 'mile...  \n",
       "4  [{'WhPerMile': 400, 'kWhRequested': 16.0, 'mil...  "
      ]
     },
     "execution_count": 4,
     "metadata": {},
     "output_type": "execute_result"
    }
   ],
   "source": [
    "df.head()"
   ]
  },
  {
   "cell_type": "code",
   "execution_count": 5,
   "metadata": {},
   "outputs": [
    {
     "name": "stdout",
     "output_type": "stream",
     "text": [
      "<class 'pandas.core.frame.DataFrame'>\n",
      "RangeIndex: 66450 entries, 0 to 66449\n",
      "Data columns (total 13 columns):\n",
      " #   Column            Non-Null Count  Dtype  \n",
      "---  ------            --------------  -----  \n",
      " 0   Unnamed: 0        66450 non-null  int64  \n",
      " 1   id                66450 non-null  object \n",
      " 2   connectionTime    66450 non-null  object \n",
      " 3   disconnectTime    66450 non-null  object \n",
      " 4   doneChargingTime  62362 non-null  object \n",
      " 5   kWhDelivered      66450 non-null  float64\n",
      " 6   sessionID         66450 non-null  object \n",
      " 7   siteID            66450 non-null  int64  \n",
      " 8   spaceID           66450 non-null  object \n",
      " 9   stationID         66450 non-null  object \n",
      " 10  timezone          66450 non-null  object \n",
      " 11  userID            49187 non-null  float64\n",
      " 12  userInputs        49187 non-null  object \n",
      "dtypes: float64(2), int64(2), object(9)\n",
      "memory usage: 6.6+ MB\n"
     ]
    }
   ],
   "source": [
    "df.info()"
   ]
  },
  {
   "cell_type": "code",
   "execution_count": 6,
   "metadata": {},
   "outputs": [
    {
     "data": {
      "text/plain": [
       "Unnamed: 0              0\n",
       "id                      0\n",
       "connectionTime          0\n",
       "disconnectTime          0\n",
       "doneChargingTime     4088\n",
       "kWhDelivered            0\n",
       "sessionID               0\n",
       "siteID                  0\n",
       "spaceID                 0\n",
       "stationID               0\n",
       "timezone                0\n",
       "userID              17263\n",
       "userInputs          17263\n",
       "dtype: int64"
      ]
     },
     "execution_count": 6,
     "metadata": {},
     "output_type": "execute_result"
    }
   ],
   "source": [
    "fehlende_werte = df.isnull().sum()\n",
    "fehlende_werte"
   ]
  },
  {
   "cell_type": "markdown",
   "metadata": {},
   "source": [
    "Checken ob alle ids und die Spalte unnamed unique Einträge hat"
   ]
  },
  {
   "cell_type": "code",
   "execution_count": 7,
   "metadata": {},
   "outputs": [
    {
     "data": {
      "text/plain": [
       "15292"
      ]
     },
     "execution_count": 7,
     "metadata": {},
     "output_type": "execute_result"
    }
   ],
   "source": [
    "duplicates = df[\"Unnamed: 0\"].unique()\n",
    "len(duplicates)"
   ]
  },
  {
   "cell_type": "markdown",
   "metadata": {},
   "source": [
    "Die Spalte \"Unnamed: 0\" geht von 0 bis 15292 und wiederholt sich dann. Also löschen wir die komplett"
   ]
  },
  {
   "cell_type": "code",
   "execution_count": 8,
   "metadata": {},
   "outputs": [
    {
     "data": {
      "text/html": [
       "<div>\n",
       "<style scoped>\n",
       "    .dataframe tbody tr th:only-of-type {\n",
       "        vertical-align: middle;\n",
       "    }\n",
       "\n",
       "    .dataframe tbody tr th {\n",
       "        vertical-align: top;\n",
       "    }\n",
       "\n",
       "    .dataframe thead th {\n",
       "        text-align: right;\n",
       "    }\n",
       "</style>\n",
       "<table border=\"1\" class=\"dataframe\">\n",
       "  <thead>\n",
       "    <tr style=\"text-align: right;\">\n",
       "      <th></th>\n",
       "      <th>id</th>\n",
       "      <th>connectionTime</th>\n",
       "      <th>disconnectTime</th>\n",
       "      <th>doneChargingTime</th>\n",
       "      <th>kWhDelivered</th>\n",
       "      <th>sessionID</th>\n",
       "      <th>siteID</th>\n",
       "      <th>spaceID</th>\n",
       "      <th>stationID</th>\n",
       "      <th>timezone</th>\n",
       "      <th>userID</th>\n",
       "      <th>userInputs</th>\n",
       "    </tr>\n",
       "  </thead>\n",
       "  <tbody>\n",
       "    <tr>\n",
       "      <th>0</th>\n",
       "      <td>5e23b149f9af8b5fe4b973cf</td>\n",
       "      <td>2020-01-02 13:08:54+00:00</td>\n",
       "      <td>2020-01-02 19:11:15+00:00</td>\n",
       "      <td>2020-01-02 17:31:35+00:00</td>\n",
       "      <td>25.016</td>\n",
       "      <td>1_1_179_810_2020-01-02 13:08:53.870034</td>\n",
       "      <td>1</td>\n",
       "      <td>AG-3F30</td>\n",
       "      <td>1-1-179-810</td>\n",
       "      <td>America/Los_Angeles</td>\n",
       "      <td>194.0</td>\n",
       "      <td>[{'WhPerMile': 250, 'kWhRequested': 25.0, 'mil...</td>\n",
       "    </tr>\n",
       "    <tr>\n",
       "      <th>1</th>\n",
       "      <td>5e23b149f9af8b5fe4b973d0</td>\n",
       "      <td>2020-01-02 13:36:50+00:00</td>\n",
       "      <td>2020-01-02 22:38:21+00:00</td>\n",
       "      <td>2020-01-02 20:18:05+00:00</td>\n",
       "      <td>33.097</td>\n",
       "      <td>1_1_193_825_2020-01-02 13:36:49.599853</td>\n",
       "      <td>1</td>\n",
       "      <td>AG-1F01</td>\n",
       "      <td>1-1-193-825</td>\n",
       "      <td>America/Los_Angeles</td>\n",
       "      <td>4275.0</td>\n",
       "      <td>[{'WhPerMile': 280, 'kWhRequested': 70.0, 'mil...</td>\n",
       "    </tr>\n",
       "    <tr>\n",
       "      <th>2</th>\n",
       "      <td>5e23b149f9af8b5fe4b973d1</td>\n",
       "      <td>2020-01-02 13:56:35+00:00</td>\n",
       "      <td>2020-01-03 00:39:22+00:00</td>\n",
       "      <td>2020-01-02 16:35:06+00:00</td>\n",
       "      <td>6.521</td>\n",
       "      <td>1_1_193_829_2020-01-02 13:56:35.214993</td>\n",
       "      <td>1</td>\n",
       "      <td>AG-1F03</td>\n",
       "      <td>1-1-193-829</td>\n",
       "      <td>America/Los_Angeles</td>\n",
       "      <td>344.0</td>\n",
       "      <td>[{'WhPerMile': 400, 'kWhRequested': 8.0, 'mile...</td>\n",
       "    </tr>\n",
       "    <tr>\n",
       "      <th>3</th>\n",
       "      <td>5e23b149f9af8b5fe4b973d2</td>\n",
       "      <td>2020-01-02 13:59:58+00:00</td>\n",
       "      <td>2020-01-02 16:38:39+00:00</td>\n",
       "      <td>2020-01-02 15:18:45+00:00</td>\n",
       "      <td>2.355</td>\n",
       "      <td>1_1_193_820_2020-01-02 13:59:58.309319</td>\n",
       "      <td>1</td>\n",
       "      <td>AG-1F04</td>\n",
       "      <td>1-1-193-820</td>\n",
       "      <td>America/Los_Angeles</td>\n",
       "      <td>1117.0</td>\n",
       "      <td>[{'WhPerMile': 400, 'kWhRequested': 8.0, 'mile...</td>\n",
       "    </tr>\n",
       "    <tr>\n",
       "      <th>4</th>\n",
       "      <td>5e23b149f9af8b5fe4b973d3</td>\n",
       "      <td>2020-01-02 14:00:01+00:00</td>\n",
       "      <td>2020-01-02 22:08:40+00:00</td>\n",
       "      <td>2020-01-02 18:17:30+00:00</td>\n",
       "      <td>13.375</td>\n",
       "      <td>1_1_193_819_2020-01-02 14:00:00.779967</td>\n",
       "      <td>1</td>\n",
       "      <td>AG-1F06</td>\n",
       "      <td>1-1-193-819</td>\n",
       "      <td>America/Los_Angeles</td>\n",
       "      <td>334.0</td>\n",
       "      <td>[{'WhPerMile': 400, 'kWhRequested': 16.0, 'mil...</td>\n",
       "    </tr>\n",
       "  </tbody>\n",
       "</table>\n",
       "</div>"
      ],
      "text/plain": [
       "                         id             connectionTime  \\\n",
       "0  5e23b149f9af8b5fe4b973cf  2020-01-02 13:08:54+00:00   \n",
       "1  5e23b149f9af8b5fe4b973d0  2020-01-02 13:36:50+00:00   \n",
       "2  5e23b149f9af8b5fe4b973d1  2020-01-02 13:56:35+00:00   \n",
       "3  5e23b149f9af8b5fe4b973d2  2020-01-02 13:59:58+00:00   \n",
       "4  5e23b149f9af8b5fe4b973d3  2020-01-02 14:00:01+00:00   \n",
       "\n",
       "              disconnectTime           doneChargingTime  kWhDelivered  \\\n",
       "0  2020-01-02 19:11:15+00:00  2020-01-02 17:31:35+00:00        25.016   \n",
       "1  2020-01-02 22:38:21+00:00  2020-01-02 20:18:05+00:00        33.097   \n",
       "2  2020-01-03 00:39:22+00:00  2020-01-02 16:35:06+00:00         6.521   \n",
       "3  2020-01-02 16:38:39+00:00  2020-01-02 15:18:45+00:00         2.355   \n",
       "4  2020-01-02 22:08:40+00:00  2020-01-02 18:17:30+00:00        13.375   \n",
       "\n",
       "                                sessionID  siteID  spaceID    stationID  \\\n",
       "0  1_1_179_810_2020-01-02 13:08:53.870034       1  AG-3F30  1-1-179-810   \n",
       "1  1_1_193_825_2020-01-02 13:36:49.599853       1  AG-1F01  1-1-193-825   \n",
       "2  1_1_193_829_2020-01-02 13:56:35.214993       1  AG-1F03  1-1-193-829   \n",
       "3  1_1_193_820_2020-01-02 13:59:58.309319       1  AG-1F04  1-1-193-820   \n",
       "4  1_1_193_819_2020-01-02 14:00:00.779967       1  AG-1F06  1-1-193-819   \n",
       "\n",
       "              timezone  userID  \\\n",
       "0  America/Los_Angeles   194.0   \n",
       "1  America/Los_Angeles  4275.0   \n",
       "2  America/Los_Angeles   344.0   \n",
       "3  America/Los_Angeles  1117.0   \n",
       "4  America/Los_Angeles   334.0   \n",
       "\n",
       "                                          userInputs  \n",
       "0  [{'WhPerMile': 250, 'kWhRequested': 25.0, 'mil...  \n",
       "1  [{'WhPerMile': 280, 'kWhRequested': 70.0, 'mil...  \n",
       "2  [{'WhPerMile': 400, 'kWhRequested': 8.0, 'mile...  \n",
       "3  [{'WhPerMile': 400, 'kWhRequested': 8.0, 'mile...  \n",
       "4  [{'WhPerMile': 400, 'kWhRequested': 16.0, 'mil...  "
      ]
     },
     "execution_count": 8,
     "metadata": {},
     "output_type": "execute_result"
    }
   ],
   "source": [
    "df.drop(columns=\"Unnamed: 0\", inplace=True)\n",
    "df.head()"
   ]
  },
  {
   "cell_type": "markdown",
   "metadata": {},
   "source": [
    "Die fehlenden Werte in \"doneChargingTime\" sind vermutlich entstanden, wenn jemand weitergefahren ist, obwohl ein Auto noch nicht zu 100% aufgeladen war."
   ]
  },
  {
   "cell_type": "markdown",
   "metadata": {},
   "source": [
    "Die Zeiten werden auf datetime umgeformt, damit wir später einfacher damit rechnen können"
   ]
  },
  {
   "cell_type": "code",
   "execution_count": 9,
   "metadata": {},
   "outputs": [
    {
     "name": "stdout",
     "output_type": "stream",
     "text": [
      "<class 'pandas.core.frame.DataFrame'>\n",
      "RangeIndex: 66450 entries, 0 to 66449\n",
      "Data columns (total 12 columns):\n",
      " #   Column            Non-Null Count  Dtype              \n",
      "---  ------            --------------  -----              \n",
      " 0   id                66450 non-null  object             \n",
      " 1   connectionTime    66450 non-null  datetime64[ns, UTC]\n",
      " 2   disconnectTime    66450 non-null  datetime64[ns, UTC]\n",
      " 3   doneChargingTime  62362 non-null  datetime64[ns, UTC]\n",
      " 4   kWhDelivered      66450 non-null  float64            \n",
      " 5   sessionID         66450 non-null  object             \n",
      " 6   siteID            66450 non-null  int64              \n",
      " 7   spaceID           66450 non-null  object             \n",
      " 8   stationID         66450 non-null  object             \n",
      " 9   timezone          66450 non-null  object             \n",
      " 10  userID            49187 non-null  float64            \n",
      " 11  userInputs        49187 non-null  object             \n",
      "dtypes: datetime64[ns, UTC](3), float64(2), int64(1), object(6)\n",
      "memory usage: 6.1+ MB\n"
     ]
    }
   ],
   "source": [
    "df[\"connectionTime\"] = pd.to_datetime(df[\"connectionTime\"])\n",
    "df[\"disconnectTime\"] = pd.to_datetime(df[\"disconnectTime\"])\n",
    "df[\"doneChargingTime\"] = pd.to_datetime(df[\"doneChargingTime\"])\n",
    "df.info()"
   ]
  },
  {
   "cell_type": "markdown",
   "metadata": {},
   "source": [
    "Checking for invalid data\n",
    "\n",
    "Possible invalid scenarios are:\n",
    "\n",
    "    1. connectionTime is after disconnectTime\n",
    "    2. connectionTime is after doneChargingTime\n",
    "    3. doneChargingTime is after disconnectTime\n",
    "    4. The same stationID has two overlapping sessions"
   ]
  },
  {
   "cell_type": "code",
   "execution_count": 10,
   "metadata": {},
   "outputs": [
    {
     "data": {
      "text/plain": [
       "False    66450\n",
       "Name: count, dtype: int64"
      ]
     },
     "execution_count": 10,
     "metadata": {},
     "output_type": "execute_result"
    }
   ],
   "source": [
    "disAfterCon = df[\"connectionTime\"] > df[\"disconnectTime\"]\n",
    "disAfterCon.value_counts()"
   ]
  },
  {
   "cell_type": "code",
   "execution_count": 11,
   "metadata": {},
   "outputs": [
    {
     "data": {
      "text/plain": [
       "False    66423\n",
       "True        27\n",
       "Name: count, dtype: int64"
      ]
     },
     "execution_count": 11,
     "metadata": {},
     "output_type": "execute_result"
    }
   ],
   "source": [
    "disAfterDone = df[\"connectionTime\"] > df[\"doneChargingTime\"]\n",
    "disAfterDone.value_counts()"
   ]
  },
  {
   "cell_type": "markdown",
   "metadata": {},
   "source": [
    "^ TODO: Zeilen untersuchen und evtl löschen"
   ]
  },
  {
   "cell_type": "code",
   "execution_count": 12,
   "metadata": {},
   "outputs": [
    {
     "data": {
      "text/plain": [
       "False    61758\n",
       "True      4692\n",
       "Name: count, dtype: int64"
      ]
     },
     "execution_count": 12,
     "metadata": {},
     "output_type": "execute_result"
    }
   ],
   "source": [
    "doneAfterDis = df[\"doneChargingTime\"] > df[\"disconnectTime\"]\n",
    "doneAfterDis.value_counts()"
   ]
  },
  {
   "cell_type": "markdown",
   "metadata": {},
   "source": [
    "^ disconnected before charging was done. Not really invalid"
   ]
  },
  {
   "cell_type": "markdown",
   "metadata": {},
   "source": [
    "now checking for overlapping sessions on the same station"
   ]
  },
  {
   "cell_type": "code",
   "execution_count": 13,
   "metadata": {},
   "outputs": [],
   "source": [
    "df.sort_values(by=[\"stationID\", \"connectionTime\"],inplace=True)"
   ]
  },
  {
   "cell_type": "code",
   "execution_count": 14,
   "metadata": {},
   "outputs": [
    {
     "data": {
      "text/html": [
       "<div>\n",
       "<style scoped>\n",
       "    .dataframe tbody tr th:only-of-type {\n",
       "        vertical-align: middle;\n",
       "    }\n",
       "\n",
       "    .dataframe tbody tr th {\n",
       "        vertical-align: top;\n",
       "    }\n",
       "\n",
       "    .dataframe thead th {\n",
       "        text-align: right;\n",
       "    }\n",
       "</style>\n",
       "<table border=\"1\" class=\"dataframe\">\n",
       "  <thead>\n",
       "    <tr style=\"text-align: right;\">\n",
       "      <th></th>\n",
       "      <th>id</th>\n",
       "      <th>connectionTime</th>\n",
       "      <th>disconnectTime</th>\n",
       "      <th>doneChargingTime</th>\n",
       "      <th>kWhDelivered</th>\n",
       "      <th>sessionID</th>\n",
       "      <th>siteID</th>\n",
       "      <th>spaceID</th>\n",
       "      <th>stationID</th>\n",
       "      <th>timezone</th>\n",
       "      <th>userID</th>\n",
       "      <th>userInputs</th>\n",
       "    </tr>\n",
       "  </thead>\n",
       "  <tbody>\n",
       "    <tr>\n",
       "      <th>51769</th>\n",
       "      <td>5c366251f9af8b4639a8e16e</td>\n",
       "      <td>2018-09-13 15:24:32+00:00</td>\n",
       "      <td>2018-09-13 22:58:36+00:00</td>\n",
       "      <td>NaT</td>\n",
       "      <td>13.056</td>\n",
       "      <td>1_1_178_817_2018-09-13 15:24:32.185314</td>\n",
       "      <td>1</td>\n",
       "      <td>AG-1F09</td>\n",
       "      <td>1-1-178-817</td>\n",
       "      <td>America/Los_Angeles</td>\n",
       "      <td>NaN</td>\n",
       "      <td>NaN</td>\n",
       "    </tr>\n",
       "    <tr>\n",
       "      <th>51812</th>\n",
       "      <td>5c366258f9af8b4639a8e199</td>\n",
       "      <td>2018-09-14 14:26:27+00:00</td>\n",
       "      <td>2018-09-14 23:41:53+00:00</td>\n",
       "      <td>NaT</td>\n",
       "      <td>9.309</td>\n",
       "      <td>1_1_178_817_2018-09-14 14:26:26.716890</td>\n",
       "      <td>1</td>\n",
       "      <td>AG-1F09</td>\n",
       "      <td>1-1-178-817</td>\n",
       "      <td>America/Los_Angeles</td>\n",
       "      <td>NaN</td>\n",
       "      <td>NaN</td>\n",
       "    </tr>\n",
       "    <tr>\n",
       "      <th>51853</th>\n",
       "      <td>5c36626bf9af8b4639a8e1c2</td>\n",
       "      <td>2018-09-17 14:08:14+00:00</td>\n",
       "      <td>2018-09-17 23:54:50+00:00</td>\n",
       "      <td>NaT</td>\n",
       "      <td>35.658</td>\n",
       "      <td>1_1_178_817_2018-09-17 14:08:14.125501</td>\n",
       "      <td>1</td>\n",
       "      <td>AG-1F09</td>\n",
       "      <td>1-1-178-817</td>\n",
       "      <td>America/Los_Angeles</td>\n",
       "      <td>378.0</td>\n",
       "      <td>[{'WhPerMile': 250, 'kWhRequested': 50.0, 'mil...</td>\n",
       "    </tr>\n",
       "    <tr>\n",
       "      <th>51906</th>\n",
       "      <td>5c366274f9af8b4639a8e1f7</td>\n",
       "      <td>2018-09-18 13:43:48+00:00</td>\n",
       "      <td>2018-09-18 22:32:43+00:00</td>\n",
       "      <td>NaT</td>\n",
       "      <td>4.337</td>\n",
       "      <td>1_1_178_817_2018-09-18 13:43:47.796335</td>\n",
       "      <td>1</td>\n",
       "      <td>AG-1F09</td>\n",
       "      <td>1-1-178-817</td>\n",
       "      <td>America/Los_Angeles</td>\n",
       "      <td>405.0</td>\n",
       "      <td>[{'WhPerMile': 500, 'kWhRequested': 10.0, 'mil...</td>\n",
       "    </tr>\n",
       "    <tr>\n",
       "      <th>51950</th>\n",
       "      <td>5c366274f9af8b4639a8e223</td>\n",
       "      <td>2018-09-18 23:05:54+00:00</td>\n",
       "      <td>2018-09-19 03:06:39+00:00</td>\n",
       "      <td>NaT</td>\n",
       "      <td>9.974</td>\n",
       "      <td>1_1_178_817_2018-09-18 23:05:53.946381</td>\n",
       "      <td>1</td>\n",
       "      <td>AG-1F09</td>\n",
       "      <td>1-1-178-817</td>\n",
       "      <td>America/Los_Angeles</td>\n",
       "      <td>467.0</td>\n",
       "      <td>[{'WhPerMile': 425, 'kWhRequested': 12.75, 'mi...</td>\n",
       "    </tr>\n",
       "  </tbody>\n",
       "</table>\n",
       "</div>"
      ],
      "text/plain": [
       "                             id            connectionTime  \\\n",
       "51769  5c366251f9af8b4639a8e16e 2018-09-13 15:24:32+00:00   \n",
       "51812  5c366258f9af8b4639a8e199 2018-09-14 14:26:27+00:00   \n",
       "51853  5c36626bf9af8b4639a8e1c2 2018-09-17 14:08:14+00:00   \n",
       "51906  5c366274f9af8b4639a8e1f7 2018-09-18 13:43:48+00:00   \n",
       "51950  5c366274f9af8b4639a8e223 2018-09-18 23:05:54+00:00   \n",
       "\n",
       "                 disconnectTime doneChargingTime  kWhDelivered  \\\n",
       "51769 2018-09-13 22:58:36+00:00              NaT        13.056   \n",
       "51812 2018-09-14 23:41:53+00:00              NaT         9.309   \n",
       "51853 2018-09-17 23:54:50+00:00              NaT        35.658   \n",
       "51906 2018-09-18 22:32:43+00:00              NaT         4.337   \n",
       "51950 2018-09-19 03:06:39+00:00              NaT         9.974   \n",
       "\n",
       "                                    sessionID  siteID  spaceID    stationID  \\\n",
       "51769  1_1_178_817_2018-09-13 15:24:32.185314       1  AG-1F09  1-1-178-817   \n",
       "51812  1_1_178_817_2018-09-14 14:26:26.716890       1  AG-1F09  1-1-178-817   \n",
       "51853  1_1_178_817_2018-09-17 14:08:14.125501       1  AG-1F09  1-1-178-817   \n",
       "51906  1_1_178_817_2018-09-18 13:43:47.796335       1  AG-1F09  1-1-178-817   \n",
       "51950  1_1_178_817_2018-09-18 23:05:53.946381       1  AG-1F09  1-1-178-817   \n",
       "\n",
       "                  timezone  userID  \\\n",
       "51769  America/Los_Angeles     NaN   \n",
       "51812  America/Los_Angeles     NaN   \n",
       "51853  America/Los_Angeles   378.0   \n",
       "51906  America/Los_Angeles   405.0   \n",
       "51950  America/Los_Angeles   467.0   \n",
       "\n",
       "                                              userInputs  \n",
       "51769                                                NaN  \n",
       "51812                                                NaN  \n",
       "51853  [{'WhPerMile': 250, 'kWhRequested': 50.0, 'mil...  \n",
       "51906  [{'WhPerMile': 500, 'kWhRequested': 10.0, 'mil...  \n",
       "51950  [{'WhPerMile': 425, 'kWhRequested': 12.75, 'mi...  "
      ]
     },
     "execution_count": 14,
     "metadata": {},
     "output_type": "execute_result"
    }
   ],
   "source": [
    "df.head()"
   ]
  },
  {
   "cell_type": "code",
   "execution_count": 15,
   "metadata": {},
   "outputs": [],
   "source": [
    "df[\"overlap\"] = ((df[\"connectionTime\"].shift(-1) < df[\"disconnectTime\"]) & (df[\"stationID\"]==df[\"stationID\"].shift(-1))).fillna(False)"
   ]
  },
  {
   "cell_type": "code",
   "execution_count": 16,
   "metadata": {},
   "outputs": [
    {
     "data": {
      "text/plain": [
       "overlap\n",
       "False    65036\n",
       "True      1414\n",
       "Name: count, dtype: int64"
      ]
     },
     "execution_count": 16,
     "metadata": {},
     "output_type": "execute_result"
    }
   ],
   "source": [
    "df[\"overlap\"].value_counts()"
   ]
  },
  {
   "cell_type": "markdown",
   "metadata": {},
   "source": [
    "Seems like 1414 entries are overlapping"
   ]
  },
  {
   "cell_type": "markdown",
   "metadata": {},
   "source": [
    "New feature ParkDuration to check for outliers"
   ]
  },
  {
   "cell_type": "code",
   "execution_count": 17,
   "metadata": {},
   "outputs": [
    {
     "data": {
      "text/html": [
       "<div>\n",
       "<style scoped>\n",
       "    .dataframe tbody tr th:only-of-type {\n",
       "        vertical-align: middle;\n",
       "    }\n",
       "\n",
       "    .dataframe tbody tr th {\n",
       "        vertical-align: top;\n",
       "    }\n",
       "\n",
       "    .dataframe thead th {\n",
       "        text-align: right;\n",
       "    }\n",
       "</style>\n",
       "<table border=\"1\" class=\"dataframe\">\n",
       "  <thead>\n",
       "    <tr style=\"text-align: right;\">\n",
       "      <th></th>\n",
       "      <th>id</th>\n",
       "      <th>connectionTime</th>\n",
       "      <th>disconnectTime</th>\n",
       "      <th>doneChargingTime</th>\n",
       "      <th>kWhDelivered</th>\n",
       "      <th>sessionID</th>\n",
       "      <th>siteID</th>\n",
       "      <th>spaceID</th>\n",
       "      <th>stationID</th>\n",
       "      <th>timezone</th>\n",
       "      <th>userID</th>\n",
       "      <th>userInputs</th>\n",
       "      <th>overlap</th>\n",
       "      <th>parkDuration</th>\n",
       "    </tr>\n",
       "  </thead>\n",
       "  <tbody>\n",
       "    <tr>\n",
       "      <th>51769</th>\n",
       "      <td>5c366251f9af8b4639a8e16e</td>\n",
       "      <td>2018-09-13 15:24:32+00:00</td>\n",
       "      <td>2018-09-13 22:58:36+00:00</td>\n",
       "      <td>NaT</td>\n",
       "      <td>13.056</td>\n",
       "      <td>1_1_178_817_2018-09-13 15:24:32.185314</td>\n",
       "      <td>1</td>\n",
       "      <td>AG-1F09</td>\n",
       "      <td>1-1-178-817</td>\n",
       "      <td>America/Los_Angeles</td>\n",
       "      <td>NaN</td>\n",
       "      <td>NaN</td>\n",
       "      <td>False</td>\n",
       "      <td>0 days 07:34:04</td>\n",
       "    </tr>\n",
       "    <tr>\n",
       "      <th>51812</th>\n",
       "      <td>5c366258f9af8b4639a8e199</td>\n",
       "      <td>2018-09-14 14:26:27+00:00</td>\n",
       "      <td>2018-09-14 23:41:53+00:00</td>\n",
       "      <td>NaT</td>\n",
       "      <td>9.309</td>\n",
       "      <td>1_1_178_817_2018-09-14 14:26:26.716890</td>\n",
       "      <td>1</td>\n",
       "      <td>AG-1F09</td>\n",
       "      <td>1-1-178-817</td>\n",
       "      <td>America/Los_Angeles</td>\n",
       "      <td>NaN</td>\n",
       "      <td>NaN</td>\n",
       "      <td>False</td>\n",
       "      <td>0 days 09:15:26</td>\n",
       "    </tr>\n",
       "    <tr>\n",
       "      <th>51853</th>\n",
       "      <td>5c36626bf9af8b4639a8e1c2</td>\n",
       "      <td>2018-09-17 14:08:14+00:00</td>\n",
       "      <td>2018-09-17 23:54:50+00:00</td>\n",
       "      <td>NaT</td>\n",
       "      <td>35.658</td>\n",
       "      <td>1_1_178_817_2018-09-17 14:08:14.125501</td>\n",
       "      <td>1</td>\n",
       "      <td>AG-1F09</td>\n",
       "      <td>1-1-178-817</td>\n",
       "      <td>America/Los_Angeles</td>\n",
       "      <td>378.0</td>\n",
       "      <td>[{'WhPerMile': 250, 'kWhRequested': 50.0, 'mil...</td>\n",
       "      <td>False</td>\n",
       "      <td>0 days 09:46:36</td>\n",
       "    </tr>\n",
       "    <tr>\n",
       "      <th>51906</th>\n",
       "      <td>5c366274f9af8b4639a8e1f7</td>\n",
       "      <td>2018-09-18 13:43:48+00:00</td>\n",
       "      <td>2018-09-18 22:32:43+00:00</td>\n",
       "      <td>NaT</td>\n",
       "      <td>4.337</td>\n",
       "      <td>1_1_178_817_2018-09-18 13:43:47.796335</td>\n",
       "      <td>1</td>\n",
       "      <td>AG-1F09</td>\n",
       "      <td>1-1-178-817</td>\n",
       "      <td>America/Los_Angeles</td>\n",
       "      <td>405.0</td>\n",
       "      <td>[{'WhPerMile': 500, 'kWhRequested': 10.0, 'mil...</td>\n",
       "      <td>False</td>\n",
       "      <td>0 days 08:48:55</td>\n",
       "    </tr>\n",
       "    <tr>\n",
       "      <th>51950</th>\n",
       "      <td>5c366274f9af8b4639a8e223</td>\n",
       "      <td>2018-09-18 23:05:54+00:00</td>\n",
       "      <td>2018-09-19 03:06:39+00:00</td>\n",
       "      <td>NaT</td>\n",
       "      <td>9.974</td>\n",
       "      <td>1_1_178_817_2018-09-18 23:05:53.946381</td>\n",
       "      <td>1</td>\n",
       "      <td>AG-1F09</td>\n",
       "      <td>1-1-178-817</td>\n",
       "      <td>America/Los_Angeles</td>\n",
       "      <td>467.0</td>\n",
       "      <td>[{'WhPerMile': 425, 'kWhRequested': 12.75, 'mi...</td>\n",
       "      <td>False</td>\n",
       "      <td>0 days 04:00:45</td>\n",
       "    </tr>\n",
       "  </tbody>\n",
       "</table>\n",
       "</div>"
      ],
      "text/plain": [
       "                             id            connectionTime  \\\n",
       "51769  5c366251f9af8b4639a8e16e 2018-09-13 15:24:32+00:00   \n",
       "51812  5c366258f9af8b4639a8e199 2018-09-14 14:26:27+00:00   \n",
       "51853  5c36626bf9af8b4639a8e1c2 2018-09-17 14:08:14+00:00   \n",
       "51906  5c366274f9af8b4639a8e1f7 2018-09-18 13:43:48+00:00   \n",
       "51950  5c366274f9af8b4639a8e223 2018-09-18 23:05:54+00:00   \n",
       "\n",
       "                 disconnectTime doneChargingTime  kWhDelivered  \\\n",
       "51769 2018-09-13 22:58:36+00:00              NaT        13.056   \n",
       "51812 2018-09-14 23:41:53+00:00              NaT         9.309   \n",
       "51853 2018-09-17 23:54:50+00:00              NaT        35.658   \n",
       "51906 2018-09-18 22:32:43+00:00              NaT         4.337   \n",
       "51950 2018-09-19 03:06:39+00:00              NaT         9.974   \n",
       "\n",
       "                                    sessionID  siteID  spaceID    stationID  \\\n",
       "51769  1_1_178_817_2018-09-13 15:24:32.185314       1  AG-1F09  1-1-178-817   \n",
       "51812  1_1_178_817_2018-09-14 14:26:26.716890       1  AG-1F09  1-1-178-817   \n",
       "51853  1_1_178_817_2018-09-17 14:08:14.125501       1  AG-1F09  1-1-178-817   \n",
       "51906  1_1_178_817_2018-09-18 13:43:47.796335       1  AG-1F09  1-1-178-817   \n",
       "51950  1_1_178_817_2018-09-18 23:05:53.946381       1  AG-1F09  1-1-178-817   \n",
       "\n",
       "                  timezone  userID  \\\n",
       "51769  America/Los_Angeles     NaN   \n",
       "51812  America/Los_Angeles     NaN   \n",
       "51853  America/Los_Angeles   378.0   \n",
       "51906  America/Los_Angeles   405.0   \n",
       "51950  America/Los_Angeles   467.0   \n",
       "\n",
       "                                              userInputs  overlap  \\\n",
       "51769                                                NaN    False   \n",
       "51812                                                NaN    False   \n",
       "51853  [{'WhPerMile': 250, 'kWhRequested': 50.0, 'mil...    False   \n",
       "51906  [{'WhPerMile': 500, 'kWhRequested': 10.0, 'mil...    False   \n",
       "51950  [{'WhPerMile': 425, 'kWhRequested': 12.75, 'mi...    False   \n",
       "\n",
       "         parkDuration  \n",
       "51769 0 days 07:34:04  \n",
       "51812 0 days 09:15:26  \n",
       "51853 0 days 09:46:36  \n",
       "51906 0 days 08:48:55  \n",
       "51950 0 days 04:00:45  "
      ]
     },
     "execution_count": 17,
     "metadata": {},
     "output_type": "execute_result"
    }
   ],
   "source": [
    "df[\"parkDuration\"] = df[\"disconnectTime\"] - df[\"connectionTime\"]\n",
    "df.head()"
   ]
  },
  {
   "cell_type": "code",
   "execution_count": 18,
   "metadata": {},
   "outputs": [
    {
     "data": {
      "text/plain": [
       "count                        66450\n",
       "mean     0 days 06:17:34.578209179\n",
       "std      0 days 04:51:41.391314114\n",
       "min                0 days 00:02:04\n",
       "25%         0 days 02:51:57.750000\n",
       "50%                0 days 06:11:44\n",
       "75%         0 days 09:13:31.500000\n",
       "max               10 days 05:16:09\n",
       "Name: parkDuration, dtype: object"
      ]
     },
     "execution_count": 18,
     "metadata": {},
     "output_type": "execute_result"
    }
   ],
   "source": [
    "df[\"parkDuration\"].describe()"
   ]
  },
  {
   "cell_type": "markdown",
   "metadata": {},
   "source": [
    "Check for Outliers"
   ]
  },
  {
   "cell_type": "code",
   "execution_count": 19,
   "metadata": {},
   "outputs": [
    {
     "name": "stdout",
     "output_type": "stream",
     "text": [
      "park duration < 5min:  16\n",
      "park duration > 3h:  49077\n",
      "park duration > 6h:  33938\n",
      "park duration > 9h:  18873\n",
      "park duration > 12h:  2180\n",
      "park duration > 1d:  279\n",
      "park duration > 2d:  92\n"
     ]
    }
   ],
   "source": [
    "from datetime import timedelta\n",
    "\n",
    "print('park duration < 5min: ',len(df[df[\"parkDuration\"]<timedelta(minutes=5)]))\n",
    "print('park duration > 3h: ',len(df[df[\"parkDuration\"]>timedelta(hours=3)]))\n",
    "print('park duration > 6h: ',len(df[df[\"parkDuration\"]>timedelta(hours=6)]))\n",
    "print('park duration > 9h: ',len(df[df[\"parkDuration\"]>timedelta(hours=9)]))\n",
    "print('park duration > 12h: ',len(df[df[\"parkDuration\"]>timedelta(hours=12)]))\n",
    "print('park duration > 1d: ',len(df[df[\"parkDuration\"]>timedelta(days=1)]))\n",
    "print('park duration > 2d: ',len(df[df[\"parkDuration\"]>timedelta(days=2)]))"
   ]
  },
  {
   "cell_type": "markdown",
   "metadata": {},
   "source": [
    "seems like 16 entries were shorter than 5 mins and 279 were longer than 1 day, of which 92 were longer than 2 days"
   ]
  },
  {
   "cell_type": "code",
   "execution_count": 25,
   "metadata": {},
   "outputs": [
    {
     "name": "stdout",
     "output_type": "stream",
     "text": [
      "park duration > 5d:  7\n"
     ]
    }
   ],
   "source": [
    "print('park duration > 5d: ',len(df[df[\"parkDuration\"]>timedelta(days=5)]))"
   ]
  },
  {
   "cell_type": "markdown",
   "metadata": {},
   "source": [
    "7 even stayed longer than 5 days ---- TODO what to do with those entries? When do we cut off?"
   ]
  },
  {
   "cell_type": "code",
   "execution_count": null,
   "metadata": {},
   "outputs": [],
   "source": []
  }
 ],
 "metadata": {
  "kernelspec": {
   "display_name": "AA",
   "language": "python",
   "name": "python3"
  },
  "language_info": {
   "codemirror_mode": {
    "name": "ipython",
    "version": 3
   },
   "file_extension": ".py",
   "mimetype": "text/x-python",
   "name": "python",
   "nbconvert_exporter": "python",
   "pygments_lexer": "ipython3",
   "version": "3.12.7"
  }
 },
 "nbformat": 4,
 "nbformat_minor": 2
}
