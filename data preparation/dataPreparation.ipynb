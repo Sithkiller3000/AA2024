{
 "cells": [
  {
   "cell_type": "code",
   "execution_count": 67,
   "metadata": {},
   "outputs": [],
   "source": [
    "import pandas as pd\n",
    "import matplotlib.pyplot as plt\n",
    "import numpy as np\n",
    "import json\n",
    "\n",
    "#for json convertion\n",
    "import ast"
   ]
  },
  {
   "cell_type": "code",
   "execution_count": 68,
   "metadata": {},
   "outputs": [],
   "source": [
    "df = pd.read_csv(\"charging_sessions.csv\")"
   ]
  },
  {
   "cell_type": "markdown",
   "metadata": {},
   "source": [
    "First, we take a look at the dataset"
   ]
  },
  {
   "cell_type": "code",
   "execution_count": 69,
   "metadata": {},
   "outputs": [
    {
     "data": {
      "text/html": [
       "<div>\n",
       "<style scoped>\n",
       "    .dataframe tbody tr th:only-of-type {\n",
       "        vertical-align: middle;\n",
       "    }\n",
       "\n",
       "    .dataframe tbody tr th {\n",
       "        vertical-align: top;\n",
       "    }\n",
       "\n",
       "    .dataframe thead th {\n",
       "        text-align: right;\n",
       "    }\n",
       "</style>\n",
       "<table border=\"1\" class=\"dataframe\">\n",
       "  <thead>\n",
       "    <tr style=\"text-align: right;\">\n",
       "      <th></th>\n",
       "      <th>Unnamed: 0</th>\n",
       "      <th>id</th>\n",
       "      <th>connectionTime</th>\n",
       "      <th>disconnectTime</th>\n",
       "      <th>doneChargingTime</th>\n",
       "      <th>kWhDelivered</th>\n",
       "      <th>sessionID</th>\n",
       "      <th>siteID</th>\n",
       "      <th>spaceID</th>\n",
       "      <th>stationID</th>\n",
       "      <th>timezone</th>\n",
       "      <th>userID</th>\n",
       "      <th>userInputs</th>\n",
       "    </tr>\n",
       "  </thead>\n",
       "  <tbody>\n",
       "    <tr>\n",
       "      <th>0</th>\n",
       "      <td>0</td>\n",
       "      <td>5e23b149f9af8b5fe4b973cf</td>\n",
       "      <td>2020-01-02 13:08:54+00:00</td>\n",
       "      <td>2020-01-02 19:11:15+00:00</td>\n",
       "      <td>2020-01-02 17:31:35+00:00</td>\n",
       "      <td>25.016</td>\n",
       "      <td>1_1_179_810_2020-01-02 13:08:53.870034</td>\n",
       "      <td>1</td>\n",
       "      <td>AG-3F30</td>\n",
       "      <td>1-1-179-810</td>\n",
       "      <td>America/Los_Angeles</td>\n",
       "      <td>194.0</td>\n",
       "      <td>[{'WhPerMile': 250, 'kWhRequested': 25.0, 'mil...</td>\n",
       "    </tr>\n",
       "    <tr>\n",
       "      <th>1</th>\n",
       "      <td>1</td>\n",
       "      <td>5e23b149f9af8b5fe4b973d0</td>\n",
       "      <td>2020-01-02 13:36:50+00:00</td>\n",
       "      <td>2020-01-02 22:38:21+00:00</td>\n",
       "      <td>2020-01-02 20:18:05+00:00</td>\n",
       "      <td>33.097</td>\n",
       "      <td>1_1_193_825_2020-01-02 13:36:49.599853</td>\n",
       "      <td>1</td>\n",
       "      <td>AG-1F01</td>\n",
       "      <td>1-1-193-825</td>\n",
       "      <td>America/Los_Angeles</td>\n",
       "      <td>4275.0</td>\n",
       "      <td>[{'WhPerMile': 280, 'kWhRequested': 70.0, 'mil...</td>\n",
       "    </tr>\n",
       "    <tr>\n",
       "      <th>2</th>\n",
       "      <td>2</td>\n",
       "      <td>5e23b149f9af8b5fe4b973d1</td>\n",
       "      <td>2020-01-02 13:56:35+00:00</td>\n",
       "      <td>2020-01-03 00:39:22+00:00</td>\n",
       "      <td>2020-01-02 16:35:06+00:00</td>\n",
       "      <td>6.521</td>\n",
       "      <td>1_1_193_829_2020-01-02 13:56:35.214993</td>\n",
       "      <td>1</td>\n",
       "      <td>AG-1F03</td>\n",
       "      <td>1-1-193-829</td>\n",
       "      <td>America/Los_Angeles</td>\n",
       "      <td>344.0</td>\n",
       "      <td>[{'WhPerMile': 400, 'kWhRequested': 8.0, 'mile...</td>\n",
       "    </tr>\n",
       "    <tr>\n",
       "      <th>3</th>\n",
       "      <td>3</td>\n",
       "      <td>5e23b149f9af8b5fe4b973d2</td>\n",
       "      <td>2020-01-02 13:59:58+00:00</td>\n",
       "      <td>2020-01-02 16:38:39+00:00</td>\n",
       "      <td>2020-01-02 15:18:45+00:00</td>\n",
       "      <td>2.355</td>\n",
       "      <td>1_1_193_820_2020-01-02 13:59:58.309319</td>\n",
       "      <td>1</td>\n",
       "      <td>AG-1F04</td>\n",
       "      <td>1-1-193-820</td>\n",
       "      <td>America/Los_Angeles</td>\n",
       "      <td>1117.0</td>\n",
       "      <td>[{'WhPerMile': 400, 'kWhRequested': 8.0, 'mile...</td>\n",
       "    </tr>\n",
       "    <tr>\n",
       "      <th>4</th>\n",
       "      <td>4</td>\n",
       "      <td>5e23b149f9af8b5fe4b973d3</td>\n",
       "      <td>2020-01-02 14:00:01+00:00</td>\n",
       "      <td>2020-01-02 22:08:40+00:00</td>\n",
       "      <td>2020-01-02 18:17:30+00:00</td>\n",
       "      <td>13.375</td>\n",
       "      <td>1_1_193_819_2020-01-02 14:00:00.779967</td>\n",
       "      <td>1</td>\n",
       "      <td>AG-1F06</td>\n",
       "      <td>1-1-193-819</td>\n",
       "      <td>America/Los_Angeles</td>\n",
       "      <td>334.0</td>\n",
       "      <td>[{'WhPerMile': 400, 'kWhRequested': 16.0, 'mil...</td>\n",
       "    </tr>\n",
       "  </tbody>\n",
       "</table>\n",
       "</div>"
      ],
      "text/plain": [
       "   Unnamed: 0                        id             connectionTime  \\\n",
       "0           0  5e23b149f9af8b5fe4b973cf  2020-01-02 13:08:54+00:00   \n",
       "1           1  5e23b149f9af8b5fe4b973d0  2020-01-02 13:36:50+00:00   \n",
       "2           2  5e23b149f9af8b5fe4b973d1  2020-01-02 13:56:35+00:00   \n",
       "3           3  5e23b149f9af8b5fe4b973d2  2020-01-02 13:59:58+00:00   \n",
       "4           4  5e23b149f9af8b5fe4b973d3  2020-01-02 14:00:01+00:00   \n",
       "\n",
       "              disconnectTime           doneChargingTime  kWhDelivered  \\\n",
       "0  2020-01-02 19:11:15+00:00  2020-01-02 17:31:35+00:00        25.016   \n",
       "1  2020-01-02 22:38:21+00:00  2020-01-02 20:18:05+00:00        33.097   \n",
       "2  2020-01-03 00:39:22+00:00  2020-01-02 16:35:06+00:00         6.521   \n",
       "3  2020-01-02 16:38:39+00:00  2020-01-02 15:18:45+00:00         2.355   \n",
       "4  2020-01-02 22:08:40+00:00  2020-01-02 18:17:30+00:00        13.375   \n",
       "\n",
       "                                sessionID  siteID  spaceID    stationID  \\\n",
       "0  1_1_179_810_2020-01-02 13:08:53.870034       1  AG-3F30  1-1-179-810   \n",
       "1  1_1_193_825_2020-01-02 13:36:49.599853       1  AG-1F01  1-1-193-825   \n",
       "2  1_1_193_829_2020-01-02 13:56:35.214993       1  AG-1F03  1-1-193-829   \n",
       "3  1_1_193_820_2020-01-02 13:59:58.309319       1  AG-1F04  1-1-193-820   \n",
       "4  1_1_193_819_2020-01-02 14:00:00.779967       1  AG-1F06  1-1-193-819   \n",
       "\n",
       "              timezone  userID  \\\n",
       "0  America/Los_Angeles   194.0   \n",
       "1  America/Los_Angeles  4275.0   \n",
       "2  America/Los_Angeles   344.0   \n",
       "3  America/Los_Angeles  1117.0   \n",
       "4  America/Los_Angeles   334.0   \n",
       "\n",
       "                                          userInputs  \n",
       "0  [{'WhPerMile': 250, 'kWhRequested': 25.0, 'mil...  \n",
       "1  [{'WhPerMile': 280, 'kWhRequested': 70.0, 'mil...  \n",
       "2  [{'WhPerMile': 400, 'kWhRequested': 8.0, 'mile...  \n",
       "3  [{'WhPerMile': 400, 'kWhRequested': 8.0, 'mile...  \n",
       "4  [{'WhPerMile': 400, 'kWhRequested': 16.0, 'mil...  "
      ]
     },
     "execution_count": 69,
     "metadata": {},
     "output_type": "execute_result"
    }
   ],
   "source": [
    "df.head()"
   ]
  },
  {
   "cell_type": "code",
   "execution_count": 70,
   "metadata": {},
   "outputs": [
    {
     "name": "stdout",
     "output_type": "stream",
     "text": [
      "<class 'pandas.core.frame.DataFrame'>\n",
      "RangeIndex: 66450 entries, 0 to 66449\n",
      "Data columns (total 13 columns):\n",
      " #   Column            Non-Null Count  Dtype  \n",
      "---  ------            --------------  -----  \n",
      " 0   Unnamed: 0        66450 non-null  int64  \n",
      " 1   id                66450 non-null  object \n",
      " 2   connectionTime    66450 non-null  object \n",
      " 3   disconnectTime    66450 non-null  object \n",
      " 4   doneChargingTime  62362 non-null  object \n",
      " 5   kWhDelivered      66450 non-null  float64\n",
      " 6   sessionID         66450 non-null  object \n",
      " 7   siteID            66450 non-null  int64  \n",
      " 8   spaceID           66450 non-null  object \n",
      " 9   stationID         66450 non-null  object \n",
      " 10  timezone          66450 non-null  object \n",
      " 11  userID            49187 non-null  float64\n",
      " 12  userInputs        49187 non-null  object \n",
      "dtypes: float64(2), int64(2), object(9)\n",
      "memory usage: 6.6+ MB\n"
     ]
    }
   ],
   "source": [
    "df.info()"
   ]
  },
  {
   "cell_type": "markdown",
   "metadata": {},
   "source": [
    "Also checking for missing values within the data"
   ]
  },
  {
   "cell_type": "code",
   "execution_count": 71,
   "metadata": {},
   "outputs": [
    {
     "data": {
      "text/plain": [
       "Unnamed: 0              0\n",
       "id                      0\n",
       "connectionTime          0\n",
       "disconnectTime          0\n",
       "doneChargingTime     4088\n",
       "kWhDelivered            0\n",
       "sessionID               0\n",
       "siteID                  0\n",
       "spaceID                 0\n",
       "stationID               0\n",
       "timezone                0\n",
       "userID              17263\n",
       "userInputs          17263\n",
       "dtype: int64"
      ]
     },
     "execution_count": 71,
     "metadata": {},
     "output_type": "execute_result"
    }
   ],
   "source": [
    "missing_values = df.isnull().sum()\n",
    "missing_values"
   ]
  },
  {
   "cell_type": "markdown",
   "metadata": {},
   "source": [
    "Now we check if all the IDs are actually unique"
   ]
  },
  {
   "cell_type": "code",
   "execution_count": 72,
   "metadata": {},
   "outputs": [
    {
     "data": {
      "text/plain": [
       "15292"
      ]
     },
     "execution_count": 72,
     "metadata": {},
     "output_type": "execute_result"
    }
   ],
   "source": [
    "duplicates = df[\"Unnamed: 0\"].unique()\n",
    "len(duplicates)"
   ]
  },
  {
   "cell_type": "code",
   "execution_count": 73,
   "metadata": {},
   "outputs": [
    {
     "data": {
      "text/plain": [
       "65037"
      ]
     },
     "execution_count": 73,
     "metadata": {},
     "output_type": "execute_result"
    }
   ],
   "source": [
    "duplicates = df[\"id\"].unique()\n",
    "len(duplicates)"
   ]
  },
  {
   "cell_type": "code",
   "execution_count": 74,
   "metadata": {},
   "outputs": [
    {
     "data": {
      "text/plain": [
       "65037"
      ]
     },
     "execution_count": 74,
     "metadata": {},
     "output_type": "execute_result"
    }
   ],
   "source": [
    "duplicates = df[\"sessionID\"].unique()\n",
    "len(duplicates)"
   ]
  },
  {
   "cell_type": "markdown",
   "metadata": {},
   "source": [
    "The column \"Unnamed: 0\" ranges from 0 to 15292 and then repeats. Therefore we remove it completly, since its just another unnecessary index, that is even incorrect. Furthermore we replace \"id\" with a continous integer from 1-66450 to make it easier"
   ]
  },
  {
   "cell_type": "code",
   "execution_count": 75,
   "metadata": {},
   "outputs": [
    {
     "data": {
      "text/html": [
       "<div>\n",
       "<style scoped>\n",
       "    .dataframe tbody tr th:only-of-type {\n",
       "        vertical-align: middle;\n",
       "    }\n",
       "\n",
       "    .dataframe tbody tr th {\n",
       "        vertical-align: top;\n",
       "    }\n",
       "\n",
       "    .dataframe thead th {\n",
       "        text-align: right;\n",
       "    }\n",
       "</style>\n",
       "<table border=\"1\" class=\"dataframe\">\n",
       "  <thead>\n",
       "    <tr style=\"text-align: right;\">\n",
       "      <th></th>\n",
       "      <th>id</th>\n",
       "      <th>connectionTime</th>\n",
       "      <th>disconnectTime</th>\n",
       "      <th>doneChargingTime</th>\n",
       "      <th>kWhDelivered</th>\n",
       "      <th>sessionID</th>\n",
       "      <th>siteID</th>\n",
       "      <th>spaceID</th>\n",
       "      <th>stationID</th>\n",
       "      <th>timezone</th>\n",
       "      <th>userID</th>\n",
       "      <th>userInputs</th>\n",
       "    </tr>\n",
       "  </thead>\n",
       "  <tbody>\n",
       "    <tr>\n",
       "      <th>0</th>\n",
       "      <td>1</td>\n",
       "      <td>2020-01-02 13:08:54+00:00</td>\n",
       "      <td>2020-01-02 19:11:15+00:00</td>\n",
       "      <td>2020-01-02 17:31:35+00:00</td>\n",
       "      <td>25.016</td>\n",
       "      <td>1_1_179_810_2020-01-02 13:08:53.870034</td>\n",
       "      <td>1</td>\n",
       "      <td>AG-3F30</td>\n",
       "      <td>1-1-179-810</td>\n",
       "      <td>America/Los_Angeles</td>\n",
       "      <td>194.0</td>\n",
       "      <td>[{'WhPerMile': 250, 'kWhRequested': 25.0, 'mil...</td>\n",
       "    </tr>\n",
       "    <tr>\n",
       "      <th>1</th>\n",
       "      <td>2</td>\n",
       "      <td>2020-01-02 13:36:50+00:00</td>\n",
       "      <td>2020-01-02 22:38:21+00:00</td>\n",
       "      <td>2020-01-02 20:18:05+00:00</td>\n",
       "      <td>33.097</td>\n",
       "      <td>1_1_193_825_2020-01-02 13:36:49.599853</td>\n",
       "      <td>1</td>\n",
       "      <td>AG-1F01</td>\n",
       "      <td>1-1-193-825</td>\n",
       "      <td>America/Los_Angeles</td>\n",
       "      <td>4275.0</td>\n",
       "      <td>[{'WhPerMile': 280, 'kWhRequested': 70.0, 'mil...</td>\n",
       "    </tr>\n",
       "    <tr>\n",
       "      <th>2</th>\n",
       "      <td>3</td>\n",
       "      <td>2020-01-02 13:56:35+00:00</td>\n",
       "      <td>2020-01-03 00:39:22+00:00</td>\n",
       "      <td>2020-01-02 16:35:06+00:00</td>\n",
       "      <td>6.521</td>\n",
       "      <td>1_1_193_829_2020-01-02 13:56:35.214993</td>\n",
       "      <td>1</td>\n",
       "      <td>AG-1F03</td>\n",
       "      <td>1-1-193-829</td>\n",
       "      <td>America/Los_Angeles</td>\n",
       "      <td>344.0</td>\n",
       "      <td>[{'WhPerMile': 400, 'kWhRequested': 8.0, 'mile...</td>\n",
       "    </tr>\n",
       "    <tr>\n",
       "      <th>3</th>\n",
       "      <td>4</td>\n",
       "      <td>2020-01-02 13:59:58+00:00</td>\n",
       "      <td>2020-01-02 16:38:39+00:00</td>\n",
       "      <td>2020-01-02 15:18:45+00:00</td>\n",
       "      <td>2.355</td>\n",
       "      <td>1_1_193_820_2020-01-02 13:59:58.309319</td>\n",
       "      <td>1</td>\n",
       "      <td>AG-1F04</td>\n",
       "      <td>1-1-193-820</td>\n",
       "      <td>America/Los_Angeles</td>\n",
       "      <td>1117.0</td>\n",
       "      <td>[{'WhPerMile': 400, 'kWhRequested': 8.0, 'mile...</td>\n",
       "    </tr>\n",
       "    <tr>\n",
       "      <th>4</th>\n",
       "      <td>5</td>\n",
       "      <td>2020-01-02 14:00:01+00:00</td>\n",
       "      <td>2020-01-02 22:08:40+00:00</td>\n",
       "      <td>2020-01-02 18:17:30+00:00</td>\n",
       "      <td>13.375</td>\n",
       "      <td>1_1_193_819_2020-01-02 14:00:00.779967</td>\n",
       "      <td>1</td>\n",
       "      <td>AG-1F06</td>\n",
       "      <td>1-1-193-819</td>\n",
       "      <td>America/Los_Angeles</td>\n",
       "      <td>334.0</td>\n",
       "      <td>[{'WhPerMile': 400, 'kWhRequested': 16.0, 'mil...</td>\n",
       "    </tr>\n",
       "  </tbody>\n",
       "</table>\n",
       "</div>"
      ],
      "text/plain": [
       "   id             connectionTime             disconnectTime  \\\n",
       "0   1  2020-01-02 13:08:54+00:00  2020-01-02 19:11:15+00:00   \n",
       "1   2  2020-01-02 13:36:50+00:00  2020-01-02 22:38:21+00:00   \n",
       "2   3  2020-01-02 13:56:35+00:00  2020-01-03 00:39:22+00:00   \n",
       "3   4  2020-01-02 13:59:58+00:00  2020-01-02 16:38:39+00:00   \n",
       "4   5  2020-01-02 14:00:01+00:00  2020-01-02 22:08:40+00:00   \n",
       "\n",
       "            doneChargingTime  kWhDelivered  \\\n",
       "0  2020-01-02 17:31:35+00:00        25.016   \n",
       "1  2020-01-02 20:18:05+00:00        33.097   \n",
       "2  2020-01-02 16:35:06+00:00         6.521   \n",
       "3  2020-01-02 15:18:45+00:00         2.355   \n",
       "4  2020-01-02 18:17:30+00:00        13.375   \n",
       "\n",
       "                                sessionID  siteID  spaceID    stationID  \\\n",
       "0  1_1_179_810_2020-01-02 13:08:53.870034       1  AG-3F30  1-1-179-810   \n",
       "1  1_1_193_825_2020-01-02 13:36:49.599853       1  AG-1F01  1-1-193-825   \n",
       "2  1_1_193_829_2020-01-02 13:56:35.214993       1  AG-1F03  1-1-193-829   \n",
       "3  1_1_193_820_2020-01-02 13:59:58.309319       1  AG-1F04  1-1-193-820   \n",
       "4  1_1_193_819_2020-01-02 14:00:00.779967       1  AG-1F06  1-1-193-819   \n",
       "\n",
       "              timezone  userID  \\\n",
       "0  America/Los_Angeles   194.0   \n",
       "1  America/Los_Angeles  4275.0   \n",
       "2  America/Los_Angeles   344.0   \n",
       "3  America/Los_Angeles  1117.0   \n",
       "4  America/Los_Angeles   334.0   \n",
       "\n",
       "                                          userInputs  \n",
       "0  [{'WhPerMile': 250, 'kWhRequested': 25.0, 'mil...  \n",
       "1  [{'WhPerMile': 280, 'kWhRequested': 70.0, 'mil...  \n",
       "2  [{'WhPerMile': 400, 'kWhRequested': 8.0, 'mile...  \n",
       "3  [{'WhPerMile': 400, 'kWhRequested': 8.0, 'mile...  \n",
       "4  [{'WhPerMile': 400, 'kWhRequested': 16.0, 'mil...  "
      ]
     },
     "execution_count": 75,
     "metadata": {},
     "output_type": "execute_result"
    }
   ],
   "source": [
    "df.drop(columns=\"Unnamed: 0\", inplace=True)\n",
    "df[\"id\"] = range(1, len(df) + 1)\n",
    "df.head()"
   ]
  },
  {
   "cell_type": "markdown",
   "metadata": {},
   "source": [
    "Transforming the times to datetime so we can actually calculate with those later"
   ]
  },
  {
   "cell_type": "code",
   "execution_count": 76,
   "metadata": {},
   "outputs": [
    {
     "name": "stdout",
     "output_type": "stream",
     "text": [
      "<class 'pandas.core.frame.DataFrame'>\n",
      "RangeIndex: 66450 entries, 0 to 66449\n",
      "Data columns (total 12 columns):\n",
      " #   Column            Non-Null Count  Dtype              \n",
      "---  ------            --------------  -----              \n",
      " 0   id                66450 non-null  int64              \n",
      " 1   connectionTime    66450 non-null  datetime64[ns, UTC]\n",
      " 2   disconnectTime    66450 non-null  datetime64[ns, UTC]\n",
      " 3   doneChargingTime  62362 non-null  datetime64[ns, UTC]\n",
      " 4   kWhDelivered      66450 non-null  float64            \n",
      " 5   sessionID         66450 non-null  object             \n",
      " 6   siteID            66450 non-null  int64              \n",
      " 7   spaceID           66450 non-null  object             \n",
      " 8   stationID         66450 non-null  object             \n",
      " 9   timezone          66450 non-null  object             \n",
      " 10  userID            49187 non-null  float64            \n",
      " 11  userInputs        49187 non-null  object             \n",
      "dtypes: datetime64[ns, UTC](3), float64(2), int64(2), object(5)\n",
      "memory usage: 6.1+ MB\n"
     ]
    }
   ],
   "source": [
    "df[\"connectionTime\"] = pd.to_datetime(df[\"connectionTime\"])\n",
    "df[\"disconnectTime\"] = pd.to_datetime(df[\"disconnectTime\"])\n",
    "df[\"doneChargingTime\"] = pd.to_datetime(df[\"doneChargingTime\"])\n",
    "df.info()"
   ]
  },
  {
   "cell_type": "markdown",
   "metadata": {},
   "source": [
    "Since the time data is in GMT, we will convert it to GMT-8, the time in california"
   ]
  },
  {
   "cell_type": "code",
   "execution_count": 77,
   "metadata": {},
   "outputs": [],
   "source": [
    "# temp = df['connectionTime'].dt.strftime('%Y-%m-%d %H:%M:%S%z')\n",
    "# temp[0]"
   ]
  },
  {
   "cell_type": "code",
   "execution_count": null,
   "metadata": {},
   "outputs": [
    {
     "name": "stdout",
     "output_type": "stream",
     "text": [
      "yessir\n",
      "yessir\n",
      "yessir\n"
     ]
    },
    {
     "data": {
      "text/plain": [
       "0        2020-01-02 05:08:54\n",
       "1        2020-01-02 05:36:50\n",
       "2        2020-01-02 05:56:35\n",
       "3        2020-01-02 05:59:58\n",
       "4        2020-01-02 06:00:01\n",
       "                ...         \n",
       "66445    2019-07-31 11:08:04\n",
       "66446    2019-07-31 11:40:41\n",
       "66447    2019-07-31 12:04:40\n",
       "66448    2019-07-31 12:19:47\n",
       "66449    2019-07-31 12:21:47\n",
       "Name: connectionTime, Length: 66450, dtype: object"
      ]
     },
     "execution_count": 78,
     "metadata": {},
     "output_type": "execute_result"
    }
   ],
   "source": [
    "dest_timezone = \"America/Los_Angeles\"\n",
    "date_columns = [\"connectionTime\", \"disconnectTime\", \"doneChargingTime\"]\n",
    "\n",
    "for date_column in date_columns:\n",
    "    df[date_column] = pd.to_datetime(df[date_column])\n",
    "    df[date_column] = df[date_column].dt.tz_convert(dest_timezone)\n",
    "    df[date_column] = df[date_column].dt.strftime('%Y-%m-%d %H:%M:%S%z')\n",
    "    df[date_column] = df[date_column].str.replace(r'[+-]\\d{2}\\d{2}$', '', regex=True)\n",
    "\n",
    "df['connectionTime']"
   ]
  },
  {
   "cell_type": "markdown",
   "metadata": {},
   "source": [
    "Check for duplicate entries"
   ]
  },
  {
   "cell_type": "code",
   "execution_count": 12,
   "metadata": {},
   "outputs": [
    {
     "data": {
      "text/plain": [
       "1414"
      ]
     },
     "execution_count": 12,
     "metadata": {},
     "output_type": "execute_result"
    }
   ],
   "source": [
    "same_user_duplicates = df[df.duplicated(subset=['connectionTime', 'stationID', 'siteID', \"spaceID\"])]\n",
    "len(same_user_duplicates)"
   ]
  },
  {
   "cell_type": "markdown",
   "metadata": {},
   "source": [
    "There are 1414 entries where a car simultaneaously started charging at the same station on the same space. Since this is physically not possible, we delete the duplicates"
   ]
  },
  {
   "cell_type": "code",
   "execution_count": 13,
   "metadata": {},
   "outputs": [
    {
     "name": "stdout",
     "output_type": "stream",
     "text": [
      "<class 'pandas.core.frame.DataFrame'>\n",
      "RangeIndex: 65036 entries, 0 to 65035\n",
      "Data columns (total 12 columns):\n",
      " #   Column            Non-Null Count  Dtype                              \n",
      "---  ------            --------------  -----                              \n",
      " 0   id                65036 non-null  int64                              \n",
      " 1   connectionTime    65036 non-null  datetime64[ns, America/Los_Angeles]\n",
      " 2   disconnectTime    65036 non-null  datetime64[ns, America/Los_Angeles]\n",
      " 3   doneChargingTime  60949 non-null  datetime64[ns, America/Los_Angeles]\n",
      " 4   kWhDelivered      65036 non-null  float64                            \n",
      " 5   sessionID         65036 non-null  object                             \n",
      " 6   siteID            65036 non-null  int64                              \n",
      " 7   spaceID           65036 non-null  object                             \n",
      " 8   stationID         65036 non-null  object                             \n",
      " 9   timezone          65036 non-null  object                             \n",
      " 10  userID            47822 non-null  float64                            \n",
      " 11  userInputs        47822 non-null  object                             \n",
      "dtypes: datetime64[ns, America/Los_Angeles](3), float64(2), int64(2), object(5)\n",
      "memory usage: 6.0+ MB\n"
     ]
    }
   ],
   "source": [
    "df = df.drop_duplicates(subset=[\"connectionTime\", \"spaceID\"], ignore_index=True)\n",
    "df.info()"
   ]
  },
  {
   "cell_type": "markdown",
   "metadata": {},
   "source": [
    "Checking for invalid data\n",
    "\n",
    "Possible invalid scenarios are:\n",
    "\n",
    "    1. connectionTime is after disconnectTime\n",
    "    2. connectionTime is after doneChargingTime\n",
    "    4. The same stationID has two overlapping sessions"
   ]
  },
  {
   "cell_type": "code",
   "execution_count": 14,
   "metadata": {},
   "outputs": [
    {
     "data": {
      "text/plain": [
       "False    65036\n",
       "Name: count, dtype: int64"
      ]
     },
     "execution_count": 14,
     "metadata": {},
     "output_type": "execute_result"
    }
   ],
   "source": [
    "disAfterCon = df[\"connectionTime\"] > df[\"disconnectTime\"]\n",
    "disAfterCon.value_counts()"
   ]
  },
  {
   "cell_type": "code",
   "execution_count": 15,
   "metadata": {},
   "outputs": [
    {
     "data": {
      "text/plain": [
       "False    65009\n",
       "True        27\n",
       "Name: count, dtype: int64"
      ]
     },
     "execution_count": 15,
     "metadata": {},
     "output_type": "execute_result"
    }
   ],
   "source": [
    "disAfterDone = df[\"connectionTime\"] > df[\"doneChargingTime\"]\n",
    "disAfterDone.value_counts()"
   ]
  },
  {
   "cell_type": "markdown",
   "metadata": {},
   "source": [
    "Since this is not possible, we remove these 27 invalid entries"
   ]
  },
  {
   "cell_type": "code",
   "execution_count": 16,
   "metadata": {},
   "outputs": [],
   "source": [
    "df.drop(df[df[\"connectionTime\"] > df[\"doneChargingTime\"]].index, inplace = True)"
   ]
  },
  {
   "cell_type": "markdown",
   "metadata": {},
   "source": [
    "now checking for overlapping sessions on the same space"
   ]
  },
  {
   "cell_type": "code",
   "execution_count": 17,
   "metadata": {},
   "outputs": [
    {
     "data": {
      "text/plain": [
       "overlap\n",
       "False    65009\n",
       "Name: count, dtype: int64"
      ]
     },
     "execution_count": 17,
     "metadata": {},
     "output_type": "execute_result"
    }
   ],
   "source": [
    "df.sort_values(by=[\"spaceID\", \"connectionTime\"],inplace=True)\n",
    "df[\"overlap\"] = ((df[\"connectionTime\"].shift(-1) < df[\"disconnectTime\"]) & (df[\"spaceID\"]==df[\"spaceID\"].shift(-1))).fillna(False)\n",
    "df[\"overlap\"].value_counts()"
   ]
  },
  {
   "cell_type": "markdown",
   "metadata": {},
   "source": [
    "Seems like no entries are overlapping."
   ]
  },
  {
   "cell_type": "markdown",
   "metadata": {},
   "source": [
    "New temporary feature ParkDuration to check for outliers"
   ]
  },
  {
   "cell_type": "code",
   "execution_count": 18,
   "metadata": {},
   "outputs": [
    {
     "data": {
      "text/html": [
       "<div>\n",
       "<style scoped>\n",
       "    .dataframe tbody tr th:only-of-type {\n",
       "        vertical-align: middle;\n",
       "    }\n",
       "\n",
       "    .dataframe tbody tr th {\n",
       "        vertical-align: top;\n",
       "    }\n",
       "\n",
       "    .dataframe thead th {\n",
       "        text-align: right;\n",
       "    }\n",
       "</style>\n",
       "<table border=\"1\" class=\"dataframe\">\n",
       "  <thead>\n",
       "    <tr style=\"text-align: right;\">\n",
       "      <th></th>\n",
       "      <th>id</th>\n",
       "      <th>connectionTime</th>\n",
       "      <th>disconnectTime</th>\n",
       "      <th>doneChargingTime</th>\n",
       "      <th>kWhDelivered</th>\n",
       "      <th>sessionID</th>\n",
       "      <th>siteID</th>\n",
       "      <th>spaceID</th>\n",
       "      <th>stationID</th>\n",
       "      <th>timezone</th>\n",
       "      <th>userID</th>\n",
       "      <th>userInputs</th>\n",
       "      <th>overlap</th>\n",
       "      <th>parkDuration</th>\n",
       "    </tr>\n",
       "  </thead>\n",
       "  <tbody>\n",
       "    <tr>\n",
       "      <th>51321</th>\n",
       "      <td>51323</td>\n",
       "      <td>2020-11-18 15:36:26-08:00</td>\n",
       "      <td>2020-11-18 16:02:37-08:00</td>\n",
       "      <td>NaT</td>\n",
       "      <td>4.816</td>\n",
       "      <td>2_39_81_4550_2020-11-18 23:36:26.012461</td>\n",
       "      <td>2</td>\n",
       "      <td>11900388</td>\n",
       "      <td>2-39-81-4550</td>\n",
       "      <td>America/Los_Angeles</td>\n",
       "      <td>7132.0</td>\n",
       "      <td>[{'WhPerMile': 274, 'kWhRequested': 8.22, 'mil...</td>\n",
       "      <td>False</td>\n",
       "      <td>0 days 00:26:11</td>\n",
       "    </tr>\n",
       "    <tr>\n",
       "      <th>51322</th>\n",
       "      <td>51324</td>\n",
       "      <td>2020-11-18 16:35:54-08:00</td>\n",
       "      <td>2020-11-18 17:31:08-08:00</td>\n",
       "      <td>NaT</td>\n",
       "      <td>10.027</td>\n",
       "      <td>2_39_81_4550_2020-11-19 00:35:53.924922</td>\n",
       "      <td>2</td>\n",
       "      <td>11900388</td>\n",
       "      <td>2-39-81-4550</td>\n",
       "      <td>America/Los_Angeles</td>\n",
       "      <td>4903.0</td>\n",
       "      <td>[{'WhPerMile': 258, 'kWhRequested': 51.6, 'mil...</td>\n",
       "      <td>False</td>\n",
       "      <td>0 days 00:55:14</td>\n",
       "    </tr>\n",
       "    <tr>\n",
       "      <th>51323</th>\n",
       "      <td>51325</td>\n",
       "      <td>2020-11-18 17:34:02-08:00</td>\n",
       "      <td>2020-11-18 18:45:14-08:00</td>\n",
       "      <td>NaT</td>\n",
       "      <td>24.486</td>\n",
       "      <td>2_39_81_4550_2020-11-19 01:33:46.845927</td>\n",
       "      <td>2</td>\n",
       "      <td>11900388</td>\n",
       "      <td>2-39-81-4550</td>\n",
       "      <td>America/Los_Angeles</td>\n",
       "      <td>4903.0</td>\n",
       "      <td>[{'WhPerMile': 258, 'kWhRequested': 51.6, 'mil...</td>\n",
       "      <td>False</td>\n",
       "      <td>0 days 01:11:12</td>\n",
       "    </tr>\n",
       "    <tr>\n",
       "      <th>51326</th>\n",
       "      <td>51328</td>\n",
       "      <td>2020-11-18 19:52:00-08:00</td>\n",
       "      <td>2020-11-18 20:00:50-08:00</td>\n",
       "      <td>NaT</td>\n",
       "      <td>4.788</td>\n",
       "      <td>2_39_81_4550_2020-11-19 03:51:59.755295</td>\n",
       "      <td>2</td>\n",
       "      <td>11900388</td>\n",
       "      <td>2-39-81-4550</td>\n",
       "      <td>America/Los_Angeles</td>\n",
       "      <td>1085.0</td>\n",
       "      <td>[{'WhPerMile': 283, 'kWhRequested': 56.6, 'mil...</td>\n",
       "      <td>False</td>\n",
       "      <td>0 days 00:08:50</td>\n",
       "    </tr>\n",
       "    <tr>\n",
       "      <th>51327</th>\n",
       "      <td>51329</td>\n",
       "      <td>2020-11-18 20:24:11-08:00</td>\n",
       "      <td>2020-11-18 21:07:15-08:00</td>\n",
       "      <td>NaT</td>\n",
       "      <td>30.849</td>\n",
       "      <td>2_39_81_4550_2020-11-19 04:24:10.706432</td>\n",
       "      <td>2</td>\n",
       "      <td>11900388</td>\n",
       "      <td>2-39-81-4550</td>\n",
       "      <td>America/Los_Angeles</td>\n",
       "      <td>9284.0</td>\n",
       "      <td>[{'WhPerMile': 400, 'kWhRequested': 40.0, 'mil...</td>\n",
       "      <td>False</td>\n",
       "      <td>0 days 00:43:04</td>\n",
       "    </tr>\n",
       "  </tbody>\n",
       "</table>\n",
       "</div>"
      ],
      "text/plain": [
       "          id            connectionTime            disconnectTime  \\\n",
       "51321  51323 2020-11-18 15:36:26-08:00 2020-11-18 16:02:37-08:00   \n",
       "51322  51324 2020-11-18 16:35:54-08:00 2020-11-18 17:31:08-08:00   \n",
       "51323  51325 2020-11-18 17:34:02-08:00 2020-11-18 18:45:14-08:00   \n",
       "51326  51328 2020-11-18 19:52:00-08:00 2020-11-18 20:00:50-08:00   \n",
       "51327  51329 2020-11-18 20:24:11-08:00 2020-11-18 21:07:15-08:00   \n",
       "\n",
       "      doneChargingTime  kWhDelivered                                sessionID  \\\n",
       "51321              NaT         4.816  2_39_81_4550_2020-11-18 23:36:26.012461   \n",
       "51322              NaT        10.027  2_39_81_4550_2020-11-19 00:35:53.924922   \n",
       "51323              NaT        24.486  2_39_81_4550_2020-11-19 01:33:46.845927   \n",
       "51326              NaT         4.788  2_39_81_4550_2020-11-19 03:51:59.755295   \n",
       "51327              NaT        30.849  2_39_81_4550_2020-11-19 04:24:10.706432   \n",
       "\n",
       "       siteID   spaceID     stationID             timezone  userID  \\\n",
       "51321       2  11900388  2-39-81-4550  America/Los_Angeles  7132.0   \n",
       "51322       2  11900388  2-39-81-4550  America/Los_Angeles  4903.0   \n",
       "51323       2  11900388  2-39-81-4550  America/Los_Angeles  4903.0   \n",
       "51326       2  11900388  2-39-81-4550  America/Los_Angeles  1085.0   \n",
       "51327       2  11900388  2-39-81-4550  America/Los_Angeles  9284.0   \n",
       "\n",
       "                                              userInputs  overlap  \\\n",
       "51321  [{'WhPerMile': 274, 'kWhRequested': 8.22, 'mil...    False   \n",
       "51322  [{'WhPerMile': 258, 'kWhRequested': 51.6, 'mil...    False   \n",
       "51323  [{'WhPerMile': 258, 'kWhRequested': 51.6, 'mil...    False   \n",
       "51326  [{'WhPerMile': 283, 'kWhRequested': 56.6, 'mil...    False   \n",
       "51327  [{'WhPerMile': 400, 'kWhRequested': 40.0, 'mil...    False   \n",
       "\n",
       "         parkDuration  \n",
       "51321 0 days 00:26:11  \n",
       "51322 0 days 00:55:14  \n",
       "51323 0 days 01:11:12  \n",
       "51326 0 days 00:08:50  \n",
       "51327 0 days 00:43:04  "
      ]
     },
     "execution_count": 18,
     "metadata": {},
     "output_type": "execute_result"
    }
   ],
   "source": [
    "df[\"parkDuration\"] = df[\"disconnectTime\"] - df[\"connectionTime\"]\n",
    "df.head()"
   ]
  },
  {
   "cell_type": "code",
   "execution_count": 19,
   "metadata": {},
   "outputs": [
    {
     "data": {
      "text/plain": [
       "count                        65009\n",
       "mean     0 days 06:16:27.227506960\n",
       "std      0 days 04:52:55.289136130\n",
       "min                0 days 00:02:04\n",
       "25%                0 days 02:49:58\n",
       "50%                0 days 06:09:34\n",
       "75%                0 days 09:12:22\n",
       "max               10 days 05:16:09\n",
       "Name: parkDuration, dtype: object"
      ]
     },
     "execution_count": 19,
     "metadata": {},
     "output_type": "execute_result"
    }
   ],
   "source": [
    "df[\"parkDuration\"].describe()"
   ]
  },
  {
   "cell_type": "markdown",
   "metadata": {},
   "source": [
    "Since there is no immensly high value like 3000 days, we are keeping all of the data"
   ]
  },
  {
   "cell_type": "markdown",
   "metadata": {},
   "source": [
    "Next, we convert the User Inputs into table columns. We start by only keeping the last userInput Json, as this contains the latest user request"
   ]
  },
  {
   "cell_type": "code",
   "execution_count": 22,
   "metadata": {},
   "outputs": [],
   "source": [
    "df[\"userInputs\"] = df[\"userInputs\"].str.rsplit(\"{\", n=1).str[1]\n",
    "df[\"userInputs\"] = \"[{\" + df[\"userInputs\"]"
   ]
  },
  {
   "cell_type": "code",
   "execution_count": 23,
   "metadata": {},
   "outputs": [
    {
     "name": "stdout",
     "output_type": "stream",
     "text": [
      "[<class 'list'>]\n"
     ]
    }
   ],
   "source": [
    "#convert userInputs from string and float to lists\n",
    "\n",
    "def safe_eval(x):\n",
    "    try:\n",
    "        # Check if it's a string and try parsing it\n",
    "        if isinstance(x, str):\n",
    "            return ast.literal_eval(x)\n",
    "        # If it's NaN or None, return an empty list\n",
    "        elif x is None or (isinstance(x, float) and np.isnan(x)):\n",
    "            return []\n",
    "        # If it's already a list, return as is\n",
    "        elif isinstance(x, list):\n",
    "            return x\n",
    "        # If it's some other unexpected object, return as is or log a warning\n",
    "        else:\n",
    "            return []  # Default to empty list for unrecognized cases\n",
    "    except (ValueError, SyntaxError, TypeError):\n",
    "        # Handle parsing errors safely\n",
    "        return []\n",
    "\n",
    "# Apply the safe_eval function to the 'userInputs' column\n",
    "df['userInputs'] = df['userInputs'].apply(safe_eval)\n",
    "\n",
    "# Verify the data types after applying the function\n",
    "print(df['userInputs'].apply(type).unique())"
   ]
  },
  {
   "cell_type": "code",
   "execution_count": 24,
   "metadata": {},
   "outputs": [
    {
     "data": {
      "text/html": [
       "<div>\n",
       "<style scoped>\n",
       "    .dataframe tbody tr th:only-of-type {\n",
       "        vertical-align: middle;\n",
       "    }\n",
       "\n",
       "    .dataframe tbody tr th {\n",
       "        vertical-align: top;\n",
       "    }\n",
       "\n",
       "    .dataframe thead th {\n",
       "        text-align: right;\n",
       "    }\n",
       "</style>\n",
       "<table border=\"1\" class=\"dataframe\">\n",
       "  <thead>\n",
       "    <tr style=\"text-align: right;\">\n",
       "      <th></th>\n",
       "      <th>id</th>\n",
       "      <th>connectionTime</th>\n",
       "      <th>disconnectTime</th>\n",
       "      <th>doneChargingTime</th>\n",
       "      <th>kWhDelivered</th>\n",
       "      <th>sessionID</th>\n",
       "      <th>siteID</th>\n",
       "      <th>spaceID</th>\n",
       "      <th>stationID</th>\n",
       "      <th>timezone</th>\n",
       "      <th>...</th>\n",
       "      <th>overlap</th>\n",
       "      <th>parkDuration</th>\n",
       "      <th>WhPerMile</th>\n",
       "      <th>kWhRequested</th>\n",
       "      <th>milesRequested</th>\n",
       "      <th>minutesAvailable</th>\n",
       "      <th>modifiedAt</th>\n",
       "      <th>paymentRequired</th>\n",
       "      <th>requestedDeparture</th>\n",
       "      <th>userID_y</th>\n",
       "    </tr>\n",
       "  </thead>\n",
       "  <tbody>\n",
       "    <tr>\n",
       "      <th>0</th>\n",
       "      <td>51323</td>\n",
       "      <td>2020-11-18 15:36:26-08:00</td>\n",
       "      <td>2020-11-18 16:02:37-08:00</td>\n",
       "      <td>NaT</td>\n",
       "      <td>4.816</td>\n",
       "      <td>2_39_81_4550_2020-11-18 23:36:26.012461</td>\n",
       "      <td>2</td>\n",
       "      <td>11900388</td>\n",
       "      <td>2-39-81-4550</td>\n",
       "      <td>America/Los_Angeles</td>\n",
       "      <td>...</td>\n",
       "      <td>False</td>\n",
       "      <td>0 days 00:26:11</td>\n",
       "      <td>274.0</td>\n",
       "      <td>8.22</td>\n",
       "      <td>30.0</td>\n",
       "      <td>480.0</td>\n",
       "      <td>Wed, 18 Nov 2020 23:36:42 GMT</td>\n",
       "      <td>True</td>\n",
       "      <td>Thu, 19 Nov 2020 07:36:26 GMT</td>\n",
       "      <td>7132.0</td>\n",
       "    </tr>\n",
       "    <tr>\n",
       "      <th>1</th>\n",
       "      <td>51324</td>\n",
       "      <td>2020-11-18 16:35:54-08:00</td>\n",
       "      <td>2020-11-18 17:31:08-08:00</td>\n",
       "      <td>NaT</td>\n",
       "      <td>10.027</td>\n",
       "      <td>2_39_81_4550_2020-11-19 00:35:53.924922</td>\n",
       "      <td>2</td>\n",
       "      <td>11900388</td>\n",
       "      <td>2-39-81-4550</td>\n",
       "      <td>America/Los_Angeles</td>\n",
       "      <td>...</td>\n",
       "      <td>False</td>\n",
       "      <td>0 days 00:55:14</td>\n",
       "      <td>258.0</td>\n",
       "      <td>51.60</td>\n",
       "      <td>200.0</td>\n",
       "      <td>576.0</td>\n",
       "      <td>Thu, 19 Nov 2020 00:36:25 GMT</td>\n",
       "      <td>True</td>\n",
       "      <td>Thu, 19 Nov 2020 10:11:54 GMT</td>\n",
       "      <td>4903.0</td>\n",
       "    </tr>\n",
       "    <tr>\n",
       "      <th>2</th>\n",
       "      <td>51325</td>\n",
       "      <td>2020-11-18 17:34:02-08:00</td>\n",
       "      <td>2020-11-18 18:45:14-08:00</td>\n",
       "      <td>NaT</td>\n",
       "      <td>24.486</td>\n",
       "      <td>2_39_81_4550_2020-11-19 01:33:46.845927</td>\n",
       "      <td>2</td>\n",
       "      <td>11900388</td>\n",
       "      <td>2-39-81-4550</td>\n",
       "      <td>America/Los_Angeles</td>\n",
       "      <td>...</td>\n",
       "      <td>False</td>\n",
       "      <td>0 days 01:11:12</td>\n",
       "      <td>258.0</td>\n",
       "      <td>51.60</td>\n",
       "      <td>200.0</td>\n",
       "      <td>576.0</td>\n",
       "      <td>Thu, 19 Nov 2020 01:34:02 GMT</td>\n",
       "      <td>True</td>\n",
       "      <td>Thu, 19 Nov 2020 11:10:02 GMT</td>\n",
       "      <td>4903.0</td>\n",
       "    </tr>\n",
       "    <tr>\n",
       "      <th>3</th>\n",
       "      <td>51328</td>\n",
       "      <td>2020-11-18 19:52:00-08:00</td>\n",
       "      <td>2020-11-18 20:00:50-08:00</td>\n",
       "      <td>NaT</td>\n",
       "      <td>4.788</td>\n",
       "      <td>2_39_81_4550_2020-11-19 03:51:59.755295</td>\n",
       "      <td>2</td>\n",
       "      <td>11900388</td>\n",
       "      <td>2-39-81-4550</td>\n",
       "      <td>America/Los_Angeles</td>\n",
       "      <td>...</td>\n",
       "      <td>False</td>\n",
       "      <td>0 days 00:08:50</td>\n",
       "      <td>283.0</td>\n",
       "      <td>56.60</td>\n",
       "      <td>200.0</td>\n",
       "      <td>589.0</td>\n",
       "      <td>Thu, 19 Nov 2020 03:52:50 GMT</td>\n",
       "      <td>True</td>\n",
       "      <td>Thu, 19 Nov 2020 13:41:00 GMT</td>\n",
       "      <td>1085.0</td>\n",
       "    </tr>\n",
       "    <tr>\n",
       "      <th>4</th>\n",
       "      <td>51329</td>\n",
       "      <td>2020-11-18 20:24:11-08:00</td>\n",
       "      <td>2020-11-18 21:07:15-08:00</td>\n",
       "      <td>NaT</td>\n",
       "      <td>30.849</td>\n",
       "      <td>2_39_81_4550_2020-11-19 04:24:10.706432</td>\n",
       "      <td>2</td>\n",
       "      <td>11900388</td>\n",
       "      <td>2-39-81-4550</td>\n",
       "      <td>America/Los_Angeles</td>\n",
       "      <td>...</td>\n",
       "      <td>False</td>\n",
       "      <td>0 days 00:43:04</td>\n",
       "      <td>400.0</td>\n",
       "      <td>40.00</td>\n",
       "      <td>100.0</td>\n",
       "      <td>30.0</td>\n",
       "      <td>Thu, 19 Nov 2020 04:24:50 GMT</td>\n",
       "      <td>True</td>\n",
       "      <td>Thu, 19 Nov 2020 04:54:11 GMT</td>\n",
       "      <td>9284.0</td>\n",
       "    </tr>\n",
       "  </tbody>\n",
       "</table>\n",
       "<p>5 rows × 22 columns</p>\n",
       "</div>"
      ],
      "text/plain": [
       "      id            connectionTime            disconnectTime doneChargingTime  \\\n",
       "0  51323 2020-11-18 15:36:26-08:00 2020-11-18 16:02:37-08:00              NaT   \n",
       "1  51324 2020-11-18 16:35:54-08:00 2020-11-18 17:31:08-08:00              NaT   \n",
       "2  51325 2020-11-18 17:34:02-08:00 2020-11-18 18:45:14-08:00              NaT   \n",
       "3  51328 2020-11-18 19:52:00-08:00 2020-11-18 20:00:50-08:00              NaT   \n",
       "4  51329 2020-11-18 20:24:11-08:00 2020-11-18 21:07:15-08:00              NaT   \n",
       "\n",
       "   kWhDelivered                                sessionID  siteID   spaceID  \\\n",
       "0         4.816  2_39_81_4550_2020-11-18 23:36:26.012461       2  11900388   \n",
       "1        10.027  2_39_81_4550_2020-11-19 00:35:53.924922       2  11900388   \n",
       "2        24.486  2_39_81_4550_2020-11-19 01:33:46.845927       2  11900388   \n",
       "3         4.788  2_39_81_4550_2020-11-19 03:51:59.755295       2  11900388   \n",
       "4        30.849  2_39_81_4550_2020-11-19 04:24:10.706432       2  11900388   \n",
       "\n",
       "      stationID             timezone  ...  overlap    parkDuration  WhPerMile  \\\n",
       "0  2-39-81-4550  America/Los_Angeles  ...    False 0 days 00:26:11      274.0   \n",
       "1  2-39-81-4550  America/Los_Angeles  ...    False 0 days 00:55:14      258.0   \n",
       "2  2-39-81-4550  America/Los_Angeles  ...    False 0 days 01:11:12      258.0   \n",
       "3  2-39-81-4550  America/Los_Angeles  ...    False 0 days 00:08:50      283.0   \n",
       "4  2-39-81-4550  America/Los_Angeles  ...    False 0 days 00:43:04      400.0   \n",
       "\n",
       "  kWhRequested  milesRequested  minutesAvailable  \\\n",
       "0         8.22            30.0             480.0   \n",
       "1        51.60           200.0             576.0   \n",
       "2        51.60           200.0             576.0   \n",
       "3        56.60           200.0             589.0   \n",
       "4        40.00           100.0              30.0   \n",
       "\n",
       "                      modifiedAt  paymentRequired  \\\n",
       "0  Wed, 18 Nov 2020 23:36:42 GMT             True   \n",
       "1  Thu, 19 Nov 2020 00:36:25 GMT             True   \n",
       "2  Thu, 19 Nov 2020 01:34:02 GMT             True   \n",
       "3  Thu, 19 Nov 2020 03:52:50 GMT             True   \n",
       "4  Thu, 19 Nov 2020 04:24:50 GMT             True   \n",
       "\n",
       "              requestedDeparture userID_y  \n",
       "0  Thu, 19 Nov 2020 07:36:26 GMT   7132.0  \n",
       "1  Thu, 19 Nov 2020 10:11:54 GMT   4903.0  \n",
       "2  Thu, 19 Nov 2020 11:10:02 GMT   4903.0  \n",
       "3  Thu, 19 Nov 2020 13:41:00 GMT   1085.0  \n",
       "4  Thu, 19 Nov 2020 04:54:11 GMT   9284.0  \n",
       "\n",
       "[5 rows x 22 columns]"
      ]
     },
     "execution_count": 24,
     "metadata": {},
     "output_type": "execute_result"
    }
   ],
   "source": [
    "# Explode and normalize userInputs\n",
    "exploded_user_inputs = df['userInputs'].explode()\n",
    "\n",
    "# Normalize the dictionaries into columns\n",
    "user_inputs_normalized = pd.json_normalize(exploded_user_inputs)\n",
    "\n",
    "# Restore the original index for merging\n",
    "user_inputs_normalized['original_index'] = exploded_user_inputs.index\n",
    "\n",
    "# Merge normalized data back into the original DataFrame\n",
    "df = df.merge(user_inputs_normalized, left_index=True, right_on='original_index', how='left')\n",
    "\n",
    "# Drop the auxiliary column\n",
    "df.drop(columns=['original_index'], inplace=True, errors='ignore')\n",
    "\n",
    "# Inspect the updated DataFrame\n",
    "df.head()"
   ]
  },
  {
   "cell_type": "markdown",
   "metadata": {},
   "source": [
    "We remove temporary and unnecessary columns for the next tasks."
   ]
  },
  {
   "cell_type": "code",
   "execution_count": 25,
   "metadata": {},
   "outputs": [],
   "source": [
    "df = df.drop(\"sessionID\", axis=1)\n",
    "df = df.drop(\"timezone\", axis=1)\n",
    "df = df.drop(\"overlap\", axis=1)\n",
    "df = df.drop(\"modifiedAt\", axis=1)\n",
    "df = df.drop(\"userInputs\", axis=1)\n",
    "df = df.drop(\"userID_y\", axis=1)"
   ]
  },
  {
   "cell_type": "code",
   "execution_count": 26,
   "metadata": {},
   "outputs": [
    {
     "data": {
      "text/html": [
       "<div>\n",
       "<style scoped>\n",
       "    .dataframe tbody tr th:only-of-type {\n",
       "        vertical-align: middle;\n",
       "    }\n",
       "\n",
       "    .dataframe tbody tr th {\n",
       "        vertical-align: top;\n",
       "    }\n",
       "\n",
       "    .dataframe thead th {\n",
       "        text-align: right;\n",
       "    }\n",
       "</style>\n",
       "<table border=\"1\" class=\"dataframe\">\n",
       "  <thead>\n",
       "    <tr style=\"text-align: right;\">\n",
       "      <th></th>\n",
       "      <th>id</th>\n",
       "      <th>connectionTime</th>\n",
       "      <th>disconnectTime</th>\n",
       "      <th>doneChargingTime</th>\n",
       "      <th>kWhDelivered</th>\n",
       "      <th>siteID</th>\n",
       "      <th>spaceID</th>\n",
       "      <th>stationID</th>\n",
       "      <th>userID_x</th>\n",
       "      <th>parkDuration</th>\n",
       "      <th>WhPerMile</th>\n",
       "      <th>kWhRequested</th>\n",
       "      <th>milesRequested</th>\n",
       "      <th>minutesAvailable</th>\n",
       "      <th>paymentRequired</th>\n",
       "      <th>requestedDeparture</th>\n",
       "    </tr>\n",
       "  </thead>\n",
       "  <tbody>\n",
       "    <tr>\n",
       "      <th>0</th>\n",
       "      <td>51323</td>\n",
       "      <td>2020-11-18 15:36:26-08:00</td>\n",
       "      <td>2020-11-18 16:02:37-08:00</td>\n",
       "      <td>NaT</td>\n",
       "      <td>4.816</td>\n",
       "      <td>2</td>\n",
       "      <td>11900388</td>\n",
       "      <td>2-39-81-4550</td>\n",
       "      <td>7132.0</td>\n",
       "      <td>0 days 00:26:11</td>\n",
       "      <td>274.0</td>\n",
       "      <td>8.22</td>\n",
       "      <td>30.0</td>\n",
       "      <td>480.0</td>\n",
       "      <td>True</td>\n",
       "      <td>Thu, 19 Nov 2020 07:36:26 GMT</td>\n",
       "    </tr>\n",
       "    <tr>\n",
       "      <th>1</th>\n",
       "      <td>51324</td>\n",
       "      <td>2020-11-18 16:35:54-08:00</td>\n",
       "      <td>2020-11-18 17:31:08-08:00</td>\n",
       "      <td>NaT</td>\n",
       "      <td>10.027</td>\n",
       "      <td>2</td>\n",
       "      <td>11900388</td>\n",
       "      <td>2-39-81-4550</td>\n",
       "      <td>4903.0</td>\n",
       "      <td>0 days 00:55:14</td>\n",
       "      <td>258.0</td>\n",
       "      <td>51.60</td>\n",
       "      <td>200.0</td>\n",
       "      <td>576.0</td>\n",
       "      <td>True</td>\n",
       "      <td>Thu, 19 Nov 2020 10:11:54 GMT</td>\n",
       "    </tr>\n",
       "    <tr>\n",
       "      <th>2</th>\n",
       "      <td>51325</td>\n",
       "      <td>2020-11-18 17:34:02-08:00</td>\n",
       "      <td>2020-11-18 18:45:14-08:00</td>\n",
       "      <td>NaT</td>\n",
       "      <td>24.486</td>\n",
       "      <td>2</td>\n",
       "      <td>11900388</td>\n",
       "      <td>2-39-81-4550</td>\n",
       "      <td>4903.0</td>\n",
       "      <td>0 days 01:11:12</td>\n",
       "      <td>258.0</td>\n",
       "      <td>51.60</td>\n",
       "      <td>200.0</td>\n",
       "      <td>576.0</td>\n",
       "      <td>True</td>\n",
       "      <td>Thu, 19 Nov 2020 11:10:02 GMT</td>\n",
       "    </tr>\n",
       "    <tr>\n",
       "      <th>3</th>\n",
       "      <td>51328</td>\n",
       "      <td>2020-11-18 19:52:00-08:00</td>\n",
       "      <td>2020-11-18 20:00:50-08:00</td>\n",
       "      <td>NaT</td>\n",
       "      <td>4.788</td>\n",
       "      <td>2</td>\n",
       "      <td>11900388</td>\n",
       "      <td>2-39-81-4550</td>\n",
       "      <td>1085.0</td>\n",
       "      <td>0 days 00:08:50</td>\n",
       "      <td>283.0</td>\n",
       "      <td>56.60</td>\n",
       "      <td>200.0</td>\n",
       "      <td>589.0</td>\n",
       "      <td>True</td>\n",
       "      <td>Thu, 19 Nov 2020 13:41:00 GMT</td>\n",
       "    </tr>\n",
       "    <tr>\n",
       "      <th>4</th>\n",
       "      <td>51329</td>\n",
       "      <td>2020-11-18 20:24:11-08:00</td>\n",
       "      <td>2020-11-18 21:07:15-08:00</td>\n",
       "      <td>NaT</td>\n",
       "      <td>30.849</td>\n",
       "      <td>2</td>\n",
       "      <td>11900388</td>\n",
       "      <td>2-39-81-4550</td>\n",
       "      <td>9284.0</td>\n",
       "      <td>0 days 00:43:04</td>\n",
       "      <td>400.0</td>\n",
       "      <td>40.00</td>\n",
       "      <td>100.0</td>\n",
       "      <td>30.0</td>\n",
       "      <td>True</td>\n",
       "      <td>Thu, 19 Nov 2020 04:54:11 GMT</td>\n",
       "    </tr>\n",
       "    <tr>\n",
       "      <th>...</th>\n",
       "      <td>...</td>\n",
       "      <td>...</td>\n",
       "      <td>...</td>\n",
       "      <td>...</td>\n",
       "      <td>...</td>\n",
       "      <td>...</td>\n",
       "      <td>...</td>\n",
       "      <td>...</td>\n",
       "      <td>...</td>\n",
       "      <td>...</td>\n",
       "      <td>...</td>\n",
       "      <td>...</td>\n",
       "      <td>...</td>\n",
       "      <td>...</td>\n",
       "      <td>...</td>\n",
       "      <td>...</td>\n",
       "    </tr>\n",
       "    <tr>\n",
       "      <th>65004</th>\n",
       "      <td>24487</td>\n",
       "      <td>2019-05-13 12:43:12-07:00</td>\n",
       "      <td>2019-05-13 14:54:33-07:00</td>\n",
       "      <td>2019-05-13 13:46:37-07:00</td>\n",
       "      <td>2.308</td>\n",
       "      <td>2</td>\n",
       "      <td>CA-513</td>\n",
       "      <td>2-39-139-567</td>\n",
       "      <td>560.0</td>\n",
       "      <td>0 days 02:11:21</td>\n",
       "      <td>273.0</td>\n",
       "      <td>5.46</td>\n",
       "      <td>20.0</td>\n",
       "      <td>133.0</td>\n",
       "      <td>True</td>\n",
       "      <td>Mon, 13 May 2019 21:56:12 GMT</td>\n",
       "    </tr>\n",
       "    <tr>\n",
       "      <th>65005</th>\n",
       "      <td>25429</td>\n",
       "      <td>2019-06-13 09:53:42-07:00</td>\n",
       "      <td>2019-06-13 10:35:12-07:00</td>\n",
       "      <td>2019-06-13 10:24:57-07:00</td>\n",
       "      <td>0.908</td>\n",
       "      <td>2</td>\n",
       "      <td>CA-513</td>\n",
       "      <td>2-39-139-567</td>\n",
       "      <td>NaN</td>\n",
       "      <td>0 days 00:41:30</td>\n",
       "      <td>NaN</td>\n",
       "      <td>NaN</td>\n",
       "      <td>NaN</td>\n",
       "      <td>NaN</td>\n",
       "      <td>NaN</td>\n",
       "      <td>NaN</td>\n",
       "    </tr>\n",
       "    <tr>\n",
       "      <th>65006</th>\n",
       "      <td>28030</td>\n",
       "      <td>2019-09-16 06:55:08-07:00</td>\n",
       "      <td>2019-09-16 08:34:27-07:00</td>\n",
       "      <td>2019-09-16 07:25:44-07:00</td>\n",
       "      <td>0.893</td>\n",
       "      <td>2</td>\n",
       "      <td>CA-513</td>\n",
       "      <td>2-39-139-567</td>\n",
       "      <td>NaN</td>\n",
       "      <td>0 days 01:39:19</td>\n",
       "      <td>NaN</td>\n",
       "      <td>NaN</td>\n",
       "      <td>NaN</td>\n",
       "      <td>NaN</td>\n",
       "      <td>NaN</td>\n",
       "      <td>NaN</td>\n",
       "    </tr>\n",
       "    <tr>\n",
       "      <th>65007</th>\n",
       "      <td>29515</td>\n",
       "      <td>2019-11-06 07:28:18-08:00</td>\n",
       "      <td>2019-11-06 08:41:56-08:00</td>\n",
       "      <td>2019-11-06 07:58:42-08:00</td>\n",
       "      <td>0.900</td>\n",
       "      <td>2</td>\n",
       "      <td>CA-513</td>\n",
       "      <td>2-39-139-567</td>\n",
       "      <td>NaN</td>\n",
       "      <td>0 days 01:13:38</td>\n",
       "      <td>NaN</td>\n",
       "      <td>NaN</td>\n",
       "      <td>NaN</td>\n",
       "      <td>NaN</td>\n",
       "      <td>NaN</td>\n",
       "      <td>NaN</td>\n",
       "    </tr>\n",
       "    <tr>\n",
       "      <th>65008</th>\n",
       "      <td>48032</td>\n",
       "      <td>2021-07-19 20:47:35-07:00</td>\n",
       "      <td>2021-07-19 21:50:03-07:00</td>\n",
       "      <td>2021-07-19 21:49:58-07:00</td>\n",
       "      <td>7.334</td>\n",
       "      <td>2</td>\n",
       "      <td>CA-513</td>\n",
       "      <td>2-39-139-567</td>\n",
       "      <td>2643.0</td>\n",
       "      <td>0 days 01:02:28</td>\n",
       "      <td>289.0</td>\n",
       "      <td>28.90</td>\n",
       "      <td>100.0</td>\n",
       "      <td>480.0</td>\n",
       "      <td>True</td>\n",
       "      <td>Tue, 20 Jul 2021 11:47:35 GMT</td>\n",
       "    </tr>\n",
       "  </tbody>\n",
       "</table>\n",
       "<p>65009 rows × 16 columns</p>\n",
       "</div>"
      ],
      "text/plain": [
       "          id            connectionTime            disconnectTime  \\\n",
       "0      51323 2020-11-18 15:36:26-08:00 2020-11-18 16:02:37-08:00   \n",
       "1      51324 2020-11-18 16:35:54-08:00 2020-11-18 17:31:08-08:00   \n",
       "2      51325 2020-11-18 17:34:02-08:00 2020-11-18 18:45:14-08:00   \n",
       "3      51328 2020-11-18 19:52:00-08:00 2020-11-18 20:00:50-08:00   \n",
       "4      51329 2020-11-18 20:24:11-08:00 2020-11-18 21:07:15-08:00   \n",
       "...      ...                       ...                       ...   \n",
       "65004  24487 2019-05-13 12:43:12-07:00 2019-05-13 14:54:33-07:00   \n",
       "65005  25429 2019-06-13 09:53:42-07:00 2019-06-13 10:35:12-07:00   \n",
       "65006  28030 2019-09-16 06:55:08-07:00 2019-09-16 08:34:27-07:00   \n",
       "65007  29515 2019-11-06 07:28:18-08:00 2019-11-06 08:41:56-08:00   \n",
       "65008  48032 2021-07-19 20:47:35-07:00 2021-07-19 21:50:03-07:00   \n",
       "\n",
       "               doneChargingTime  kWhDelivered  siteID   spaceID     stationID  \\\n",
       "0                           NaT         4.816       2  11900388  2-39-81-4550   \n",
       "1                           NaT        10.027       2  11900388  2-39-81-4550   \n",
       "2                           NaT        24.486       2  11900388  2-39-81-4550   \n",
       "3                           NaT         4.788       2  11900388  2-39-81-4550   \n",
       "4                           NaT        30.849       2  11900388  2-39-81-4550   \n",
       "...                         ...           ...     ...       ...           ...   \n",
       "65004 2019-05-13 13:46:37-07:00         2.308       2    CA-513  2-39-139-567   \n",
       "65005 2019-06-13 10:24:57-07:00         0.908       2    CA-513  2-39-139-567   \n",
       "65006 2019-09-16 07:25:44-07:00         0.893       2    CA-513  2-39-139-567   \n",
       "65007 2019-11-06 07:58:42-08:00         0.900       2    CA-513  2-39-139-567   \n",
       "65008 2021-07-19 21:49:58-07:00         7.334       2    CA-513  2-39-139-567   \n",
       "\n",
       "       userID_x    parkDuration  WhPerMile  kWhRequested  milesRequested  \\\n",
       "0        7132.0 0 days 00:26:11      274.0          8.22            30.0   \n",
       "1        4903.0 0 days 00:55:14      258.0         51.60           200.0   \n",
       "2        4903.0 0 days 01:11:12      258.0         51.60           200.0   \n",
       "3        1085.0 0 days 00:08:50      283.0         56.60           200.0   \n",
       "4        9284.0 0 days 00:43:04      400.0         40.00           100.0   \n",
       "...         ...             ...        ...           ...             ...   \n",
       "65004     560.0 0 days 02:11:21      273.0          5.46            20.0   \n",
       "65005       NaN 0 days 00:41:30        NaN           NaN             NaN   \n",
       "65006       NaN 0 days 01:39:19        NaN           NaN             NaN   \n",
       "65007       NaN 0 days 01:13:38        NaN           NaN             NaN   \n",
       "65008    2643.0 0 days 01:02:28      289.0         28.90           100.0   \n",
       "\n",
       "       minutesAvailable paymentRequired             requestedDeparture  \n",
       "0                 480.0            True  Thu, 19 Nov 2020 07:36:26 GMT  \n",
       "1                 576.0            True  Thu, 19 Nov 2020 10:11:54 GMT  \n",
       "2                 576.0            True  Thu, 19 Nov 2020 11:10:02 GMT  \n",
       "3                 589.0            True  Thu, 19 Nov 2020 13:41:00 GMT  \n",
       "4                  30.0            True  Thu, 19 Nov 2020 04:54:11 GMT  \n",
       "...                 ...             ...                            ...  \n",
       "65004             133.0            True  Mon, 13 May 2019 21:56:12 GMT  \n",
       "65005               NaN             NaN                            NaN  \n",
       "65006               NaN             NaN                            NaN  \n",
       "65007               NaN             NaN                            NaN  \n",
       "65008             480.0            True  Tue, 20 Jul 2021 11:47:35 GMT  \n",
       "\n",
       "[65009 rows x 16 columns]"
      ]
     },
     "execution_count": 26,
     "metadata": {},
     "output_type": "execute_result"
    }
   ],
   "source": [
    "df"
   ]
  },
  {
   "cell_type": "code",
   "execution_count": 27,
   "metadata": {},
   "outputs": [
    {
     "data": {
      "text/plain": [
       "array([True, nan], dtype=object)"
      ]
     },
     "execution_count": 27,
     "metadata": {},
     "output_type": "execute_result"
    }
   ],
   "source": [
    "uniquePayment = df[\"paymentRequired\"].unique()\n",
    "uniquePayment"
   ]
  },
  {
   "cell_type": "markdown",
   "metadata": {},
   "source": [
    "The column paymentRequired is always True or NaN, so it holds no information and we can delete it."
   ]
  },
  {
   "cell_type": "code",
   "execution_count": 56,
   "metadata": {},
   "outputs": [],
   "source": [
    "df = df.drop(\"paymentRequired\", axis=1)"
   ]
  },
  {
   "cell_type": "code",
   "execution_count": 57,
   "metadata": {},
   "outputs": [
    {
     "name": "stdout",
     "output_type": "stream",
     "text": [
      "<class 'pandas.core.frame.DataFrame'>\n",
      "RangeIndex: 65009 entries, 0 to 65008\n",
      "Data columns (total 15 columns):\n",
      " #   Column              Non-Null Count  Dtype                              \n",
      "---  ------              --------------  -----                              \n",
      " 0   id                  65009 non-null  int64                              \n",
      " 1   connectionTime      65009 non-null  datetime64[ns, America/Los_Angeles]\n",
      " 2   disconnectTime      65009 non-null  datetime64[ns, America/Los_Angeles]\n",
      " 3   doneChargingTime    60922 non-null  datetime64[ns, America/Los_Angeles]\n",
      " 4   kWhDelivered        65009 non-null  float64                            \n",
      " 5   siteID              65009 non-null  int64                              \n",
      " 6   spaceID             65009 non-null  object                             \n",
      " 7   stationID           65009 non-null  object                             \n",
      " 8   userID_x            47816 non-null  float64                            \n",
      " 9   parkDuration        65009 non-null  timedelta64[ns]                    \n",
      " 10  WhPerMile           47816 non-null  float64                            \n",
      " 11  kWhRequested        47816 non-null  float64                            \n",
      " 12  milesRequested      47816 non-null  float64                            \n",
      " 13  minutesAvailable    47816 non-null  float64                            \n",
      " 14  requestedDeparture  47816 non-null  object                             \n",
      "dtypes: datetime64[ns, America/Los_Angeles](3), float64(6), int64(2), object(3), timedelta64[ns](1)\n",
      "memory usage: 7.4+ MB\n"
     ]
    }
   ],
   "source": [
    "df.info()"
   ]
  },
  {
   "cell_type": "markdown",
   "metadata": {},
   "source": [
    "Lastly, we map the weather data to the charging data."
   ]
  },
  {
   "cell_type": "code",
   "execution_count": 58,
   "metadata": {},
   "outputs": [
    {
     "name": "stdout",
     "output_type": "stream",
     "text": [
      "<class 'pandas.core.frame.DataFrame'>\n",
      "RangeIndex: 1096 entries, 0 to 1095\n",
      "Data columns (total 5 columns):\n",
      " #   Column         Non-Null Count  Dtype         \n",
      "---  ------         --------------  -----         \n",
      " 0   Unnamed: 0     1096 non-null   int64         \n",
      " 1   day            1096 non-null   datetime64[ns]\n",
      " 2   temperature    1096 non-null   float64       \n",
      " 3   cloud_cover    1096 non-null   float64       \n",
      " 4   precipitation  1096 non-null   float64       \n",
      "dtypes: datetime64[ns](1), float64(3), int64(1)\n",
      "memory usage: 42.9 KB\n"
     ]
    }
   ],
   "source": [
    "weather = pd.read_csv(\"cleanWeatherData.csv\")\n",
    "weather[\"day\"] = pd.to_datetime(weather[\"day\"])\n",
    "weather.info()"
   ]
  },
  {
   "cell_type": "markdown",
   "metadata": {},
   "source": [
    "We need the day from the charging data so that we can compare those and join them with the weather data"
   ]
  },
  {
   "cell_type": "code",
   "execution_count": 66,
   "metadata": {},
   "outputs": [
    {
     "name": "stdout",
     "output_type": "stream",
     "text": [
      "<class 'pandas.core.frame.DataFrame'>\n",
      "RangeIndex: 65009 entries, 0 to 65008\n",
      "Data columns (total 16 columns):\n",
      " #   Column              Non-Null Count  Dtype                              \n",
      "---  ------              --------------  -----                              \n",
      " 0   id                  65009 non-null  int64                              \n",
      " 1   connectionTime      65009 non-null  datetime64[ns, America/Los_Angeles]\n",
      " 2   disconnectTime      65009 non-null  datetime64[ns, America/Los_Angeles]\n",
      " 3   doneChargingTime    60922 non-null  datetime64[ns, America/Los_Angeles]\n",
      " 4   kWhDelivered        65009 non-null  float64                            \n",
      " 5   siteID              65009 non-null  int64                              \n",
      " 6   spaceID             65009 non-null  object                             \n",
      " 7   stationID           65009 non-null  object                             \n",
      " 8   userID_x            47816 non-null  float64                            \n",
      " 9   parkDuration        65009 non-null  timedelta64[ns]                    \n",
      " 10  WhPerMile           47816 non-null  float64                            \n",
      " 11  kWhRequested        47816 non-null  float64                            \n",
      " 12  milesRequested      47816 non-null  float64                            \n",
      " 13  minutesAvailable    47816 non-null  float64                            \n",
      " 14  requestedDeparture  47816 non-null  object                             \n",
      " 15  dayOnly             65009 non-null  datetime64[ns]                     \n",
      "dtypes: datetime64[ns, America/Los_Angeles](3), datetime64[ns](1), float64(6), int64(2), object(3), timedelta64[ns](1)\n",
      "memory usage: 7.9+ MB\n"
     ]
    }
   ],
   "source": [
    "df[\"dayOnly\"] = df[\"connectionTime\"].dt.date\n",
    "df[\"dayOnly\"] = pd.to_datetime(df[\"dayOnly\"])\n",
    "df.info()"
   ]
  },
  {
   "cell_type": "markdown",
   "metadata": {},
   "source": [
    "Now we merge the charging and weather data on each day"
   ]
  },
  {
   "cell_type": "code",
   "execution_count": 60,
   "metadata": {},
   "outputs": [
    {
     "name": "stdout",
     "output_type": "stream",
     "text": [
      "<class 'pandas.core.frame.DataFrame'>\n",
      "RangeIndex: 65009 entries, 0 to 65008\n",
      "Data columns (total 18 columns):\n",
      " #   Column              Non-Null Count  Dtype                              \n",
      "---  ------              --------------  -----                              \n",
      " 0   id                  65009 non-null  int64                              \n",
      " 1   connectionTime      65009 non-null  datetime64[ns, America/Los_Angeles]\n",
      " 2   disconnectTime      65009 non-null  datetime64[ns, America/Los_Angeles]\n",
      " 3   doneChargingTime    60922 non-null  datetime64[ns, America/Los_Angeles]\n",
      " 4   kWhDelivered        65009 non-null  float64                            \n",
      " 5   siteID              65009 non-null  int64                              \n",
      " 6   spaceID             65009 non-null  object                             \n",
      " 7   stationID           65009 non-null  object                             \n",
      " 8   userID_x            47816 non-null  float64                            \n",
      " 9   parkDuration        65009 non-null  timedelta64[ns]                    \n",
      " 10  WhPerMile           47816 non-null  float64                            \n",
      " 11  kWhRequested        47816 non-null  float64                            \n",
      " 12  milesRequested      47816 non-null  float64                            \n",
      " 13  minutesAvailable    47816 non-null  float64                            \n",
      " 14  requestedDeparture  47816 non-null  object                             \n",
      " 15  temperature         56107 non-null  float64                            \n",
      " 16  cloud_cover         56107 non-null  float64                            \n",
      " 17  precipitation       56107 non-null  float64                            \n",
      "dtypes: datetime64[ns, America/Los_Angeles](3), float64(9), int64(2), object(3), timedelta64[ns](1)\n",
      "memory usage: 8.9+ MB\n"
     ]
    }
   ],
   "source": [
    "merge = pd.merge(df, weather, left_on= \"dayOnly\", right_on=\"day\", how=\"left\")\n",
    "merge = merge.drop(\"day\", axis=1)\n",
    "merge = merge.drop(\"dayOnly\", axis=1)\n",
    "merge = merge.drop(\"Unnamed: 0\", axis=1)\n",
    "merge.info()"
   ]
  },
  {
   "cell_type": "markdown",
   "metadata": {},
   "source": [
    "We create one csv with all of the cleaned data and one with all the doneChargingTime Null Values and rows without weather data removed."
   ]
  },
  {
   "cell_type": "code",
   "execution_count": 61,
   "metadata": {},
   "outputs": [
    {
     "name": "stdout",
     "output_type": "stream",
     "text": [
      "<class 'pandas.core.frame.DataFrame'>\n",
      "Index: 53474 entries, 1149 to 65007\n",
      "Data columns (total 18 columns):\n",
      " #   Column              Non-Null Count  Dtype                              \n",
      "---  ------              --------------  -----                              \n",
      " 0   id                  53474 non-null  int64                              \n",
      " 1   connectionTime      53474 non-null  datetime64[ns, America/Los_Angeles]\n",
      " 2   disconnectTime      53474 non-null  datetime64[ns, America/Los_Angeles]\n",
      " 3   doneChargingTime    53474 non-null  datetime64[ns, America/Los_Angeles]\n",
      " 4   kWhDelivered        53474 non-null  float64                            \n",
      " 5   siteID              53474 non-null  int64                              \n",
      " 6   spaceID             53474 non-null  object                             \n",
      " 7   stationID           53474 non-null  object                             \n",
      " 8   userID_x            37605 non-null  float64                            \n",
      " 9   parkDuration        53474 non-null  timedelta64[ns]                    \n",
      " 10  WhPerMile           37605 non-null  float64                            \n",
      " 11  kWhRequested        37605 non-null  float64                            \n",
      " 12  milesRequested      37605 non-null  float64                            \n",
      " 13  minutesAvailable    37605 non-null  float64                            \n",
      " 14  requestedDeparture  37605 non-null  object                             \n",
      " 15  temperature         53474 non-null  float64                            \n",
      " 16  cloud_cover         53474 non-null  float64                            \n",
      " 17  precipitation       53474 non-null  float64                            \n",
      "dtypes: datetime64[ns, America/Los_Angeles](3), float64(9), int64(2), object(3), timedelta64[ns](1)\n",
      "memory usage: 7.8+ MB\n"
     ]
    }
   ],
   "source": [
    "merge.to_csv(\"cleanChargingDataFull.csv\")\n",
    "merge.dropna(subset=[\"doneChargingTime\"], inplace=True)\n",
    "merge.dropna(subset=[\"temperature\"], inplace=True)\n",
    "merge.info()\n",
    "merge.to_csv(\"cleanChargingDataFewNull.csv\")"
   ]
  },
  {
   "cell_type": "markdown",
   "metadata": {},
   "source": [
    "Maybe even one with zero null values, so only the ones with user inputs."
   ]
  },
  {
   "cell_type": "code",
   "execution_count": 62,
   "metadata": {},
   "outputs": [],
   "source": [
    "merge.dropna(subset=[\"userID_x\"], inplace=True)\n",
    "merge.to_csv(\"cleanChargingDataNoNull.csv\")"
   ]
  },
  {
   "cell_type": "code",
   "execution_count": 63,
   "metadata": {},
   "outputs": [
    {
     "name": "stdout",
     "output_type": "stream",
     "text": [
      "<class 'pandas.core.frame.DataFrame'>\n",
      "Index: 37605 entries, 1151 to 65004\n",
      "Data columns (total 18 columns):\n",
      " #   Column              Non-Null Count  Dtype                              \n",
      "---  ------              --------------  -----                              \n",
      " 0   id                  37605 non-null  int64                              \n",
      " 1   connectionTime      37605 non-null  datetime64[ns, America/Los_Angeles]\n",
      " 2   disconnectTime      37605 non-null  datetime64[ns, America/Los_Angeles]\n",
      " 3   doneChargingTime    37605 non-null  datetime64[ns, America/Los_Angeles]\n",
      " 4   kWhDelivered        37605 non-null  float64                            \n",
      " 5   siteID              37605 non-null  int64                              \n",
      " 6   spaceID             37605 non-null  object                             \n",
      " 7   stationID           37605 non-null  object                             \n",
      " 8   userID_x            37605 non-null  float64                            \n",
      " 9   parkDuration        37605 non-null  timedelta64[ns]                    \n",
      " 10  WhPerMile           37605 non-null  float64                            \n",
      " 11  kWhRequested        37605 non-null  float64                            \n",
      " 12  milesRequested      37605 non-null  float64                            \n",
      " 13  minutesAvailable    37605 non-null  float64                            \n",
      " 14  requestedDeparture  37605 non-null  object                             \n",
      " 15  temperature         37605 non-null  float64                            \n",
      " 16  cloud_cover         37605 non-null  float64                            \n",
      " 17  precipitation       37605 non-null  float64                            \n",
      "dtypes: datetime64[ns, America/Los_Angeles](3), float64(9), int64(2), object(3), timedelta64[ns](1)\n",
      "memory usage: 5.5+ MB\n"
     ]
    }
   ],
   "source": [
    "merge.info()"
   ]
  },
  {
   "cell_type": "code",
   "execution_count": null,
   "metadata": {},
   "outputs": [],
   "source": []
  }
 ],
 "metadata": {
  "kernelspec": {
   "display_name": ".venv",
   "language": "python",
   "name": "python3"
  },
  "language_info": {
   "codemirror_mode": {
    "name": "ipython",
    "version": 3
   },
   "file_extension": ".py",
   "mimetype": "text/x-python",
   "name": "python",
   "nbconvert_exporter": "python",
   "pygments_lexer": "ipython3",
   "version": "3.11.9"
  }
 },
 "nbformat": 4,
 "nbformat_minor": 2
}
