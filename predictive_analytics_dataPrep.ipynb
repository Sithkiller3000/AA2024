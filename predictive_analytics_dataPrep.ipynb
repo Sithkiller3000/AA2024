{
 "cells": [
  {
   "cell_type": "markdown",
   "metadata": {},
   "source": [
    "First conceptual idea of splitting each row of the data set by hour for the predictive analytics models (in order to later re-aggregate the data by hour more easily)"
   ]
  },
  {
   "cell_type": "code",
   "execution_count": 71,
   "metadata": {},
   "outputs": [],
   "source": [
    "import pandas as pd\n",
    "from datetime import timedelta"
   ]
  },
  {
   "cell_type": "code",
   "execution_count": 72,
   "metadata": {},
   "outputs": [],
   "source": [
    "data = pd.read_csv(\"cleanData/cleanChargingDataNoNull.csv\")\n"
   ]
  },
  {
   "cell_type": "code",
   "execution_count": 73,
   "metadata": {},
   "outputs": [],
   "source": [
    "data[\"connectionTime\"] = pd.to_datetime(data[\"connectionTime\"])\n",
    "data[\"disconnectTime\"] = pd.to_datetime(data[\"disconnectTime\"])"
   ]
  },
  {
   "cell_type": "code",
   "execution_count": 74,
   "metadata": {},
   "outputs": [],
   "source": [
    "first_row = data.iloc[0]"
   ]
  },
  {
   "cell_type": "code",
   "execution_count": 75,
   "metadata": {},
   "outputs": [],
   "source": [
    "# Function to disaggregate sessions by hour\n",
    "def disaggregate_session(row):\n",
    "    # Generate a list of hourly intervals\n",
    "    current = row['connectionTime']\n",
    "    end = row['disconnectTime']\n",
    "    rows = []\n",
    "    while current < end:\n",
    "        # Ensure that intervals stay within the session's bounds\n",
    "        if current == current.ceil(\"h\"):\n",
    "            next_hour = min(current + timedelta(hours=1), end)\n",
    "        else:\n",
    "            next_hour = min(current.ceil(\"h\"), end)\n",
    "        rows.append({'id': row['id'], \n",
    "                     'connectionTime': current, \n",
    "                     'disconnectTime': next_hour})\n",
    "        current = next_hour\n",
    "    return rows"
   ]
  },
  {
   "cell_type": "code",
   "execution_count": 76,
   "metadata": {},
   "outputs": [
    {
     "data": {
      "text/plain": [
       "[{'id': 52943,\n",
       "  'connectionTime': Timestamp('2018-10-09 14:26:40+0000', tz='UTC'),\n",
       "  'disconnectTime': Timestamp('2018-10-09 15:00:00+0000', tz='UTC')},\n",
       " {'id': 52943,\n",
       "  'connectionTime': Timestamp('2018-10-09 15:00:00+0000', tz='UTC'),\n",
       "  'disconnectTime': Timestamp('2018-10-09 16:00:00+0000', tz='UTC')},\n",
       " {'id': 52943,\n",
       "  'connectionTime': Timestamp('2018-10-09 16:00:00+0000', tz='UTC'),\n",
       "  'disconnectTime': Timestamp('2018-10-09 17:00:00+0000', tz='UTC')},\n",
       " {'id': 52943,\n",
       "  'connectionTime': Timestamp('2018-10-09 17:00:00+0000', tz='UTC'),\n",
       "  'disconnectTime': Timestamp('2018-10-09 18:00:00+0000', tz='UTC')},\n",
       " {'id': 52943,\n",
       "  'connectionTime': Timestamp('2018-10-09 18:00:00+0000', tz='UTC'),\n",
       "  'disconnectTime': Timestamp('2018-10-09 18:48:12+0000', tz='UTC')}]"
      ]
     },
     "execution_count": 76,
     "metadata": {},
     "output_type": "execute_result"
    }
   ],
   "source": [
    "dis_rows = disaggregate_session(first_row)\n",
    "dis_rows"
   ]
  }
 ],
 "metadata": {
  "kernelspec": {
   "display_name": "AA",
   "language": "python",
   "name": "python3"
  },
  "language_info": {
   "codemirror_mode": {
    "name": "ipython",
    "version": 3
   },
   "file_extension": ".py",
   "mimetype": "text/x-python",
   "name": "python",
   "nbconvert_exporter": "python",
   "pygments_lexer": "ipython3",
   "version": "3.12.7"
  }
 },
 "nbformat": 4,
 "nbformat_minor": 2
}
