{
 "cells": [
  {
   "cell_type": "code",
   "execution_count": 10,
   "metadata": {},
   "outputs": [],
   "source": [
    "import numpy as np\n",
    "import matplotlib.pyplot as plt\n",
    "import seaborn as sns\n",
    "import pandas as pd"
   ]
  },
  {
   "cell_type": "code",
   "execution_count": 11,
   "metadata": {},
   "outputs": [],
   "source": [
    "import os\n",
    "os.environ[\"KERAS_BACKEND\"] = \"torch\""
   ]
  },
  {
   "cell_type": "code",
   "execution_count": 12,
   "metadata": {},
   "outputs": [],
   "source": [
    "import keras\n",
    "from keras import Sequential # sequential model: https://keras.io/guides/sequential_model/\n",
    "from keras.layers import Dense, Dropout"
   ]
  },
  {
   "cell_type": "markdown",
   "metadata": {},
   "source": [
    "Read the data"
   ]
  },
  {
   "cell_type": "code",
   "execution_count": 13,
   "metadata": {},
   "outputs": [],
   "source": [
    "df1 = pd.read_csv(\"FINAL1.csv\")\n",
    "df2 = pd.read_csv(\"FINAL2.csv\")"
   ]
  },
  {
   "cell_type": "code",
   "execution_count": 14,
   "metadata": {},
   "outputs": [
    {
     "name": "stdout",
     "output_type": "stream",
     "text": [
      "<class 'pandas.core.frame.DataFrame'>\n",
      "RangeIndex: 16992 entries, 0 to 16991\n",
      "Data columns (total 13 columns):\n",
      " #   Column                    Non-Null Count  Dtype  \n",
      "---  ------                    --------------  -----  \n",
      " 0   datetime                  16992 non-null  object \n",
      " 1   hour                      16992 non-null  int64  \n",
      " 2   weekday                   16992 non-null  int64  \n",
      " 3   dayOfMonth                16992 non-null  int64  \n",
      " 4   month                     16992 non-null  int64  \n",
      " 5   year                      16992 non-null  int64  \n",
      " 6   total number of sessions  16992 non-null  int64  \n",
      " 7   total minutes of parking  16992 non-null  float64\n",
      " 8   temperature               16992 non-null  float64\n",
      " 9   cloud_cover               16992 non-null  float64\n",
      " 10  pressure                  16992 non-null  float64\n",
      " 11  windspeed                 16992 non-null  float64\n",
      " 12  precipitation             16992 non-null  float64\n",
      "dtypes: float64(6), int64(6), object(1)\n",
      "memory usage: 1.7+ MB\n"
     ]
    }
   ],
   "source": [
    "df1.info()"
   ]
  },
  {
   "cell_type": "markdown",
   "metadata": {},
   "source": [
    "Since we dont need datetime for the predictionand dont know the total number of sessions, we remove the columns"
   ]
  },
  {
   "cell_type": "code",
   "execution_count": 15,
   "metadata": {},
   "outputs": [
    {
     "name": "stdout",
     "output_type": "stream",
     "text": [
      "<class 'pandas.core.frame.DataFrame'>\n",
      "RangeIndex: 16992 entries, 0 to 16991\n",
      "Data columns (total 11 columns):\n",
      " #   Column                    Non-Null Count  Dtype  \n",
      "---  ------                    --------------  -----  \n",
      " 0   hour                      16992 non-null  int64  \n",
      " 1   weekday                   16992 non-null  int64  \n",
      " 2   dayOfMonth                16992 non-null  int64  \n",
      " 3   month                     16992 non-null  int64  \n",
      " 4   year                      16992 non-null  int64  \n",
      " 5   total minutes of parking  16992 non-null  float64\n",
      " 6   temperature               16992 non-null  float64\n",
      " 7   cloud_cover               16992 non-null  float64\n",
      " 8   pressure                  16992 non-null  float64\n",
      " 9   windspeed                 16992 non-null  float64\n",
      " 10  precipitation             16992 non-null  float64\n",
      "dtypes: float64(6), int64(5)\n",
      "memory usage: 1.4 MB\n"
     ]
    }
   ],
   "source": [
    "df1 = df1.drop(\"datetime\", axis=1)\n",
    "df2 = df2.drop(\"datetime\", axis=1)\n",
    "df1 = df1.drop(\"total number of sessions\", axis=1)\n",
    "df2 = df2.drop(\"total number of sessions\", axis=1)\n",
    "df1.info()"
   ]
  },
  {
   "cell_type": "markdown",
   "metadata": {},
   "source": [
    "Extracting the feature we want to predict and then we split into train, validation and test set. For now only one for transparency reasons"
   ]
  },
  {
   "cell_type": "code",
   "execution_count": 16,
   "metadata": {},
   "outputs": [],
   "source": [
    "# define x and Y\n",
    "y = df1[\"total minutes of parking\"]\n",
    "y = pd.DataFrame(y)\n",
    "X = df1.drop(\"total minutes of parking\", axis=1)"
   ]
  },
  {
   "cell_type": "markdown",
   "metadata": {},
   "source": [
    "Split the data into training, holdout and test set."
   ]
  },
  {
   "cell_type": "code",
   "execution_count": 17,
   "metadata": {},
   "outputs": [],
   "source": [
    "# Conduct train test split\n",
    "from sklearn.model_selection import train_test_split\n",
    "\n",
    "X_train, predictors_test, y_train, target_test = train_test_split(X, y, test_size=0.3, random_state=42)\n",
    "\n",
    "# now split X_train to achive 50-20-30 split\n",
    "predictors_train, predictors_hold, target_train, target_hold = train_test_split(X_train, y_train, test_size=(0.2/0.7),random_state=34)"
   ]
  },
  {
   "cell_type": "markdown",
   "metadata": {},
   "source": [
    "predictors_train, traget_train = 50% = training set\n",
    "\n",
    "predictors_hold, target_hold   = 20% = holdout set\n",
    "\n",
    "predictors_test, target_test   = 30% = test set"
   ]
  },
  {
   "cell_type": "code",
   "execution_count": 18,
   "metadata": {},
   "outputs": [],
   "source": [
    "from sklearn.preprocessing import StandardScaler\n",
    "scaler = StandardScaler()\n",
    "scaler.fit(predictors_train)\n",
    "\n",
    "#scale training set\n",
    "predictors_train = scaler.transform(predictors_train)\n",
    "\n",
    "#scale holdout set\n",
    "predictors_hold = scaler.transform(predictors_hold)\n",
    "\n",
    "#scale test set\n",
    "predictors_test = scaler.transform(predictors_test)"
   ]
  },
  {
   "cell_type": "markdown",
   "metadata": {},
   "source": [
    "Now we build the sequential NN."
   ]
  },
  {
   "cell_type": "code",
   "execution_count": 34,
   "metadata": {},
   "outputs": [],
   "source": [
    "neuralnetwork = Sequential(\n",
    "    [Dense(36, activation=\"relu\", input_shape=(10,)),\n",
    "    Dense(36, activation=\"relu\"),\n",
    "     Dense(1)])"
   ]
  },
  {
   "cell_type": "markdown",
   "metadata": {},
   "source": [
    "Comile the model. "
   ]
  },
  {
   "cell_type": "code",
   "execution_count": 35,
   "metadata": {},
   "outputs": [],
   "source": [
    "neuralnetwork.compile(loss='mse',\n",
    "             optimizer=\"adam\",\n",
    "             metrics=[\"mae\", \"mse\"])"
   ]
  },
  {
   "cell_type": "code",
   "execution_count": 36,
   "metadata": {},
   "outputs": [
    {
     "data": {
      "text/html": [
       "<pre style=\"white-space:pre;overflow-x:auto;line-height:normal;font-family:Menlo,'DejaVu Sans Mono',consolas,'Courier New',monospace\"><span style=\"font-weight: bold\">Model: \"sequential_7\"</span>\n",
       "</pre>\n"
      ],
      "text/plain": [
       "\u001b[1mModel: \"sequential_7\"\u001b[0m\n"
      ]
     },
     "metadata": {},
     "output_type": "display_data"
    },
    {
     "data": {
      "text/html": [
       "<pre style=\"white-space:pre;overflow-x:auto;line-height:normal;font-family:Menlo,'DejaVu Sans Mono',consolas,'Courier New',monospace\">┏━━━━━━━━━━━━━━━━━━━━━━━━━━━━━━━━━┳━━━━━━━━━━━━━━━━━━━━━━━━┳━━━━━━━━━━━━━━━┓\n",
       "┃<span style=\"font-weight: bold\"> Layer (type)                    </span>┃<span style=\"font-weight: bold\"> Output Shape           </span>┃<span style=\"font-weight: bold\">       Param # </span>┃\n",
       "┡━━━━━━━━━━━━━━━━━━━━━━━━━━━━━━━━━╇━━━━━━━━━━━━━━━━━━━━━━━━╇━━━━━━━━━━━━━━━┩\n",
       "│ dense_12 (<span style=\"color: #0087ff; text-decoration-color: #0087ff\">Dense</span>)                │ (<span style=\"color: #00d7ff; text-decoration-color: #00d7ff\">None</span>, <span style=\"color: #00af00; text-decoration-color: #00af00\">36</span>)             │           <span style=\"color: #00af00; text-decoration-color: #00af00\">396</span> │\n",
       "├─────────────────────────────────┼────────────────────────┼───────────────┤\n",
       "│ dense_13 (<span style=\"color: #0087ff; text-decoration-color: #0087ff\">Dense</span>)                │ (<span style=\"color: #00d7ff; text-decoration-color: #00d7ff\">None</span>, <span style=\"color: #00af00; text-decoration-color: #00af00\">36</span>)             │         <span style=\"color: #00af00; text-decoration-color: #00af00\">1,332</span> │\n",
       "├─────────────────────────────────┼────────────────────────┼───────────────┤\n",
       "│ dense_14 (<span style=\"color: #0087ff; text-decoration-color: #0087ff\">Dense</span>)                │ (<span style=\"color: #00d7ff; text-decoration-color: #00d7ff\">None</span>, <span style=\"color: #00af00; text-decoration-color: #00af00\">1</span>)              │            <span style=\"color: #00af00; text-decoration-color: #00af00\">37</span> │\n",
       "└─────────────────────────────────┴────────────────────────┴───────────────┘\n",
       "</pre>\n"
      ],
      "text/plain": [
       "┏━━━━━━━━━━━━━━━━━━━━━━━━━━━━━━━━━┳━━━━━━━━━━━━━━━━━━━━━━━━┳━━━━━━━━━━━━━━━┓\n",
       "┃\u001b[1m \u001b[0m\u001b[1mLayer (type)                   \u001b[0m\u001b[1m \u001b[0m┃\u001b[1m \u001b[0m\u001b[1mOutput Shape          \u001b[0m\u001b[1m \u001b[0m┃\u001b[1m \u001b[0m\u001b[1m      Param #\u001b[0m\u001b[1m \u001b[0m┃\n",
       "┡━━━━━━━━━━━━━━━━━━━━━━━━━━━━━━━━━╇━━━━━━━━━━━━━━━━━━━━━━━━╇━━━━━━━━━━━━━━━┩\n",
       "│ dense_12 (\u001b[38;5;33mDense\u001b[0m)                │ (\u001b[38;5;45mNone\u001b[0m, \u001b[38;5;34m36\u001b[0m)             │           \u001b[38;5;34m396\u001b[0m │\n",
       "├─────────────────────────────────┼────────────────────────┼───────────────┤\n",
       "│ dense_13 (\u001b[38;5;33mDense\u001b[0m)                │ (\u001b[38;5;45mNone\u001b[0m, \u001b[38;5;34m36\u001b[0m)             │         \u001b[38;5;34m1,332\u001b[0m │\n",
       "├─────────────────────────────────┼────────────────────────┼───────────────┤\n",
       "│ dense_14 (\u001b[38;5;33mDense\u001b[0m)                │ (\u001b[38;5;45mNone\u001b[0m, \u001b[38;5;34m1\u001b[0m)              │            \u001b[38;5;34m37\u001b[0m │\n",
       "└─────────────────────────────────┴────────────────────────┴───────────────┘\n"
      ]
     },
     "metadata": {},
     "output_type": "display_data"
    },
    {
     "data": {
      "text/html": [
       "<pre style=\"white-space:pre;overflow-x:auto;line-height:normal;font-family:Menlo,'DejaVu Sans Mono',consolas,'Courier New',monospace\"><span style=\"font-weight: bold\"> Total params: </span><span style=\"color: #00af00; text-decoration-color: #00af00\">1,765</span> (6.89 KB)\n",
       "</pre>\n"
      ],
      "text/plain": [
       "\u001b[1m Total params: \u001b[0m\u001b[38;5;34m1,765\u001b[0m (6.89 KB)\n"
      ]
     },
     "metadata": {},
     "output_type": "display_data"
    },
    {
     "data": {
      "text/html": [
       "<pre style=\"white-space:pre;overflow-x:auto;line-height:normal;font-family:Menlo,'DejaVu Sans Mono',consolas,'Courier New',monospace\"><span style=\"font-weight: bold\"> Trainable params: </span><span style=\"color: #00af00; text-decoration-color: #00af00\">1,765</span> (6.89 KB)\n",
       "</pre>\n"
      ],
      "text/plain": [
       "\u001b[1m Trainable params: \u001b[0m\u001b[38;5;34m1,765\u001b[0m (6.89 KB)\n"
      ]
     },
     "metadata": {},
     "output_type": "display_data"
    },
    {
     "data": {
      "text/html": [
       "<pre style=\"white-space:pre;overflow-x:auto;line-height:normal;font-family:Menlo,'DejaVu Sans Mono',consolas,'Courier New',monospace\"><span style=\"font-weight: bold\"> Non-trainable params: </span><span style=\"color: #00af00; text-decoration-color: #00af00\">0</span> (0.00 B)\n",
       "</pre>\n"
      ],
      "text/plain": [
       "\u001b[1m Non-trainable params: \u001b[0m\u001b[38;5;34m0\u001b[0m (0.00 B)\n"
      ]
     },
     "metadata": {},
     "output_type": "display_data"
    }
   ],
   "source": [
    "neuralnetwork.summary()"
   ]
  },
  {
   "cell_type": "code",
   "execution_count": 37,
   "metadata": {},
   "outputs": [
    {
     "name": "stdout",
     "output_type": "stream",
     "text": [
      "Epoch 1/20\n",
      "\u001b[1m213/213\u001b[0m \u001b[32m━━━━━━━━━━━━━━━━━━━━\u001b[0m\u001b[37m\u001b[0m \u001b[1m1s\u001b[0m 5ms/step - loss: 1627782.3750 - mae: 645.7691 - mse: 1627782.3750 - val_loss: 1570047.8750 - val_mae: 649.1326 - val_mse: 1570047.8750\n",
      "Epoch 2/20\n",
      "\u001b[1m213/213\u001b[0m \u001b[32m━━━━━━━━━━━━━━━━━━━━\u001b[0m\u001b[37m\u001b[0m \u001b[1m1s\u001b[0m 6ms/step - loss: 1481519.6250 - mae: 656.4870 - mse: 1481519.6250 - val_loss: 1018602.5000 - val_mae: 646.9993 - val_mse: 1018602.5000\n",
      "Epoch 3/20\n",
      "\u001b[1m213/213\u001b[0m \u001b[32m━━━━━━━━━━━━━━━━━━━━\u001b[0m\u001b[37m\u001b[0m \u001b[1m1s\u001b[0m 5ms/step - loss: 863723.0000 - mae: 628.0476 - mse: 863723.0000 - val_loss: 776303.6250 - val_mae: 654.7770 - val_mse: 776303.6250\n",
      "Epoch 4/20\n",
      "\u001b[1m213/213\u001b[0m \u001b[32m━━━━━━━━━━━━━━━━━━━━\u001b[0m\u001b[37m\u001b[0m \u001b[1m1s\u001b[0m 5ms/step - loss: 738611.7500 - mae: 639.5164 - mse: 738611.7500 - val_loss: 735063.6875 - val_mae: 636.5873 - val_mse: 735063.6875\n",
      "Epoch 5/20\n",
      "\u001b[1m213/213\u001b[0m \u001b[32m━━━━━━━━━━━━━━━━━━━━\u001b[0m\u001b[37m\u001b[0m \u001b[1m1s\u001b[0m 5ms/step - loss: 717246.0000 - mae: 623.9049 - mse: 717246.0000 - val_loss: 713753.7500 - val_mae: 616.2046 - val_mse: 713753.7500\n",
      "Epoch 6/20\n",
      "\u001b[1m213/213\u001b[0m \u001b[32m━━━━━━━━━━━━━━━━━━━━\u001b[0m\u001b[37m\u001b[0m \u001b[1m1s\u001b[0m 5ms/step - loss: 691525.5625 - mae: 603.9062 - mse: 691525.5625 - val_loss: 698440.2500 - val_mae: 602.7435 - val_mse: 698440.2500\n",
      "Epoch 7/20\n",
      "\u001b[1m213/213\u001b[0m \u001b[32m━━━━━━━━━━━━━━━━━━━━\u001b[0m\u001b[37m\u001b[0m \u001b[1m1s\u001b[0m 5ms/step - loss: 695712.0625 - mae: 598.0450 - mse: 695712.0625 - val_loss: 687513.9375 - val_mae: 590.7792 - val_mse: 687513.9375\n",
      "Epoch 8/20\n",
      "\u001b[1m213/213\u001b[0m \u001b[32m━━━━━━━━━━━━━━━━━━━━\u001b[0m\u001b[37m\u001b[0m \u001b[1m1s\u001b[0m 5ms/step - loss: 670561.7500 - mae: 580.9910 - mse: 670561.7500 - val_loss: 679036.0625 - val_mae: 579.7410 - val_mse: 679036.0625\n",
      "Epoch 9/20\n",
      "\u001b[1m213/213\u001b[0m \u001b[32m━━━━━━━━━━━━━━━━━━━━\u001b[0m\u001b[37m\u001b[0m \u001b[1m1s\u001b[0m 5ms/step - loss: 651631.0625 - mae: 562.1264 - mse: 651631.0625 - val_loss: 671523.1250 - val_mae: 570.7576 - val_mse: 671523.1250\n",
      "Epoch 10/20\n",
      "\u001b[1m213/213\u001b[0m \u001b[32m━━━━━━━━━━━━━━━━━━━━\u001b[0m\u001b[37m\u001b[0m \u001b[1m1s\u001b[0m 5ms/step - loss: 652575.3125 - mae: 558.8091 - mse: 652575.3125 - val_loss: 665730.0625 - val_mae: 562.8576 - val_mse: 665730.0625\n",
      "Epoch 11/20\n",
      "\u001b[1m213/213\u001b[0m \u001b[32m━━━━━━━━━━━━━━━━━━━━\u001b[0m\u001b[37m\u001b[0m \u001b[1m1s\u001b[0m 5ms/step - loss: 648561.4375 - mae: 550.9210 - mse: 648561.4375 - val_loss: 660613.4375 - val_mae: 555.5903 - val_mse: 660613.4375\n",
      "Epoch 12/20\n",
      "\u001b[1m213/213\u001b[0m \u001b[32m━━━━━━━━━━━━━━━━━━━━\u001b[0m\u001b[37m\u001b[0m \u001b[1m1s\u001b[0m 5ms/step - loss: 668434.1250 - mae: 558.7202 - mse: 668434.1250 - val_loss: 656523.6250 - val_mae: 549.9140 - val_mse: 656523.6250\n",
      "Epoch 13/20\n",
      "\u001b[1m213/213\u001b[0m \u001b[32m━━━━━━━━━━━━━━━━━━━━\u001b[0m\u001b[37m\u001b[0m \u001b[1m1s\u001b[0m 5ms/step - loss: 635725.9375 - mae: 537.2542 - mse: 635725.9375 - val_loss: 652353.9375 - val_mae: 545.6190 - val_mse: 652353.9375\n",
      "Epoch 14/20\n",
      "\u001b[1m213/213\u001b[0m \u001b[32m━━━━━━━━━━━━━━━━━━━━\u001b[0m\u001b[37m\u001b[0m \u001b[1m1s\u001b[0m 5ms/step - loss: 637118.8125 - mae: 535.9734 - mse: 637118.8125 - val_loss: 648893.3750 - val_mae: 541.0397 - val_mse: 648893.3750\n",
      "Epoch 15/20\n",
      "\u001b[1m213/213\u001b[0m \u001b[32m━━━━━━━━━━━━━━━━━━━━\u001b[0m\u001b[37m\u001b[0m \u001b[1m1s\u001b[0m 5ms/step - loss: 630785.5000 - mae: 529.6096 - mse: 630785.5000 - val_loss: 645490.1875 - val_mae: 537.0496 - val_mse: 645490.1875\n",
      "Epoch 16/20\n",
      "\u001b[1m213/213\u001b[0m \u001b[32m━━━━━━━━━━━━━━━━━━━━\u001b[0m\u001b[37m\u001b[0m \u001b[1m1s\u001b[0m 5ms/step - loss: 628286.7500 - mae: 522.6774 - mse: 628286.7500 - val_loss: 642695.0000 - val_mae: 533.9728 - val_mse: 642695.0000\n",
      "Epoch 17/20\n",
      "\u001b[1m213/213\u001b[0m \u001b[32m━━━━━━━━━━━━━━━━━━━━\u001b[0m\u001b[37m\u001b[0m \u001b[1m1s\u001b[0m 5ms/step - loss: 605546.3125 - mae: 513.2117 - mse: 605546.3125 - val_loss: 640530.0625 - val_mae: 530.0778 - val_mse: 640530.0625\n",
      "Epoch 18/20\n",
      "\u001b[1m213/213\u001b[0m \u001b[32m━━━━━━━━━━━━━━━━━━━━\u001b[0m\u001b[37m\u001b[0m \u001b[1m1s\u001b[0m 5ms/step - loss: 643574.2500 - mae: 528.8823 - mse: 643574.2500 - val_loss: 638022.6875 - val_mae: 526.7239 - val_mse: 638022.6875\n",
      "Epoch 19/20\n",
      "\u001b[1m213/213\u001b[0m \u001b[32m━━━━━━━━━━━━━━━━━━━━\u001b[0m\u001b[37m\u001b[0m \u001b[1m1s\u001b[0m 5ms/step - loss: 625357.5625 - mae: 517.6706 - mse: 625357.5625 - val_loss: 634778.3125 - val_mae: 524.2116 - val_mse: 634778.3125\n",
      "Epoch 20/20\n",
      "\u001b[1m213/213\u001b[0m \u001b[32m━━━━━━━━━━━━━━━━━━━━\u001b[0m\u001b[37m\u001b[0m \u001b[1m1s\u001b[0m 5ms/step - loss: 615854.9375 - mae: 510.3730 - mse: 615854.9375 - val_loss: 631601.9375 - val_mae: 521.8542 - val_mse: 631601.9375\n"
     ]
    }
   ],
   "source": [
    "history = neuralnetwork.fit(predictors_train, target_train, epochs=20, validation_split=0.2)"
   ]
  },
  {
   "cell_type": "code",
   "execution_count": 42,
   "metadata": {},
   "outputs": [
    {
     "name": "stdout",
     "output_type": "stream",
     "text": [
      "\u001b[1m266/266\u001b[0m \u001b[32m━━━━━━━━━━━━━━━━━━━━\u001b[0m\u001b[37m\u001b[0m \u001b[1m0s\u001b[0m 1ms/step\n"
     ]
    },
    {
     "data": {
      "text/plain": [
       "array([[ 570.4525  ],\n",
       "       [1930.1984  ],\n",
       "       [ 590.21716 ],\n",
       "       ...,\n",
       "       [ 208.78383 ],\n",
       "       [  14.515973],\n",
       "       [ 274.8358  ]], dtype=float32)"
      ]
     },
     "execution_count": 42,
     "metadata": {},
     "output_type": "execute_result"
    }
   ],
   "source": [
    "neuralnetwork.predict(predictors_train)"
   ]
  },
  {
   "cell_type": "code",
   "execution_count": 44,
   "metadata": {},
   "outputs": [
    {
     "data": {
      "text/html": [
       "<div>\n",
       "<style scoped>\n",
       "    .dataframe tbody tr th:only-of-type {\n",
       "        vertical-align: middle;\n",
       "    }\n",
       "\n",
       "    .dataframe tbody tr th {\n",
       "        vertical-align: top;\n",
       "    }\n",
       "\n",
       "    .dataframe thead th {\n",
       "        text-align: right;\n",
       "    }\n",
       "</style>\n",
       "<table border=\"1\" class=\"dataframe\">\n",
       "  <thead>\n",
       "    <tr style=\"text-align: right;\">\n",
       "      <th></th>\n",
       "      <th>loss</th>\n",
       "      <th>mae</th>\n",
       "      <th>mse</th>\n",
       "      <th>val_loss</th>\n",
       "      <th>val_mae</th>\n",
       "      <th>val_mse</th>\n",
       "    </tr>\n",
       "  </thead>\n",
       "  <tbody>\n",
       "    <tr>\n",
       "      <th>0</th>\n",
       "      <td>1.634208e+06</td>\n",
       "      <td>655.688354</td>\n",
       "      <td>1.634208e+06</td>\n",
       "      <td>1.570048e+06</td>\n",
       "      <td>649.132568</td>\n",
       "      <td>1.570048e+06</td>\n",
       "    </tr>\n",
       "    <tr>\n",
       "      <th>1</th>\n",
       "      <td>1.297539e+06</td>\n",
       "      <td>638.628479</td>\n",
       "      <td>1.297539e+06</td>\n",
       "      <td>1.018602e+06</td>\n",
       "      <td>646.999268</td>\n",
       "      <td>1.018602e+06</td>\n",
       "    </tr>\n",
       "    <tr>\n",
       "      <th>2</th>\n",
       "      <td>8.333932e+05</td>\n",
       "      <td>647.559082</td>\n",
       "      <td>8.333932e+05</td>\n",
       "      <td>7.763036e+05</td>\n",
       "      <td>654.776978</td>\n",
       "      <td>7.763036e+05</td>\n",
       "    </tr>\n",
       "    <tr>\n",
       "      <th>3</th>\n",
       "      <td>7.346057e+05</td>\n",
       "      <td>639.413330</td>\n",
       "      <td>7.346057e+05</td>\n",
       "      <td>7.350637e+05</td>\n",
       "      <td>636.587341</td>\n",
       "      <td>7.350637e+05</td>\n",
       "    </tr>\n",
       "    <tr>\n",
       "      <th>4</th>\n",
       "      <td>7.087552e+05</td>\n",
       "      <td>619.421265</td>\n",
       "      <td>7.087552e+05</td>\n",
       "      <td>7.137538e+05</td>\n",
       "      <td>616.204590</td>\n",
       "      <td>7.137538e+05</td>\n",
       "    </tr>\n",
       "    <tr>\n",
       "      <th>5</th>\n",
       "      <td>6.921939e+05</td>\n",
       "      <td>602.212219</td>\n",
       "      <td>6.921939e+05</td>\n",
       "      <td>6.984402e+05</td>\n",
       "      <td>602.743469</td>\n",
       "      <td>6.984402e+05</td>\n",
       "    </tr>\n",
       "    <tr>\n",
       "      <th>6</th>\n",
       "      <td>6.805506e+05</td>\n",
       "      <td>588.665710</td>\n",
       "      <td>6.805506e+05</td>\n",
       "      <td>6.875139e+05</td>\n",
       "      <td>590.779236</td>\n",
       "      <td>6.875139e+05</td>\n",
       "    </tr>\n",
       "    <tr>\n",
       "      <th>7</th>\n",
       "      <td>6.708025e+05</td>\n",
       "      <td>577.178467</td>\n",
       "      <td>6.708025e+05</td>\n",
       "      <td>6.790361e+05</td>\n",
       "      <td>579.741028</td>\n",
       "      <td>6.790361e+05</td>\n",
       "    </tr>\n",
       "    <tr>\n",
       "      <th>8</th>\n",
       "      <td>6.630546e+05</td>\n",
       "      <td>566.321716</td>\n",
       "      <td>6.630546e+05</td>\n",
       "      <td>6.715231e+05</td>\n",
       "      <td>570.757629</td>\n",
       "      <td>6.715231e+05</td>\n",
       "    </tr>\n",
       "    <tr>\n",
       "      <th>9</th>\n",
       "      <td>6.568435e+05</td>\n",
       "      <td>558.306641</td>\n",
       "      <td>6.568435e+05</td>\n",
       "      <td>6.657301e+05</td>\n",
       "      <td>562.857605</td>\n",
       "      <td>6.657301e+05</td>\n",
       "    </tr>\n",
       "    <tr>\n",
       "      <th>10</th>\n",
       "      <td>6.515131e+05</td>\n",
       "      <td>550.556213</td>\n",
       "      <td>6.515131e+05</td>\n",
       "      <td>6.606134e+05</td>\n",
       "      <td>555.590332</td>\n",
       "      <td>6.606134e+05</td>\n",
       "    </tr>\n",
       "    <tr>\n",
       "      <th>11</th>\n",
       "      <td>6.464158e+05</td>\n",
       "      <td>544.840027</td>\n",
       "      <td>6.464158e+05</td>\n",
       "      <td>6.565236e+05</td>\n",
       "      <td>549.914001</td>\n",
       "      <td>6.565236e+05</td>\n",
       "    </tr>\n",
       "    <tr>\n",
       "      <th>12</th>\n",
       "      <td>6.422288e+05</td>\n",
       "      <td>538.610046</td>\n",
       "      <td>6.422288e+05</td>\n",
       "      <td>6.523539e+05</td>\n",
       "      <td>545.619019</td>\n",
       "      <td>6.523539e+05</td>\n",
       "    </tr>\n",
       "    <tr>\n",
       "      <th>13</th>\n",
       "      <td>6.386249e+05</td>\n",
       "      <td>533.834778</td>\n",
       "      <td>6.386249e+05</td>\n",
       "      <td>6.488934e+05</td>\n",
       "      <td>541.039673</td>\n",
       "      <td>6.488934e+05</td>\n",
       "    </tr>\n",
       "    <tr>\n",
       "      <th>14</th>\n",
       "      <td>6.352278e+05</td>\n",
       "      <td>529.905518</td>\n",
       "      <td>6.352278e+05</td>\n",
       "      <td>6.454902e+05</td>\n",
       "      <td>537.049561</td>\n",
       "      <td>6.454902e+05</td>\n",
       "    </tr>\n",
       "    <tr>\n",
       "      <th>15</th>\n",
       "      <td>6.320881e+05</td>\n",
       "      <td>526.171570</td>\n",
       "      <td>6.320881e+05</td>\n",
       "      <td>6.426950e+05</td>\n",
       "      <td>533.972839</td>\n",
       "      <td>6.426950e+05</td>\n",
       "    </tr>\n",
       "    <tr>\n",
       "      <th>16</th>\n",
       "      <td>6.291824e+05</td>\n",
       "      <td>523.095642</td>\n",
       "      <td>6.291824e+05</td>\n",
       "      <td>6.405301e+05</td>\n",
       "      <td>530.077759</td>\n",
       "      <td>6.405301e+05</td>\n",
       "    </tr>\n",
       "    <tr>\n",
       "      <th>17</th>\n",
       "      <td>6.260809e+05</td>\n",
       "      <td>520.115662</td>\n",
       "      <td>6.260809e+05</td>\n",
       "      <td>6.380227e+05</td>\n",
       "      <td>526.723877</td>\n",
       "      <td>6.380227e+05</td>\n",
       "    </tr>\n",
       "    <tr>\n",
       "      <th>18</th>\n",
       "      <td>6.227954e+05</td>\n",
       "      <td>516.939697</td>\n",
       "      <td>6.227954e+05</td>\n",
       "      <td>6.347783e+05</td>\n",
       "      <td>524.211609</td>\n",
       "      <td>6.347783e+05</td>\n",
       "    </tr>\n",
       "    <tr>\n",
       "      <th>19</th>\n",
       "      <td>6.198308e+05</td>\n",
       "      <td>514.226135</td>\n",
       "      <td>6.198308e+05</td>\n",
       "      <td>6.316019e+05</td>\n",
       "      <td>521.854187</td>\n",
       "      <td>6.316019e+05</td>\n",
       "    </tr>\n",
       "  </tbody>\n",
       "</table>\n",
       "</div>"
      ],
      "text/plain": [
       "            loss         mae           mse      val_loss     val_mae  \\\n",
       "0   1.634208e+06  655.688354  1.634208e+06  1.570048e+06  649.132568   \n",
       "1   1.297539e+06  638.628479  1.297539e+06  1.018602e+06  646.999268   \n",
       "2   8.333932e+05  647.559082  8.333932e+05  7.763036e+05  654.776978   \n",
       "3   7.346057e+05  639.413330  7.346057e+05  7.350637e+05  636.587341   \n",
       "4   7.087552e+05  619.421265  7.087552e+05  7.137538e+05  616.204590   \n",
       "5   6.921939e+05  602.212219  6.921939e+05  6.984402e+05  602.743469   \n",
       "6   6.805506e+05  588.665710  6.805506e+05  6.875139e+05  590.779236   \n",
       "7   6.708025e+05  577.178467  6.708025e+05  6.790361e+05  579.741028   \n",
       "8   6.630546e+05  566.321716  6.630546e+05  6.715231e+05  570.757629   \n",
       "9   6.568435e+05  558.306641  6.568435e+05  6.657301e+05  562.857605   \n",
       "10  6.515131e+05  550.556213  6.515131e+05  6.606134e+05  555.590332   \n",
       "11  6.464158e+05  544.840027  6.464158e+05  6.565236e+05  549.914001   \n",
       "12  6.422288e+05  538.610046  6.422288e+05  6.523539e+05  545.619019   \n",
       "13  6.386249e+05  533.834778  6.386249e+05  6.488934e+05  541.039673   \n",
       "14  6.352278e+05  529.905518  6.352278e+05  6.454902e+05  537.049561   \n",
       "15  6.320881e+05  526.171570  6.320881e+05  6.426950e+05  533.972839   \n",
       "16  6.291824e+05  523.095642  6.291824e+05  6.405301e+05  530.077759   \n",
       "17  6.260809e+05  520.115662  6.260809e+05  6.380227e+05  526.723877   \n",
       "18  6.227954e+05  516.939697  6.227954e+05  6.347783e+05  524.211609   \n",
       "19  6.198308e+05  514.226135  6.198308e+05  6.316019e+05  521.854187   \n",
       "\n",
       "         val_mse  \n",
       "0   1.570048e+06  \n",
       "1   1.018602e+06  \n",
       "2   7.763036e+05  \n",
       "3   7.350637e+05  \n",
       "4   7.137538e+05  \n",
       "5   6.984402e+05  \n",
       "6   6.875139e+05  \n",
       "7   6.790361e+05  \n",
       "8   6.715231e+05  \n",
       "9   6.657301e+05  \n",
       "10  6.606134e+05  \n",
       "11  6.565236e+05  \n",
       "12  6.523539e+05  \n",
       "13  6.488934e+05  \n",
       "14  6.454902e+05  \n",
       "15  6.426950e+05  \n",
       "16  6.405301e+05  \n",
       "17  6.380227e+05  \n",
       "18  6.347783e+05  \n",
       "19  6.316019e+05  "
      ]
     },
     "execution_count": 44,
     "metadata": {},
     "output_type": "execute_result"
    }
   ],
   "source": [
    "history_df = pd.DataFrame(history.history)\n",
    "history_df"
   ]
  },
  {
   "cell_type": "code",
   "execution_count": 45,
   "metadata": {},
   "outputs": [
    {
     "data": {
      "text/html": [
       "<div>\n",
       "<style scoped>\n",
       "    .dataframe tbody tr th:only-of-type {\n",
       "        vertical-align: middle;\n",
       "    }\n",
       "\n",
       "    .dataframe tbody tr th {\n",
       "        vertical-align: top;\n",
       "    }\n",
       "\n",
       "    .dataframe thead th {\n",
       "        text-align: right;\n",
       "    }\n",
       "</style>\n",
       "<table border=\"1\" class=\"dataframe\">\n",
       "  <thead>\n",
       "    <tr style=\"text-align: right;\">\n",
       "      <th></th>\n",
       "      <th>rmse</th>\n",
       "      <th>val_rmse</th>\n",
       "    </tr>\n",
       "  </thead>\n",
       "  <tbody>\n",
       "    <tr>\n",
       "      <th>0</th>\n",
       "      <td>1278.361500</td>\n",
       "      <td>1253.015513</td>\n",
       "    </tr>\n",
       "    <tr>\n",
       "      <th>1</th>\n",
       "      <td>1139.095749</td>\n",
       "      <td>1009.258391</td>\n",
       "    </tr>\n",
       "    <tr>\n",
       "      <th>2</th>\n",
       "      <td>912.903746</td>\n",
       "      <td>881.080941</td>\n",
       "    </tr>\n",
       "    <tr>\n",
       "      <th>3</th>\n",
       "      <td>857.091411</td>\n",
       "      <td>857.358552</td>\n",
       "    </tr>\n",
       "    <tr>\n",
       "      <th>4</th>\n",
       "      <td>841.875993</td>\n",
       "      <td>844.839482</td>\n",
       "    </tr>\n",
       "    <tr>\n",
       "      <th>5</th>\n",
       "      <td>831.981933</td>\n",
       "      <td>835.727378</td>\n",
       "    </tr>\n",
       "    <tr>\n",
       "      <th>6</th>\n",
       "      <td>824.954885</td>\n",
       "      <td>829.164602</td>\n",
       "    </tr>\n",
       "    <tr>\n",
       "      <th>7</th>\n",
       "      <td>819.025335</td>\n",
       "      <td>824.036445</td>\n",
       "    </tr>\n",
       "    <tr>\n",
       "      <th>8</th>\n",
       "      <td>814.281624</td>\n",
       "      <td>819.465146</td>\n",
       "    </tr>\n",
       "    <tr>\n",
       "      <th>9</th>\n",
       "      <td>810.458821</td>\n",
       "      <td>815.922829</td>\n",
       "    </tr>\n",
       "    <tr>\n",
       "      <th>10</th>\n",
       "      <td>807.163630</td>\n",
       "      <td>812.781297</td>\n",
       "    </tr>\n",
       "    <tr>\n",
       "      <th>11</th>\n",
       "      <td>803.999845</td>\n",
       "      <td>810.261455</td>\n",
       "    </tr>\n",
       "    <tr>\n",
       "      <th>12</th>\n",
       "      <td>801.391797</td>\n",
       "      <td>807.684306</td>\n",
       "    </tr>\n",
       "    <tr>\n",
       "      <th>13</th>\n",
       "      <td>799.140124</td>\n",
       "      <td>805.539183</td>\n",
       "    </tr>\n",
       "    <tr>\n",
       "      <th>14</th>\n",
       "      <td>797.011802</td>\n",
       "      <td>803.424040</td>\n",
       "    </tr>\n",
       "    <tr>\n",
       "      <th>15</th>\n",
       "      <td>795.039661</td>\n",
       "      <td>801.682606</td>\n",
       "    </tr>\n",
       "    <tr>\n",
       "      <th>16</th>\n",
       "      <td>793.210210</td>\n",
       "      <td>800.331220</td>\n",
       "    </tr>\n",
       "    <tr>\n",
       "      <th>17</th>\n",
       "      <td>791.252725</td>\n",
       "      <td>798.763224</td>\n",
       "    </tr>\n",
       "    <tr>\n",
       "      <th>18</th>\n",
       "      <td>789.173856</td>\n",
       "      <td>796.729761</td>\n",
       "    </tr>\n",
       "    <tr>\n",
       "      <th>19</th>\n",
       "      <td>787.293346</td>\n",
       "      <td>794.733878</td>\n",
       "    </tr>\n",
       "  </tbody>\n",
       "</table>\n",
       "</div>"
      ],
      "text/plain": [
       "           rmse     val_rmse\n",
       "0   1278.361500  1253.015513\n",
       "1   1139.095749  1009.258391\n",
       "2    912.903746   881.080941\n",
       "3    857.091411   857.358552\n",
       "4    841.875993   844.839482\n",
       "5    831.981933   835.727378\n",
       "6    824.954885   829.164602\n",
       "7    819.025335   824.036445\n",
       "8    814.281624   819.465146\n",
       "9    810.458821   815.922829\n",
       "10   807.163630   812.781297\n",
       "11   803.999845   810.261455\n",
       "12   801.391797   807.684306\n",
       "13   799.140124   805.539183\n",
       "14   797.011802   803.424040\n",
       "15   795.039661   801.682606\n",
       "16   793.210210   800.331220\n",
       "17   791.252725   798.763224\n",
       "18   789.173856   796.729761\n",
       "19   787.293346   794.733878"
      ]
     },
     "execution_count": 45,
     "metadata": {},
     "output_type": "execute_result"
    }
   ],
   "source": [
    "root_metrics_df = history_df[[\"mse\", \"val_mse\"]].apply(np.sqrt)\n",
    "root_metrics_df.rename({\"mse\":\"rmse\", \"val_mse\":\"val_rmse\"}, axis=1, inplace=True)\n",
    "root_metrics_df"
   ]
  },
  {
   "cell_type": "code",
   "execution_count": 46,
   "metadata": {},
   "outputs": [
    {
     "data": {
      "image/png": "[encoded data removed]",
      "text/plain": [
       "<Figure size 640x480 with 1 Axes>"
      ]
     },
     "metadata": {},
     "output_type": "display_data"
    }
   ],
   "source": [
    "plt.Figure(figsize=(14,6), dpi=100)\n",
    "\n",
    "plt.plot(root_metrics_df[\"rmse\"], label = 'Training error')\n",
    "plt.plot(root_metrics_df[\"val_rmse\"], label = 'Validation error')\n",
    "\n",
    "plt.xlabel(\"Epochs\")\n",
    "plt.ylabel(\"Root Mean Squared Error\")\n",
    "\n",
    "# plt.xlim([0, epochs])\n",
    "plt.xticks(range(1,20))\n",
    "plt.legend()\n",
    "\n",
    "plt.show()"
   ]
  },
  {
   "cell_type": "markdown",
   "metadata": {},
   "source": [
    "ToDO\n",
    "\n",
    "Rescale the data\n",
    "\n",
    "perform feature selection (based on the impact of each feature)\n",
    "\n",
    "split data into train/validation/test sets\n",
    "\n",
    "throw the training data into the NN and see how it performs\n",
    "\n",
    "adapt hyperparameters\n",
    "\n",
    "evaluate model"
   ]
  },
  {
   "cell_type": "markdown",
   "metadata": {},
   "source": []
  }
 ],
 "metadata": {
  "kernelspec": {
   "display_name": "AA",
   "language": "python",
   "name": "python3"
  },
  "language_info": {
   "codemirror_mode": {
    "name": "ipython",
    "version": 3
   },
   "file_extension": ".py",
   "mimetype": "text/x-python",
   "name": "python",
   "nbconvert_exporter": "python",
   "pygments_lexer": "ipython3",
   "version": "3.12.7"
  }
 },
 "nbformat": 4,
 "nbformat_minor": 2
}
