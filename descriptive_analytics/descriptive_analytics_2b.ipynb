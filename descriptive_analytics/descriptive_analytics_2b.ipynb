{
 "cells": [
  {
   "cell_type": "markdown",
   "metadata": {},
   "source": [
    "# Descriptive Analytics: Key Performance Indicators (KPIs)\n",
    "\n",
    "Define three time-dependent KPIs that you would include in\n",
    "a dashboard for the hub operator. These KPIs must provide an immediate overview of the current\n",
    "hub operation and how it is doing in terms of utilization or other business-related aspects. Briefly\n",
    "explain the rationale behind selecting each KPI, explain why you have chosen it and, where\n",
    "needed, provide references. Calculate hourly values for the selected KPIs and visualize them over\n",
    "time. Which trends do you observe? How do you explain them?"
   ]
  },
  {
   "cell_type": "markdown",
   "metadata": {},
   "source": [
    "Each of these KPIs provides real-time operational insights and can be displayed in a live dashboard. They complement each other by covering different aspects of operations:\n",
    "\n",
    "* Capacity utilization (Current Station Utilization)\n",
    "* Operational efficiency (Station Turnover Rate)\n",
    "* Infrastructure load (Current Power Demand)\n",
    "* User experience (Estimated Wait Time)"
   ]
  },
  {
   "cell_type": "markdown",
   "metadata": {},
   "source": [
    "## Current Station Utilization\n"
   ]
  },
  {
   "cell_type": "markdown",
   "metadata": {},
   "source": [
    "\n",
    "### Definition\n",
    "Percentage of charging stations currently in active use at any given moment\n",
    "\n",
    "### Business Value\n",
    "* Immediate visibility into resource usage\n",
    "* Helps identify peak times and capacity issues\n",
    "* Supports capacity planning decisions\n",
    "\n",
    "### Target\n",
    "70-85% (balancing availability with efficient use)"
   ]
  },
  {
   "cell_type": "code",
   "execution_count": null,
   "metadata": {},
   "outputs": [],
   "source": [
    "active_stations = len(df[(df['connectionTime'] <= current_time) & \n",
    "                       (df['disconnectTime'] > current_time)])\n",
    "utilization = (active_stations / total_stations) * 100"
   ]
  },
  {
   "cell_type": "markdown",
   "metadata": {},
   "source": [
    "## Station Turnover Rate\n",
    "\n",
    "### Definition\n",
    "Number of charging sessions completed per station per hour\n",
    "\n",
    "### Business Value\n",
    "* Indicates efficiency of station usage\n",
    "* Helps identify potential misuse (overstaying)\n",
    "* Indicator for potential revenue\n",
    "\n",
    "### Target\n",
    "0.5-1.0 sessions per station per hour (site-dependent)"
   ]
  },
  {
   "cell_type": "code",
   "execution_count": null,
   "metadata": {},
   "outputs": [],
   "source": [
    "completed_sessions = len(df[df['disconnectTime'].dt.hour == current_hour])\n",
    "turnover_rate = completed_sessions / total_stations"
   ]
  },
  {
   "cell_type": "markdown",
   "metadata": {},
   "source": [
    "## Current Power Demand\n",
    "\n",
    "### Definition\n",
    "Total power currently being drawn by all active charging sessions\n",
    "\n",
    "### Business Value\n",
    "* Grid load management\n",
    "* Peak demand monitoring\n",
    "* Energy cost optimization\n",
    "\n",
    "### Target\n",
    "Below site's maximum power capacity (e.g., <80% of total capacity)"
   ]
  },
  {
   "cell_type": "code",
   "execution_count": null,
   "metadata": {
    "vscode": {
     "languageId": "plaintext"
    }
   },
   "outputs": [],
   "source": [
    "active_sessions = df[(df['connectionTime'] <= current_time) & \n",
    "                    (df['disconnectTime'] > current_time)]\n",
    "current_power = sum(active_sessions['kWhDelivered'] / \n",
    "                   active_sessions['parkDuration'].dt.hours)"
   ]
  },
  {
   "cell_type": "markdown",
   "metadata": {},
   "source": [
    "## Estimated Wait Time\n",
    "\n",
    "### Definition\n",
    "Expected time until next available charging station\n",
    "\n",
    "### Business Value\n",
    "* Customer experience management\n",
    "* Queue management\n",
    "* Real-time user communication\n",
    "\n",
    "### Target\n",
    "<15 minutes during peak hours, 0 minutes during off-peak"
   ]
  },
  {
   "cell_type": "code",
   "execution_count": null,
   "metadata": {
    "vscode": {
     "languageId": "plaintext"
    }
   },
   "outputs": [],
   "source": [
    "if current_utilization < 100%:\n",
    "    wait_time = 0\n",
    "else:\n",
    "    wait_time = min(df[df['doneChargingTime'] > current_time]\n",
    "                   ['doneChargingTime']) - current_time"
   ]
  },
  {
   "cell_type": "markdown",
   "metadata": {},
   "source": [
    "---"
   ]
  },
  {
   "cell_type": "markdown",
   "metadata": {},
   "source": [
    "These KPIs could be displayed side-by-side for comparison, which might help identify patterns unique to each type of site (e.g., longer sessions but lower turnover at the private site vs. shorter sessions and higher turnover at the public site)."
   ]
  }
 ],
 "metadata": {
  "language_info": {
   "name": "python"
  }
 },
 "nbformat": 4,
 "nbformat_minor": 2
}
