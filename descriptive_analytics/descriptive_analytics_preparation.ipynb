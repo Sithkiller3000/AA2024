{
 "cells": [
  {
   "cell_type": "markdown",
   "metadata": {},
   "source": [
    "# Imports"
   ]
  },
  {
   "cell_type": "code",
   "execution_count": 19,
   "metadata": {},
   "outputs": [],
   "source": [
    "import pandas as pd\n",
    "import matplotlib.pyplot as plt\n",
    "import numpy as np\n",
    "from scipy import stats\n",
    "from datetime import datetime \n",
    "import pytz"
   ]
  },
  {
   "cell_type": "markdown",
   "metadata": {},
   "source": [
    "# Data Preperation"
   ]
  },
  {
   "cell_type": "code",
   "execution_count": 20,
   "metadata": {},
   "outputs": [],
   "source": [
    "#Read .csv input\n",
    "df = pd.read_csv(\"../charging_sessions.csv\")"
   ]
  },
  {
   "cell_type": "markdown",
   "metadata": {},
   "source": [
    "Updating timezone"
   ]
  },
  {
   "cell_type": "code",
   "execution_count": 21,
   "metadata": {},
   "outputs": [],
   "source": [
    "dest_timezone = \"America/Los_Angeles\"\n",
    "date_columns = [\"connectionTime\", \"disconnectTime\", \"doneChargingTime\"]\n",
    "\n",
    "for date_column in date_columns:\n",
    "    df[date_column] = pd.to_datetime(df[date_column], errors='coerce')\n",
    "    df[date_column] = df[date_column].dt.tz_convert(dest_timezone)\n"
   ]
  },
  {
   "cell_type": "markdown",
   "metadata": {},
   "source": [
    "Adding additional columns"
   ]
  },
  {
   "cell_type": "code",
   "execution_count": 22,
   "metadata": {},
   "outputs": [],
   "source": [
    "#Add column for duration of the session (based on connection duration, not charging duration)\n",
    "df[\"connectionDuration\"] = (df[\"disconnectTime\"] - df[\"connectionTime\"]).map(lambda x: x.seconds/3600)\n",
    "\n",
    "#Add column for weekday of session (based on connectionTime Timestamp)\n",
    "df[\"month\"] = df[\"connectionTime\"].map(lambda x: x.month)\n",
    "df[\"weekday\"] = df[\"connectionTime\"].map(lambda x: x.weekday())\n",
    "df[\"hour\"] = df[\"connectionTime\"].map(lambda x: x.hour)\n",
    "df[\"hour_disconnect\"] = df[\"disconnectTime\"].map(lambda x: x.hour)"
   ]
  },
  {
   "cell_type": "markdown",
   "metadata": {},
   "source": [
    "Splitting data set"
   ]
  },
  {
   "cell_type": "code",
   "execution_count": 23,
   "metadata": {},
   "outputs": [],
   "source": [
    "#Split data set by the two sites\n",
    "df1 = df[df[\"siteID\"] == 1]\n",
    "df2 = df[df[\"siteID\"] == 2]"
   ]
  },
  {
   "cell_type": "markdown",
   "metadata": {},
   "source": [
    "Grouping data"
   ]
  },
  {
   "cell_type": "code",
   "execution_count": 24,
   "metadata": {},
   "outputs": [],
   "source": [
    "#Group the data by weekday\n",
    "df_grouped_weekday = df.groupby(\"weekday\")\n",
    "df1_grouped_weekday = df1.groupby(\"weekday\")\n",
    "df2_grouped_weekday = df2.groupby(\"weekday\")\n",
    "\n",
    "#Group the data by hour of the connection time\n",
    "df_grouped_hour = df.groupby(\"hour\")\n",
    "df1_grouped_hour = df1.groupby(\"hour\")\n",
    "df2_grouped_hour = df2.groupby(\"hour\")\n",
    "\n",
    "#Group the data by hour of the disconnect time\n",
    "df_grouped_hour_disconnect = df.groupby(\"hour_disconnect\")\n",
    "df1_grouped_hour_disconnect = df1.groupby(\"hour_disconnect\")\n",
    "df2_grouped_hour_disconnect = df2.groupby(\"hour_disconnect\")\n",
    "\n",
    "#Group the data by month of the connection time\n",
    "df_grouped_month = df.groupby(\"month\")\n",
    "df1_grouped_month = df1.groupby(\"month\")\n",
    "df2_grouped_month = df2.groupby(\"month\")"
   ]
  },
  {
   "cell_type": "markdown",
   "metadata": {},
   "source": [
    "Preparations for Plots"
   ]
  },
  {
   "cell_type": "code",
   "execution_count": 40,
   "metadata": {},
   "outputs": [],
   "source": [
    "weekdays = [\"Monday\", \"Tuesday\", \"Wednesday\", \"Thursday\", \"Friday\", \"Saturday\", \"Sunday\"]\n",
    "months = [\"January\", \"February\", \"March\", \"April\", \"May\", \"June\", \"July\", \"August\", \"September\", \"October\", \"November\", \"December\"]"
   ]
  }
 ],
 "metadata": {
  "kernelspec": {
   "display_name": "AA",
   "language": "python",
   "name": "python3"
  },
  "language_info": {
   "codemirror_mode": {
    "name": "ipython",
    "version": 3
   },
   "file_extension": ".py",
   "mimetype": "text/x-python",
   "name": "python",
   "nbconvert_exporter": "python",
   "pygments_lexer": "ipython3",
   "version": "3.12.7"
  }
 },
 "nbformat": 4,
 "nbformat_minor": 2
}
