{
 "cells": [
  {
   "cell_type": "code",
   "execution_count": 1,
   "id": "9d5bf5d7-7a29-4c48-9ef0-e853fe289924",
   "metadata": {},
   "outputs": [],
   "source": [
    "import pandas as pd\n",
    "from sklearn.preprocessing import StandardScaler\n",
    "import numpy as np\n",
    "from sklearn.cluster import KMeans\n",
    "import matplotlib.pyplot as plt\n",
    "import seaborn as sns\n",
    "from scipy import stats\n",
    "\n",
    "#for json convertion\n",
    "import ast"
   ]
  },
  {
   "cell_type": "code",
   "execution_count": 2,
   "id": "53ecdd90-b0df-4e8e-b461-e0fceb943a83",
   "metadata": {},
   "outputs": [],
   "source": [
    "# Load Data Sets\n",
    "df_NoNull = pd.read_csv('../cleanData/cleanChargingDataNoNull.csv')\n",
    "df_Weather = pd.read_csv('../1_data preparation/weather_burbank_airport.csv')"
   ]
  },
  {
   "cell_type": "code",
   "execution_count": 3,
   "id": "7e6b3e90-2bc6-4edc-86d9-fe0f795c7b36",
   "metadata": {},
   "outputs": [
    {
     "name": "stdout",
     "output_type": "stream",
     "text": [
      "   Unnamed: 0     id       connectionTime       disconnectTime  \\\n",
      "0        1151  52943  2018-10-09 15:26:40  2018-10-09 19:48:12   \n",
      "1        1156  53111  2018-10-12 10:07:47  2018-10-12 15:58:22   \n",
      "2        1157  53138  2018-10-15 06:46:28  2018-10-15 17:43:30   \n",
      "3        1158  53213  2018-10-16 07:13:50  2018-10-16 15:03:42   \n",
      "4        1159  53258  2018-10-16 15:29:34  2018-10-16 20:30:34   \n",
      "\n",
      "      doneChargingTime  kWhDelivered  siteID  spaceID    stationID  userID_x  \\\n",
      "0  2018-10-09 19:28:29        12.034       1  AG-1F01  1-1-193-825     383.0   \n",
      "1  2018-10-12 14:46:28        14.289       1  AG-1F01  1-1-193-825     335.0   \n",
      "2  2018-10-15 09:03:25         6.457       1  AG-1F01  1-1-193-825     365.0   \n",
      "3  2018-10-16 10:11:45         7.416       1  AG-1F01  1-1-193-825     374.0   \n",
      "4  2018-10-16 18:33:31         9.909       1  AG-1F01  1-1-193-825     467.0   \n",
      "\n",
      "      parkDuration  WhPerMile  kWhRequested  milesRequested  minutesAvailable  \\\n",
      "0  0 days 04:21:32      400.0        15.200            38.0             264.0   \n",
      "1  0 days 05:50:35      275.0        15.125            55.0             289.0   \n",
      "2  0 days 10:57:02      350.0        10.150            29.0              60.0   \n",
      "3  0 days 07:49:52      400.0        16.000            40.0             409.0   \n",
      "4  0 days 05:01:00      425.0        21.250            50.0             242.0   \n",
      "\n",
      "              requestedDeparture  temperature  cloud_cover  precipitation  \n",
      "0  Wed, 10 Oct 2018 02:50:40 GMT        18.26        28.74            0.0  \n",
      "1  Fri, 12 Oct 2018 21:56:47 GMT        18.81        33.56            0.0  \n",
      "2  Mon, 15 Oct 2018 14:46:28 GMT        20.11        33.61            0.0  \n",
      "3  Tue, 16 Oct 2018 21:02:50 GMT        18.56        33.56            0.0  \n",
      "4  Wed, 17 Oct 2018 02:31:34 GMT        18.56        33.56            0.0  \n",
      "      city            timestamp  temperature  cloud_cover  \\\n",
      "0  Burbank  2018-01-01 08:53:00          9.0         33.0   \n",
      "1  Burbank  2018-01-01 09:53:00          9.0         33.0   \n",
      "2  Burbank  2018-01-01 10:53:00          9.0         21.0   \n",
      "3  Burbank  2018-01-01 11:53:00          9.0         29.0   \n",
      "4  Burbank  2018-01-01 12:53:00          8.0         33.0   \n",
      "\n",
      "  cloud_cover_description  pressure  windspeed  precipitation  \\\n",
      "0                    Fair    991.75        9.0            0.0   \n",
      "1                    Fair    992.08        0.0            0.0   \n",
      "2                    Haze    992.08        0.0            0.0   \n",
      "3           Partly Cloudy    992.08        0.0            0.0   \n",
      "4                    Fair    992.08        0.0            0.0   \n",
      "\n",
      "   felt_temperature  \n",
      "0               8.0  \n",
      "1               9.0  \n",
      "2               9.0  \n",
      "3               9.0  \n",
      "4               8.0  \n"
     ]
    }
   ],
   "source": [
    "#control if data was loaded\n",
    "print(df_NoNull.head())\n",
    "print(df_Weather.head())"
   ]
  },
  {
   "cell_type": "markdown",
   "id": "c50a3c51-25db-40ea-9b38-c3784cf38c8b",
   "metadata": {},
   "source": [
    "## Feature Calculation for the original data set"
   ]
  },
  {
   "cell_type": "markdown",
   "id": "37bef402-3706-41aa-9595-78cd8062fbdf",
   "metadata": {},
   "source": [
    "1. Session Duration (minutes): Time between connectionTime and disconnectTime.\n",
    "2. Charging Duration (minutes): Time between connectionTime and doneChargingTime.\n",
    "3. Idle Duration (minutes): Time between doneChargingTime and disconnectTime.\n",
    "4. Charging Efficiency (kWh per minute): kWhDelivered / Charging Duration.\n",
    "5. User Inputs: Extract fields from the userInputs JSON object (e.g., kWhRequested, minutesAvailable)."
   ]
  },
  {
   "cell_type": "code",
   "execution_count": 4,
   "id": "243153c9-7b86-4164-accc-ed27aee27e71",
   "metadata": {},
   "outputs": [],
   "source": [
    "#since the data is in a string-format, there must be a conversion to datetime before performing calculations on it\n",
    "df_NoNull['connectionTime'] = pd.to_datetime(df_NoNull['connectionTime'])\n",
    "df_NoNull['disconnectTime'] = pd.to_datetime(df_NoNull['disconnectTime'])\n",
    "df_NoNull['doneChargingTime'] = pd.to_datetime(df_NoNull['doneChargingTime'])\n",
    "#calculating the session duration in minutes\n",
    "df_NoNull['session_duration'] = (df_NoNull['disconnectTime'] - df_NoNull['connectionTime']).dt.total_seconds() / 60\n",
    "df_NoNull['charging_duration'] = (df_NoNull['doneChargingTime'] - df_NoNull['connectionTime']).dt.total_seconds() / 60\n",
    "df_NoNull['idle_duration'] = (df_NoNull['disconnectTime'] - df_NoNull['doneChargingTime']).dt.total_seconds() / 60\n",
    "df_NoNull['charging_efficiency'] = df_NoNull['kWhDelivered'] / (df_NoNull['charging_duration'] / 60)"
   ]
  },
  {
   "cell_type": "code",
   "execution_count": 5,
   "id": "4b84979a-ca04-4fd7-a2e5-498a691225a6",
   "metadata": {},
   "outputs": [
    {
     "name": "stdout",
     "output_type": "stream",
     "text": [
      "   session_duration  charging_duration  idle_duration  charging_efficiency  \\\n",
      "0        261.533333         241.816667      19.716667             2.985898   \n",
      "1        350.583333         278.683333      71.900000             3.076395   \n",
      "2        657.033333         136.950000     520.083333             2.828916   \n",
      "3        469.866667         177.916667     291.950000             2.500946   \n",
      "4        301.000000         183.950000     117.050000             3.232074   \n",
      "\n",
      "   kWhDelivered  \n",
      "0        12.034  \n",
      "1        14.289  \n",
      "2         6.457  \n",
      "3         7.416  \n",
      "4         9.909  \n"
     ]
    }
   ],
   "source": [
    "features_all = df_NoNull[['session_duration', 'charging_duration', 'idle_duration', 'charging_efficiency', 'kWhDelivered']]\n",
    "\n",
    "print(features_all.head())"
   ]
  },
  {
   "cell_type": "markdown",
   "id": "7043b854-49bd-47e0-923f-eced88ee2e7f",
   "metadata": {},
   "source": [
    "## Cleaning up the data in \"features_all\""
   ]
  },
  {
   "cell_type": "code",
   "execution_count": 6,
   "id": "ac9483e6-07c1-46a7-b612-59cb3748e99b",
   "metadata": {},
   "outputs": [
    {
     "name": "stdout",
     "output_type": "stream",
     "text": [
      "session_duration       0\n",
      "charging_duration      0\n",
      "idle_duration          0\n",
      "charging_efficiency    0\n",
      "kWhDelivered           0\n",
      "dtype: int64\n",
      "session_duration       0\n",
      "charging_duration      0\n",
      "idle_duration          0\n",
      "charging_efficiency    0\n",
      "kWhDelivered           0\n",
      "dtype: int64\n"
     ]
    }
   ],
   "source": [
    "print(features_all.isnull().sum())  # Check for missing values in each column\n",
    "print(np.isinf(features_all).sum())  # Check for infinite values"
   ]
  },
  {
   "cell_type": "markdown",
   "id": "f5fff890-39d9-4ad9-8564-32a91d607558",
   "metadata": {},
   "source": [
    "# Splitting up the two parking sites into new files"
   ]
  },
  {
   "cell_type": "code",
   "execution_count": 7,
   "id": "b4b1b655-0d8a-4d83-8b96-928b471a4d26",
   "metadata": {},
   "outputs": [
    {
     "name": "stdout",
     "output_type": "stream",
     "text": [
      "CSV files created: 'GarageA_data.csv' and 'GarageB_data.csv'\n"
     ]
    }
   ],
   "source": [
    "# Filter data for each garage\n",
    "site1_CSV = df_NoNull[df_NoNull['siteID'] == 1]\n",
    "site2_CSV = df_NoNull[df_NoNull['siteID'] == 2]\n",
    "\n",
    "# Save each garage's data to a separate CSV file\n",
    "site1_CSV.to_csv('GarageA_data.csv', index=False)\n",
    "site2_CSV.to_csv('GarageB_data.csv', index=False)\n",
    "\n",
    "print(\"CSV files created: 'GarageA_data.csv' and 'GarageB_data.csv'\")"
   ]
  },
  {
   "cell_type": "code",
   "execution_count": 8,
   "id": "ee5371f8-8502-4ac3-9d95-c97b249b86bc",
   "metadata": {},
   "outputs": [],
   "source": [
    "# Load new Data Sets\n",
    "site1 = pd.read_csv('GarageA_data.csv')\n",
    "site2 = pd.read_csv('GarageB_data.csv')"
   ]
  },
  {
   "cell_type": "markdown",
   "id": "c5aecdc5-04f0-42fe-9c45-7e568a663b05",
   "metadata": {},
   "source": [
    "## Feature Calculation for Site 1"
   ]
  },
  {
   "cell_type": "code",
   "execution_count": 9,
   "id": "65e5e88d-760a-4936-b414-ac26d713b281",
   "metadata": {},
   "outputs": [],
   "source": [
    "#since the data is in a string-format, there must be a conversion to datetime before performing calculations on it\n",
    "site1['connectionTime'] = pd.to_datetime(site1['connectionTime'])\n",
    "site1['disconnectTime'] = pd.to_datetime(site1['disconnectTime'])\n",
    "site1['doneChargingTime'] = pd.to_datetime(site1['doneChargingTime'])\n",
    "\n",
    "site1['session_duration'] = (site1['disconnectTime'] - site1['connectionTime']).dt.total_seconds() / 60\n",
    "site1['charging_duration'] = (site1['doneChargingTime'] - site1['connectionTime']).dt.total_seconds() / 60\n",
    "site1['idle_duration'] = (site1['disconnectTime'] - site1['doneChargingTime']).dt.total_seconds() / 60\n",
    "site1['charging_efficiency'] = site1['kWhDelivered'] / (site1['charging_duration'] / 60)"
   ]
  },
  {
   "cell_type": "code",
   "execution_count": 10,
   "id": "2b3caac7-d9ea-46df-b6b7-2cb73bd726b8",
   "metadata": {},
   "outputs": [
    {
     "name": "stdout",
     "output_type": "stream",
     "text": [
      "   session_duration  charging_duration  idle_duration  charging_efficiency  \\\n",
      "0        261.533333         241.816667      19.716667             2.985898   \n",
      "1        350.583333         278.683333      71.900000             3.076395   \n",
      "2        657.033333         136.950000     520.083333             2.828916   \n",
      "3        469.866667         177.916667     291.950000             2.500946   \n",
      "4        301.000000         183.950000     117.050000             3.232074   \n",
      "\n",
      "   kWhDelivered  \n",
      "0        12.034  \n",
      "1        14.289  \n",
      "2         6.457  \n",
      "3         7.416  \n",
      "4         9.909  \n",
      "session_duration       0\n",
      "charging_duration      0\n",
      "idle_duration          0\n",
      "charging_efficiency    0\n",
      "kWhDelivered           0\n",
      "dtype: int64\n",
      "session_duration       0\n",
      "charging_duration      0\n",
      "idle_duration          0\n",
      "charging_efficiency    0\n",
      "kWhDelivered           0\n",
      "dtype: int64\n"
     ]
    }
   ],
   "source": [
    "featuresA = site1[['session_duration', 'charging_duration', 'idle_duration', 'charging_efficiency', 'kWhDelivered']]\n",
    "\n",
    "print(featuresA.head())\n",
    "print(featuresA.isnull().sum())  # Check for missing values in each column\n",
    "print(np.isinf(featuresA).sum())  # Check for infinite values"
   ]
  },
  {
   "cell_type": "markdown",
   "id": "f2e591c0-e548-4179-b08d-60d0068211cd",
   "metadata": {},
   "source": [
    "## Feature Calculation for Site 2"
   ]
  },
  {
   "cell_type": "code",
   "execution_count": 11,
   "id": "c127b01d-2d42-4384-9936-cfffbf3962bf",
   "metadata": {},
   "outputs": [],
   "source": [
    "#since the data is in a string-format, there must be a conversion to datetime before performing calculations on it\n",
    "site2['connectionTime'] = pd.to_datetime(site2['connectionTime'])\n",
    "site2['disconnectTime'] = pd.to_datetime(site2['disconnectTime'])\n",
    "site2['doneChargingTime'] = pd.to_datetime(site2['doneChargingTime'])\n",
    "\n",
    "site2['session_duration'] = (site2['disconnectTime'] - site2['connectionTime']).dt.total_seconds() / 60\n",
    "site2['charging_duration'] = (site2['doneChargingTime'] - site2['connectionTime']).dt.total_seconds() / 60\n",
    "site2['idle_duration'] = (site2['disconnectTime'] - site2['doneChargingTime']).dt.total_seconds() / 60\n",
    "site2['charging_efficiency'] = site2['kWhDelivered'] / (site2['charging_duration'] / 60)"
   ]
  },
  {
   "cell_type": "code",
   "execution_count": 12,
   "id": "b5a00407-c32b-48a9-bd47-64879ed16421",
   "metadata": {},
   "outputs": [
    {
     "name": "stdout",
     "output_type": "stream",
     "text": [
      "   session_duration  charging_duration  idle_duration  charging_efficiency  \\\n",
      "0        161.633333         150.000000      11.633333             3.387600   \n",
      "1        236.900000          96.733333     140.166667             3.084562   \n",
      "2        210.233333          91.083333     119.150000             3.099360   \n",
      "3        316.566667         226.766667      89.800000             3.209202   \n",
      "4        126.966667         126.883333       0.083333             3.351740   \n",
      "\n",
      "   kWhDelivered  \n",
      "0         8.469  \n",
      "1         4.973  \n",
      "2         4.705  \n",
      "3        12.129  \n",
      "4         7.088  \n",
      "session_duration       0\n",
      "charging_duration      0\n",
      "idle_duration          0\n",
      "charging_efficiency    0\n",
      "kWhDelivered           0\n",
      "dtype: int64\n",
      "session_duration       0\n",
      "charging_duration      0\n",
      "idle_duration          0\n",
      "charging_efficiency    0\n",
      "kWhDelivered           0\n",
      "dtype: int64\n"
     ]
    }
   ],
   "source": [
    "featuresB = site2[['session_duration', 'charging_duration', 'idle_duration', 'charging_efficiency', 'kWhDelivered']]\n",
    "\n",
    "print(featuresB.head())\n",
    "print(featuresB.isnull().sum())  # Check for missing values in each column\n",
    "print(np.isinf(featuresB).sum())  # Check for infinite values"
   ]
  },
  {
   "cell_type": "markdown",
   "id": "e3afff32-357c-4802-bd43-ee64e458837f",
   "metadata": {},
   "source": [
    "# Removing the Outliers"
   ]
  },
  {
   "cell_type": "markdown",
   "id": "e4ed0307-4cef-4700-b80a-e7cb8a5553ba",
   "metadata": {},
   "source": [
    "## Outlier-Removal for the original data set"
   ]
  },
  {
   "cell_type": "code",
   "execution_count": 13,
   "id": "a030a57f-1245-4369-88bd-4a49eaa5c8d1",
   "metadata": {},
   "outputs": [],
   "source": [
    "# Step 1: IQR Filtering\n",
    "Q1 = features_all.quantile(0.25)\n",
    "Q3 = features_all.quantile(0.75)\n",
    "IQR = Q3 - Q1\n",
    "df_filtered = features_all[~((features_all < (Q1 - 1.5 * IQR)) | (features_all > (Q3 + 1.5 * IQR))).any(axis=1)]\n",
    "\n",
    "# Step 2: Percentile-Based Filtering (Final Check)\n",
    "lower_bound = df_filtered.quantile(0.01)\n",
    "upper_bound = df_filtered.quantile(0.99)\n",
    "df_filtered = df_filtered[~((df_filtered < lower_bound) | (df_filtered > upper_bound)).any(axis=1)]\n",
    "\n",
    "# Save the cleaned dataset\n",
    "df_filtered.to_csv(\"features_all_no_outliers.csv\", index=False)"
   ]
  },
  {
   "cell_type": "markdown",
   "id": "72772ac4-1f9d-49f4-b12b-793a8b89b348",
   "metadata": {},
   "source": [
    "Checking if removal was successfull"
   ]
  },
  {
   "cell_type": "code",
   "execution_count": 14,
   "id": "b771b0f2-e352-4006-94e9-1dd17eabb8ca",
   "metadata": {},
   "outputs": [
    {
     "name": "stdout",
     "output_type": "stream",
     "text": [
      "Original Data:\n",
      "       session_duration  charging_duration  idle_duration  \\\n",
      "count      37605.000000       37605.000000   37605.000000   \n",
      "mean         412.859240         225.500994     187.358246   \n",
      "std          257.857414         173.788328     216.905684   \n",
      "min            5.116667           5.050000     -59.933333   \n",
      "25%          225.733333         112.900000       4.466667   \n",
      "50%          452.266667         187.500000     139.250000   \n",
      "75%          570.816667         298.833333     325.250000   \n",
      "max        12859.316667       12000.950000    9367.283333   \n",
      "\n",
      "       charging_efficiency  kWhDelivered  \n",
      "count         37605.000000  37605.000000  \n",
      "mean              3.747800     13.429647  \n",
      "std               1.797052     10.910784  \n",
      "min               0.006710      0.503000  \n",
      "25%               2.509527      6.005000  \n",
      "50%               3.242888     10.475000  \n",
      "75%               5.328567     16.055000  \n",
      "max              93.740032     75.528000  \n",
      "\n",
      "Filtered Data:\n",
      "       session_duration  charging_duration  idle_duration  \\\n",
      "count      31214.000000       31214.000000   31214.000000   \n",
      "mean         382.038144         190.496025     191.542118   \n",
      "std          190.698914         107.902794     171.069196   \n",
      "min           32.050000          23.366667      -1.000000   \n",
      "25%          207.270833         109.170833      12.133333   \n",
      "50%          404.191667         167.000000     167.366667   \n",
      "75%          557.133333         252.945833     336.750000   \n",
      "max          761.266667         551.800000     603.983333   \n",
      "\n",
      "       charging_efficiency  kWhDelivered  \n",
      "count         31214.000000  31214.000000  \n",
      "mean              3.603939     10.642248  \n",
      "std               1.502508      6.217813  \n",
      "min               0.775861      1.058000  \n",
      "25%               2.496424      5.893000  \n",
      "50%               3.149644      9.460500  \n",
      "75%               4.933825     13.807000  \n",
      "max               6.732137     29.798000  \n"
     ]
    }
   ],
   "source": [
    "print(\"Original Data:\")\n",
    "print(features_all.describe())\n",
    "\n",
    "print(\"\\nFiltered Data:\")\n",
    "print(df_filtered.describe())\n"
   ]
  },
  {
   "cell_type": "markdown",
   "id": "e34c4c91-e527-417d-bafe-d2eaee01d33c",
   "metadata": {},
   "source": [
    "## Outlier Removal Site 1"
   ]
  },
  {
   "cell_type": "code",
   "execution_count": 15,
   "id": "c77e6101-57f3-4ba9-9ced-9e52092e7087",
   "metadata": {},
   "outputs": [],
   "source": [
    "# Step 1: IQR Filtering\n",
    "Q1 = featuresA.quantile(0.25)\n",
    "Q3 = featuresA.quantile(0.75)\n",
    "IQR = Q3 - Q1\n",
    "df_filteredA = featuresA[~((featuresA < (Q1 - 1.5 * IQR)) | (featuresA > (Q3 + 1.5 * IQR))).any(axis=1)]\n",
    "\n",
    "# Step 2: Percentile-Based Filtering (Final Check)\n",
    "lower_bound = df_filteredA.quantile(0.01)\n",
    "upper_bound = df_filteredA.quantile(0.99)\n",
    "df_filteredA = df_filteredA[~((df_filteredA < lower_bound) | (df_filteredA > upper_bound)).any(axis=1)]\n",
    "\n",
    "# Save the cleaned dataset\n",
    "df_filteredA.to_csv(\"featuresA_no_outliers.csv\", index=False)"
   ]
  },
  {
   "cell_type": "markdown",
   "id": "794eb78b-9de5-47f0-83f6-9d84c8d8b82d",
   "metadata": {},
   "source": [
    "Checking if removal was successfull"
   ]
  },
  {
   "cell_type": "code",
   "execution_count": 16,
   "id": "bd787cf2-26fb-4be6-81be-ba2efe3423ed",
   "metadata": {},
   "outputs": [
    {
     "name": "stdout",
     "output_type": "stream",
     "text": [
      "Original Data:\n",
      "       session_duration  charging_duration  idle_duration  \\\n",
      "count      24787.000000       24787.000000   24787.000000   \n",
      "mean         426.730139         249.627974     177.102166   \n",
      "std          195.802306         145.088098     170.999296   \n",
      "min            5.983333           6.933333      -1.000000   \n",
      "25%          253.525000         138.591667       6.433333   \n",
      "50%          495.400000         220.700000     140.833333   \n",
      "75%          581.850000         324.891667     312.416667   \n",
      "max         3248.866667        1516.833333    3003.316667   \n",
      "\n",
      "       charging_efficiency  kWhDelivered  \n",
      "count         24787.000000  24787.000000  \n",
      "mean              3.663764     14.855866  \n",
      "std               1.739099     11.254901  \n",
      "min               0.059558      0.503000  \n",
      "25%               2.432975      6.959500  \n",
      "50%               3.165454     11.746000  \n",
      "75%               5.181552     18.402000  \n",
      "max              93.740032     68.609000  \n",
      "\n",
      "Filtered Data:\n",
      "       session_duration  charging_duration  idle_duration  \\\n",
      "count      21041.000000       21041.000000   21041.000000   \n",
      "mean         408.924813         221.539398     187.385414   \n",
      "std          185.972017         112.343412     164.587226   \n",
      "min           41.983333          31.316667      -1.000000   \n",
      "25%          240.516667         134.850000      15.133333   \n",
      "50%          464.866667         203.583333     170.116667   \n",
      "75%          573.250000         285.533333     325.333333   \n",
      "max          733.566667         573.950000     559.066667   \n",
      "\n",
      "       charging_efficiency  kWhDelivered  \n",
      "count         21041.000000  21041.000000  \n",
      "mean              3.528226     12.330334  \n",
      "std               1.452252      7.126081  \n",
      "min               0.838380      1.405000  \n",
      "25%               2.412877      6.867000  \n",
      "50%               3.076592     11.001000  \n",
      "75%               4.800782     15.121000  \n",
      "max               6.337656     34.149000  \n"
     ]
    }
   ],
   "source": [
    "print(\"Original Data:\")\n",
    "print(featuresA.describe())\n",
    "\n",
    "print(\"\\nFiltered Data:\")\n",
    "print(df_filteredA.describe())"
   ]
  },
  {
   "cell_type": "markdown",
   "id": "d34971cc-d631-4cd6-813f-55b2c496f45b",
   "metadata": {},
   "source": [
    "## Outlier Removal Site 2"
   ]
  },
  {
   "cell_type": "code",
   "execution_count": 17,
   "id": "a70129b1-4767-4630-9bca-a83453257bb1",
   "metadata": {},
   "outputs": [],
   "source": [
    "# Step 1: IQR Filtering\n",
    "Q1 = featuresB.quantile(0.25)\n",
    "Q3 = featuresB.quantile(0.75)\n",
    "IQR = Q3 - Q1\n",
    "df_filteredB = featuresB[~((featuresB < (Q1 - 1.5 * IQR)) | (featuresB > (Q3 + 1.5 * IQR))).any(axis=1)]\n",
    "\n",
    "# Step 2: Percentile-Based Filtering (Final Check)\n",
    "lower_bound = df_filteredB.quantile(0.01)\n",
    "upper_bound = df_filteredB.quantile(0.99)\n",
    "df_filteredB = df_filteredB[~((df_filteredB < lower_bound) | (df_filteredB > upper_bound)).any(axis=1)]\n",
    "\n",
    "# Save the cleaned dataset\n",
    "df_filteredB.to_csv(\"featuresB_no_outliers.csv\", index=False)"
   ]
  },
  {
   "cell_type": "markdown",
   "id": "ce568ea7-a6a4-47ef-a818-668177274129",
   "metadata": {},
   "source": [
    "Checking if removal was successfull"
   ]
  },
  {
   "cell_type": "code",
   "execution_count": 18,
   "id": "a1ea2e66-7b4c-489a-878b-d63b6565a7b4",
   "metadata": {},
   "outputs": [
    {
     "name": "stdout",
     "output_type": "stream",
     "text": [
      "Original Data:\n",
      "       session_duration  charging_duration  idle_duration  \\\n",
      "count      12818.000000       12818.000000   12818.000000   \n",
      "mean         386.036181         178.845085     207.191096   \n",
      "std          346.186695         211.187571     284.414159   \n",
      "min            5.116667           5.050000     -59.933333   \n",
      "25%          170.766667          78.800000       2.250000   \n",
      "50%          382.233333         123.516667     136.308333   \n",
      "75%          529.366667         228.545833     350.850000   \n",
      "max        12859.316667       12000.950000    9367.283333   \n",
      "\n",
      "       charging_efficiency  kWhDelivered  \n",
      "count         12818.000000  12818.000000  \n",
      "mean              3.910307     10.671675  \n",
      "std               1.893642      9.631365  \n",
      "min               0.006710      0.510000  \n",
      "25%               2.718440      4.382250  \n",
      "50%               3.324363      7.735500  \n",
      "75%               5.760983     13.551000  \n",
      "max              59.172100     75.528000  \n",
      "\n",
      "Filtered Data:\n",
      "       session_duration  charging_duration  idle_duration  \\\n",
      "count      10453.000000       10453.000000   10453.000000   \n",
      "mean         334.410016         133.788585     200.621431   \n",
      "std          193.114019          80.755515     183.758313   \n",
      "min           21.550000          18.650000      -0.966667   \n",
      "25%          150.600000          75.583333       9.233333   \n",
      "50%          334.700000         113.933333     164.833333   \n",
      "75%          504.666667         173.383333     358.433333   \n",
      "max          820.050000         424.333333     672.500000   \n",
      "\n",
      "       charging_efficiency  kWhDelivered  \n",
      "count         10453.000000  10453.000000  \n",
      "mean              3.882889      8.365447  \n",
      "std               1.566952      5.330025  \n",
      "min               0.813812      0.912000  \n",
      "25%               2.844755      4.233000  \n",
      "50%               3.306644      6.745000  \n",
      "75%               5.475416     11.865000  \n",
      "max               6.843381     25.118000  \n"
     ]
    }
   ],
   "source": [
    "print(\"Original Data:\")\n",
    "print(featuresB.describe())\n",
    "\n",
    "print(\"\\nFiltered Data:\")\n",
    "print(df_filteredB.describe())"
   ]
  },
  {
   "cell_type": "markdown",
   "id": "7a0bbfe7-75e4-4d75-bbc4-217436c7e697",
   "metadata": {},
   "source": [
    "# Normalizing the data for clustering"
   ]
  },
  {
   "cell_type": "code",
   "execution_count": 20,
   "id": "641f3962-e085-472a-88b1-e27eb2393907",
   "metadata": {},
   "outputs": [],
   "source": [
    "# Load new Data Sets\n",
    "both_sites_new = pd.read_csv('features_all_no_outliers.csv')\n",
    "site1_new = pd.read_csv('featuresA_no_outliers.csv')\n",
    "site2_new = pd.read_csv('featuresB_no_outliers.csv')"
   ]
  },
  {
   "cell_type": "code",
   "execution_count": 22,
   "id": "d4fd2a3f-af0d-46a8-bdfd-c0a15f1ee19d",
   "metadata": {},
   "outputs": [],
   "source": [
    "# Original dataset\n",
    "scaled_features = scaler.fit_transform(both_sites_new)\n",
    "scaled_features_df = pd.DataFrame(scaled_features, columns=both_sites_new.columns)\n",
    "scaled_features_df.to_csv(\"scaled_features_all.csv\", index=False)\n",
    "\n",
    "# Parking site A\n",
    "scaled_featuresA = scaler.fit_transform(site1_new)\n",
    "scaled_featuresA_df = pd.DataFrame(scaled_featuresA, columns=site1_new.columns)\n",
    "scaled_featuresA_df.to_csv(\"scaled_featuresA.csv\", index=False)\n",
    "\n",
    "# Parking site B\n",
    "scaled_featuresB = scaler.fit_transform(site2_new)\n",
    "scaled_featuresB_df = pd.DataFrame(scaled_featuresB, columns=site2_new.columns)\n",
    "scaled_featuresB_df.to_csv(\"scaled_featuresB.csv\", index=False)"
   ]
  }
 ],
 "metadata": {
  "kernelspec": {
   "display_name": "AA",
   "language": "python",
   "name": "python3"
  },
  "language_info": {
   "codemirror_mode": {
    "name": "ipython",
    "version": 3
   },
   "file_extension": ".py",
   "mimetype": "text/x-python",
   "name": "python",
   "nbconvert_exporter": "python",
   "pygments_lexer": "ipython3",
   "version": "3.12.7"
  }
 },
 "nbformat": 4,
 "nbformat_minor": 5
}
